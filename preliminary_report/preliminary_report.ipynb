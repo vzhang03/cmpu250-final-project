{
 "cells": [
  {
   "cell_type": "markdown",
   "id": "c090f5b2",
   "metadata": {},
   "source": [
    "# Notebook Setup"
   ]
  },
  {
   "cell_type": "code",
   "execution_count": 89,
   "id": "dfdf8bf5-d543-4dc8-82ea-5516767d4b13",
   "metadata": {},
   "outputs": [],
   "source": [
    "import pandas as pd\n",
    "import numpy as np\n",
    "import matplotlib.pyplot as plt\n",
    "import seaborn as sns\n",
    "import statsmodels as sm\n",
    "import statsmodels.formula.api as smf\n",
    "import sklearn as sk"
   ]
  },
  {
   "cell_type": "code",
   "execution_count": 90,
   "id": "d2a1606c-f2a6-46e2-99ed-8296ac9c5c17",
   "metadata": {},
   "outputs": [
    {
     "name": "stderr",
     "output_type": "stream",
     "text": [
      "C:\\Users\\erin\\AppData\\Local\\Temp\\ipykernel_33092\\1206858015.py:1: DtypeWarning: Columns (11) have mixed types. Specify dtype option on import or set low_memory=False.\n",
      "  df = pd.read_csv('../data/clean-data/cleaned_nys_data.csv')\n"
     ]
    },
    {
     "name": "stdout",
     "output_type": "stream",
     "text": [
      "<class 'pandas.core.frame.DataFrame'>\n",
      "RangeIndex: 233144 entries, 0 to 233143\n",
      "Data columns (total 20 columns):\n",
      " #   Column                             Non-Null Count   Dtype  \n",
      "---  ------                             --------------   -----  \n",
      " 0   action_taken                       233144 non-null  int64  \n",
      " 1   derived_race                       233144 non-null  object \n",
      " 2   derived_ethnicity                  233144 non-null  object \n",
      " 3   applicant_sex                      233144 non-null  int64  \n",
      " 4   applicant_age                      233144 non-null  object \n",
      " 5   income                             226538 non-null  float64\n",
      " 6   debt_to_income_ratio               100684 non-null  float64\n",
      " 7   applicant_credit_score_type        233144 non-null  int64  \n",
      " 8   loan_amount                        233144 non-null  float64\n",
      " 9   loan_to_value_ratio                224447 non-null  float64\n",
      " 10  interest_rate                      176143 non-null  float64\n",
      " 11  rate_spread                        151964 non-null  object \n",
      " 12  loan_type                          233144 non-null  int64  \n",
      " 13  loan_purpose                       233144 non-null  int64  \n",
      " 14  lien_status                        233144 non-null  int64  \n",
      " 15  property_value                     233144 non-null  float64\n",
      " 16  occupancy_type                     233144 non-null  int64  \n",
      " 17  tract_minority_population_percent  233144 non-null  float64\n",
      " 18  aus-1                              233144 non-null  int64  \n",
      " 19  denial_reason-1                    233144 non-null  int64  \n",
      "dtypes: float64(7), int64(9), object(4)\n",
      "memory usage: 35.6+ MB\n"
     ]
    }
   ],
   "source": [
    "df = pd.read_csv('../data/clean-data/cleaned_nys_data.csv')\n",
    "df_original = df.copy()\n",
    "df.info()"
   ]
  },
  {
   "cell_type": "markdown",
   "id": "5693386d",
   "metadata": {},
   "source": [
    "# Impact Analysis Using HMDA Loan Approval Data, proxy outcome\n",
    "regression models (MLR, logistic regression, ML algorithms?) – Victor, Zheka\n",
    "Keeping predictors similar but testing across different outcome variables (loan amount, interest rate, application outcome)\n",
    "Switching zip-code with race and testing other outcomes (?)"
   ]
  },
  {
   "cell_type": "markdown",
   "id": "fcbbf3eb",
   "metadata": {},
   "source": [
    "Model 1: logistic regression that predicts loan outcome\n",
    "Model 2: loan amount (MLR)\n",
    "Model 3: interest rate (MLR), rate_spread"
   ]
  },
  {
   "cell_type": "code",
   "execution_count": 93,
   "id": "d31e1581",
   "metadata": {},
   "outputs": [
    {
     "data": {
      "text/html": [
       "<div>\n",
       "<style scoped>\n",
       "    .dataframe tbody tr th:only-of-type {\n",
       "        vertical-align: middle;\n",
       "    }\n",
       "\n",
       "    .dataframe tbody tr th {\n",
       "        vertical-align: top;\n",
       "    }\n",
       "\n",
       "    .dataframe thead th {\n",
       "        text-align: right;\n",
       "    }\n",
       "</style>\n",
       "<table border=\"1\" class=\"dataframe\">\n",
       "  <thead>\n",
       "    <tr style=\"text-align: right;\">\n",
       "      <th></th>\n",
       "      <th>applicant_sex</th>\n",
       "      <th>binary_race</th>\n",
       "      <th>binary_ethnicity</th>\n",
       "      <th>binary_denied</th>\n",
       "    </tr>\n",
       "  </thead>\n",
       "  <tbody>\n",
       "    <tr>\n",
       "      <th>applicant_sex</th>\n",
       "      <td>1.000000</td>\n",
       "      <td>-0.089703</td>\n",
       "      <td>-0.000775</td>\n",
       "      <td>0.021091</td>\n",
       "    </tr>\n",
       "    <tr>\n",
       "      <th>binary_race</th>\n",
       "      <td>-0.089703</td>\n",
       "      <td>1.000000</td>\n",
       "      <td>-0.000189</td>\n",
       "      <td>-0.124504</td>\n",
       "    </tr>\n",
       "    <tr>\n",
       "      <th>binary_ethnicity</th>\n",
       "      <td>-0.000775</td>\n",
       "      <td>-0.000189</td>\n",
       "      <td>1.000000</td>\n",
       "      <td>-0.063217</td>\n",
       "    </tr>\n",
       "    <tr>\n",
       "      <th>binary_denied</th>\n",
       "      <td>0.021091</td>\n",
       "      <td>-0.124504</td>\n",
       "      <td>-0.063217</td>\n",
       "      <td>1.000000</td>\n",
       "    </tr>\n",
       "  </tbody>\n",
       "</table>\n",
       "</div>"
      ],
      "text/plain": [
       "                  applicant_sex  binary_race  binary_ethnicity  binary_denied\n",
       "applicant_sex          1.000000    -0.089703         -0.000775       0.021091\n",
       "binary_race           -0.089703     1.000000         -0.000189      -0.124504\n",
       "binary_ethnicity      -0.000775    -0.000189          1.000000      -0.063217\n",
       "binary_denied          0.021091    -0.124504         -0.063217       1.000000"
      ]
     },
     "execution_count": 93,
     "metadata": {},
     "output_type": "execute_result"
    }
   ],
   "source": [
    "df_slice = df.loc[(df['derived_race'] == \"Black or African American\") | (df['derived_race'] == \"White\")]\n",
    "df_race = df_slice.copy()\n",
    "df_race['binary_race'] = 0\n",
    "df_race.loc[df_race['derived_race'] == \"White\", 'binary_race'] = 1\n",
    "\n",
    "# # transform derived ethnicity to binary column for Hispanic or not\n",
    "df_race['binary_ethnicity'] = 0\n",
    "df_race.loc[df_race['derived_ethnicity'] == \"Not Hispanic or Latino\", 'binary_ethnicity'] = 1\n",
    "\n",
    "# # create column with 0 for denied applications/preapproval requests and 1 for accepted applications\n",
    "df_race['binary_denied'] = 0\n",
    "df_race.loc[(df_race['action_taken'] == 3) | (df_race['action_taken'] == 7), 'binary_denied'] = 1\n",
    "\n",
    "# # create correlation matrix\n",
    "df_corr = df_race[['applicant_sex','binary_race','binary_ethnicity','binary_denied']]\n",
    "df_corr.corr()"
   ]
  },
  {
   "cell_type": "code",
   "execution_count": 94,
   "id": "a1170c5d",
   "metadata": {},
   "outputs": [
    {
     "data": {
      "text/plain": [
       "Index(['action_taken', 'derived_race', 'derived_ethnicity', 'applicant_sex',\n",
       "       'applicant_age', 'income', 'debt_to_income_ratio',\n",
       "       'applicant_credit_score_type', 'loan_amount', 'loan_to_value_ratio',\n",
       "       'interest_rate', 'rate_spread', 'loan_type', 'loan_purpose',\n",
       "       'lien_status', 'property_value', 'occupancy_type',\n",
       "       'tract_minority_population_percent', 'aus-1', 'denial_reason-1'],\n",
       "      dtype='object')"
      ]
     },
     "execution_count": 94,
     "metadata": {},
     "output_type": "execute_result"
    }
   ],
   "source": [
    "df.columns"
   ]
  },
  {
   "cell_type": "code",
   "execution_count": 95,
   "id": "311b7b2b",
   "metadata": {},
   "outputs": [
    {
     "name": "stdout",
     "output_type": "stream",
     "text": [
      "<class 'pandas.core.frame.DataFrame'>\n",
      "RangeIndex: 233144 entries, 0 to 233143\n",
      "Data columns (total 20 columns):\n",
      " #   Column                             Non-Null Count   Dtype  \n",
      "---  ------                             --------------   -----  \n",
      " 0   action_taken                       233144 non-null  int64  \n",
      " 1   derived_race                       233144 non-null  object \n",
      " 2   derived_ethnicity                  233144 non-null  object \n",
      " 3   applicant_sex                      233144 non-null  int64  \n",
      " 4   applicant_age                      233144 non-null  object \n",
      " 5   income                             226538 non-null  float64\n",
      " 6   debt_to_income_ratio               100684 non-null  float64\n",
      " 7   applicant_credit_score_type        233144 non-null  int64  \n",
      " 8   loan_amount                        233144 non-null  float64\n",
      " 9   loan_to_value_ratio                224447 non-null  float64\n",
      " 10  interest_rate                      176143 non-null  float64\n",
      " 11  rate_spread                        151964 non-null  object \n",
      " 12  loan_type                          233144 non-null  int64  \n",
      " 13  loan_purpose                       233144 non-null  int64  \n",
      " 14  lien_status                        233144 non-null  int64  \n",
      " 15  property_value                     233144 non-null  float64\n",
      " 16  occupancy_type                     233144 non-null  int64  \n",
      " 17  tract_minority_population_percent  233144 non-null  float64\n",
      " 18  aus-1                              233144 non-null  int64  \n",
      " 19  denial_reason-1                    233144 non-null  int64  \n",
      "dtypes: float64(7), int64(9), object(4)\n",
      "memory usage: 35.6+ MB\n"
     ]
    }
   ],
   "source": [
    "df.info()"
   ]
  },
  {
   "cell_type": "code",
   "execution_count": 96,
   "id": "3adff7fd",
   "metadata": {},
   "outputs": [
    {
     "name": "stdout",
     "output_type": "stream",
     "text": [
      "<class 'pandas.core.frame.DataFrame'>\n",
      "Index: 200974 entries, 0 to 233143\n",
      "Data columns (total 23 columns):\n",
      " #   Column                             Non-Null Count   Dtype  \n",
      "---  ------                             --------------   -----  \n",
      " 0   action_taken                       200974 non-null  int64  \n",
      " 1   derived_race                       200974 non-null  object \n",
      " 2   derived_ethnicity                  200974 non-null  object \n",
      " 3   applicant_sex                      200974 non-null  int64  \n",
      " 4   applicant_age                      200974 non-null  object \n",
      " 5   income                             197187 non-null  float64\n",
      " 6   debt_to_income_ratio               86777 non-null   float64\n",
      " 7   applicant_credit_score_type        200974 non-null  int64  \n",
      " 8   loan_amount                        200974 non-null  float64\n",
      " 9   loan_to_value_ratio                193263 non-null  float64\n",
      " 10  interest_rate                      151991 non-null  float64\n",
      " 11  rate_spread                        130793 non-null  object \n",
      " 12  loan_type                          200974 non-null  int64  \n",
      " 13  loan_purpose                       200974 non-null  int64  \n",
      " 14  lien_status                        200974 non-null  int64  \n",
      " 15  property_value                     200974 non-null  float64\n",
      " 16  occupancy_type                     200974 non-null  int64  \n",
      " 17  tract_minority_population_percent  200974 non-null  float64\n",
      " 18  aus-1                              200974 non-null  int64  \n",
      " 19  denial_reason-1                    200974 non-null  int64  \n",
      " 20  binary_race                        200974 non-null  int64  \n",
      " 21  binary_ethnicity                   200974 non-null  int64  \n",
      " 22  binary_denied                      200974 non-null  int64  \n",
      "dtypes: float64(7), int64(12), object(4)\n",
      "memory usage: 36.8+ MB\n"
     ]
    }
   ],
   "source": [
    "df_race.info()"
   ]
  },
  {
   "cell_type": "code",
   "execution_count": 97,
   "id": "cb7e9f46",
   "metadata": {},
   "outputs": [],
   "source": [
    "age_map = {'<25': 1, '25-34': 2, '35-54' : 3, '45-54' : 4, '55-64' : 5, '65-74' : 6, '>74' : 7,'8888' : 8}\n",
    "df_race['age_categorical'] = df_race['applicant_age'].map(age_map)\n",
    "# "
   ]
  },
  {
   "cell_type": "markdown",
   "id": "fc3e9b7a",
   "metadata": {},
   "source": [
    "# Model 1:  logistic regression that predicts loan outcome"
   ]
  },
  {
   "cell_type": "markdown",
   "id": "a263927e",
   "metadata": {},
   "source": [
    "Creating binary accepted colum (From ERin/Ellie)"
   ]
  },
  {
   "cell_type": "code",
   "execution_count": 100,
   "id": "53179792",
   "metadata": {},
   "outputs": [
    {
     "data": {
      "text/plain": [
       "array([1, 3, 8, 2, 6, 7], dtype=int64)"
      ]
     },
     "execution_count": 100,
     "metadata": {},
     "output_type": "execute_result"
    }
   ],
   "source": [
    "df_race['action_taken'].unique()"
   ]
  },
  {
   "cell_type": "code",
   "execution_count": 101,
   "id": "536b5176",
   "metadata": {},
   "outputs": [],
   "source": [
    "selected_df = df_race.loc[(df_race[\"action_taken\"] == 1) | (df_race[\"action_taken\"] == 2) | (df_race[\"action_taken\"] == 3) | (df_race[\"action_taken\"] == 7)]\n",
    "selected_df = selected_df.copy()\n",
    "selected_df['binary_accepted'] = selected_df['action_taken'].apply(lambda x: 1 if x in [1,2] else 0)\n",
    "# Step 2: Create binary_accepted column"
   ]
  },
  {
   "cell_type": "code",
   "execution_count": 102,
   "id": "d5084f16",
   "metadata": {},
   "outputs": [
    {
     "name": "stdout",
     "output_type": "stream",
     "text": [
      "[1 0] [1 3 2 7]\n"
     ]
    }
   ],
   "source": [
    "print(selected_df['binary_accepted'].unique(), selected_df['action_taken'].unique())"
   ]
  },
  {
   "cell_type": "code",
   "execution_count": 103,
   "id": "e3ef2f63",
   "metadata": {},
   "outputs": [
    {
     "data": {
      "text/plain": [
       "(action_taken\n",
       " 1    140754\n",
       " 3     48666\n",
       " 2      6615\n",
       " 7       178\n",
       " Name: count, dtype: int64,\n",
       " binary_accepted\n",
       " 1    147369\n",
       " 0     48844\n",
       " Name: count, dtype: int64)"
      ]
     },
     "execution_count": 103,
     "metadata": {},
     "output_type": "execute_result"
    }
   ],
   "source": [
    "selected_df['action_taken'].value_counts(), selected_df['binary_accepted'].value_counts()"
   ]
  },
  {
   "cell_type": "code",
   "execution_count": 104,
   "id": "b21cee94",
   "metadata": {},
   "outputs": [
    {
     "data": {
      "text/html": [
       "<div>\n",
       "<style scoped>\n",
       "    .dataframe tbody tr th:only-of-type {\n",
       "        vertical-align: middle;\n",
       "    }\n",
       "\n",
       "    .dataframe tbody tr th {\n",
       "        vertical-align: top;\n",
       "    }\n",
       "\n",
       "    .dataframe thead th {\n",
       "        text-align: right;\n",
       "    }\n",
       "</style>\n",
       "<table border=\"1\" class=\"dataframe\">\n",
       "  <thead>\n",
       "    <tr style=\"text-align: right;\">\n",
       "      <th></th>\n",
       "      <th>binary_accepted</th>\n",
       "      <th>action_taken</th>\n",
       "    </tr>\n",
       "  </thead>\n",
       "  <tbody>\n",
       "    <tr>\n",
       "      <th>0</th>\n",
       "      <td>1</td>\n",
       "      <td>1</td>\n",
       "    </tr>\n",
       "    <tr>\n",
       "      <th>1</th>\n",
       "      <td>1</td>\n",
       "      <td>1</td>\n",
       "    </tr>\n",
       "    <tr>\n",
       "      <th>2</th>\n",
       "      <td>1</td>\n",
       "      <td>1</td>\n",
       "    </tr>\n",
       "    <tr>\n",
       "      <th>3</th>\n",
       "      <td>1</td>\n",
       "      <td>1</td>\n",
       "    </tr>\n",
       "    <tr>\n",
       "      <th>6</th>\n",
       "      <td>1</td>\n",
       "      <td>1</td>\n",
       "    </tr>\n",
       "    <tr>\n",
       "      <th>...</th>\n",
       "      <td>...</td>\n",
       "      <td>...</td>\n",
       "    </tr>\n",
       "    <tr>\n",
       "      <th>233138</th>\n",
       "      <td>1</td>\n",
       "      <td>1</td>\n",
       "    </tr>\n",
       "    <tr>\n",
       "      <th>233139</th>\n",
       "      <td>0</td>\n",
       "      <td>3</td>\n",
       "    </tr>\n",
       "    <tr>\n",
       "      <th>233140</th>\n",
       "      <td>1</td>\n",
       "      <td>1</td>\n",
       "    </tr>\n",
       "    <tr>\n",
       "      <th>233142</th>\n",
       "      <td>1</td>\n",
       "      <td>1</td>\n",
       "    </tr>\n",
       "    <tr>\n",
       "      <th>233143</th>\n",
       "      <td>1</td>\n",
       "      <td>1</td>\n",
       "    </tr>\n",
       "  </tbody>\n",
       "</table>\n",
       "<p>196213 rows × 2 columns</p>\n",
       "</div>"
      ],
      "text/plain": [
       "        binary_accepted  action_taken\n",
       "0                     1             1\n",
       "1                     1             1\n",
       "2                     1             1\n",
       "3                     1             1\n",
       "6                     1             1\n",
       "...                 ...           ...\n",
       "233138                1             1\n",
       "233139                0             3\n",
       "233140                1             1\n",
       "233142                1             1\n",
       "233143                1             1\n",
       "\n",
       "[196213 rows x 2 columns]"
      ]
     },
     "execution_count": 104,
     "metadata": {},
     "output_type": "execute_result"
    }
   ],
   "source": [
    "selected_df[['binary_accepted', 'action_taken']]\n",
    "# selected_df"
   ]
  },
  {
   "cell_type": "code",
   "execution_count": 105,
   "id": "0468006e",
   "metadata": {},
   "outputs": [
    {
     "name": "stderr",
     "output_type": "stream",
     "text": [
      "C:\\Users\\erin\\anaconda3\\Lib\\site-packages\\statsmodels\\discrete\\discrete_model.py:2385: RuntimeWarning: overflow encountered in exp\n",
      "  return 1/(1+np.exp(-X))\n"
     ]
    },
    {
     "name": "stdout",
     "output_type": "stream",
     "text": [
      "Optimization terminated successfully.\n",
      "         Current function value: 0.384431\n",
      "         Iterations 15\n",
      "                           Logit Regression Results                           \n",
      "==============================================================================\n",
      "Dep. Variable:        binary_accepted   No. Observations:                63798\n",
      "Model:                          Logit   Df Residuals:                    63784\n",
      "Method:                           MLE   Df Model:                           13\n",
      "Date:                Wed, 09 Apr 2025   Pseudo R-squ.:                 0.04255\n",
      "Time:                        11:17:44   Log-Likelihood:                -24526.\n",
      "converged:                       True   LL-Null:                       -25616.\n",
      "Covariance Type:            nonrobust   LLR p-value:                     0.000\n",
      "=====================================================================================================\n",
      "                                        coef    std err          z      P>|z|      [0.025      0.975]\n",
      "-----------------------------------------------------------------------------------------------------\n",
      "Intercept                             3.9853      0.165     24.152      0.000       3.662       4.309\n",
      "tract_minority_population_percent    -0.0052      0.001     -9.924      0.000      -0.006      -0.004\n",
      "binary_race                           0.4761      0.039     12.330      0.000       0.400       0.552\n",
      "debt_to_income_ratio                 -0.0044      0.003     -1.467      0.142      -0.010       0.001\n",
      "income                             1.679e-05   4.29e-05      0.392      0.695   -6.73e-05       0.000\n",
      "property_value                    -4.537e-09   4.38e-09     -1.037      0.300   -1.31e-08    4.04e-09\n",
      "applicant_sex                        -0.0711      0.023     -3.134      0.002      -0.115      -0.027\n",
      "age_categorical                      -0.0596      0.009     -6.948      0.000      -0.076      -0.043\n",
      "applicant_credit_score_type          -0.0590      0.004    -14.627      0.000      -0.067      -0.051\n",
      "loan_to_value_ratio                  -0.0031      0.001     -5.558      0.000      -0.004      -0.002\n",
      "loan_type                            -0.2720      0.030     -9.102      0.000      -0.331      -0.213\n",
      "loan_purpose                         -0.0148      0.001    -15.540      0.000      -0.017      -0.013\n",
      "lien_status                          -0.6376      0.028    -22.895      0.000      -0.692      -0.583\n",
      "occupancy_type                       -0.0932      0.029     -3.162      0.002      -0.151      -0.035\n",
      "=====================================================================================================\n"
     ]
    },
    {
     "name": "stderr",
     "output_type": "stream",
     "text": [
      "C:\\Users\\erin\\anaconda3\\Lib\\site-packages\\statsmodels\\discrete\\discrete_model.py:2385: RuntimeWarning: overflow encountered in exp\n",
      "  return 1/(1+np.exp(-X))\n"
     ]
    }
   ],
   "source": [
    "log_model = smf.logit(formula = 'binary_accepted ~ tract_minority_population_percent + binary_race + debt_to_income_ratio + income + property_value + applicant_sex + age_categorical + applicant_credit_score_type + loan_to_value_ratio + loan_type + loan_purpose + lien_status + occupancy_type',\n",
    "                       data = selected_df \n",
    "            )\n",
    "\n",
    "results = log_model.fit()\n",
    "print(results.summary())"
   ]
  },
  {
   "cell_type": "code",
   "execution_count": 106,
   "id": "add25917",
   "metadata": {},
   "outputs": [
    {
     "name": "stderr",
     "output_type": "stream",
     "text": [
      "C:\\Users\\erin\\anaconda3\\Lib\\site-packages\\statsmodels\\discrete\\discrete_model.py:2385: RuntimeWarning: overflow encountered in exp\n",
      "  return 1/(1+np.exp(-X))\n"
     ]
    },
    {
     "name": "stdout",
     "output_type": "stream",
     "text": [
      "Optimization terminated successfully.\n",
      "         Current function value: 0.387170\n",
      "         Iterations 15\n",
      "                           Logit Regression Results                           \n",
      "==============================================================================\n",
      "Dep. Variable:        binary_accepted   No. Observations:                84726\n",
      "Model:                          Logit   Df Residuals:                    84716\n",
      "Method:                           MLE   Df Model:                            9\n",
      "Date:                Wed, 09 Apr 2025   Pseudo R-squ.:                 0.03430\n",
      "Time:                        11:17:46   Log-Likelihood:                -32803.\n",
      "converged:                       True   LL-Null:                       -33969.\n",
      "Covariance Type:            nonrobust   LLR p-value:                     0.000\n",
      "===============================================================================================\n",
      "                                  coef    std err          z      P>|z|      [0.025      0.975]\n",
      "-----------------------------------------------------------------------------------------------\n",
      "Intercept                       4.3341      0.129     33.478      0.000       4.080       4.588\n",
      "debt_to_income_ratio           -0.0119      0.003     -4.636      0.000      -0.017      -0.007\n",
      "income                          0.0001   6.86e-05      1.717      0.086   -1.67e-05       0.000\n",
      "property_value              -1.008e-08   7.12e-09     -1.415      0.157    -2.4e-08    3.88e-09\n",
      "applicant_credit_score_type    -0.0606      0.003    -17.395      0.000      -0.067      -0.054\n",
      "loan_to_value_ratio            -0.0026      0.000     -5.514      0.000      -0.004      -0.002\n",
      "loan_type                      -0.2920      0.025    -11.506      0.000      -0.342      -0.242\n",
      "loan_purpose                   -0.0170      0.001    -20.680      0.000      -0.019      -0.015\n",
      "lien_status                    -0.7047      0.024    -29.458      0.000      -0.752      -0.658\n",
      "occupancy_type                 -0.1160      0.025     -4.592      0.000      -0.166      -0.067\n",
      "===============================================================================================\n"
     ]
    },
    {
     "name": "stderr",
     "output_type": "stream",
     "text": [
      "C:\\Users\\erin\\anaconda3\\Lib\\site-packages\\statsmodels\\discrete\\discrete_model.py:2385: RuntimeWarning: overflow encountered in exp\n",
      "  return 1/(1+np.exp(-X))\n"
     ]
    }
   ],
   "source": [
    "log_model = smf.logit(formula = 'binary_accepted ~  debt_to_income_ratio + income + property_value + applicant_credit_score_type + loan_to_value_ratio + loan_type + loan_purpose + lien_status + occupancy_type',\n",
    "                       data = selected_df \n",
    "            )\n",
    "\n",
    "results = log_model.fit()\n",
    "print(results.summary())"
   ]
  },
  {
   "cell_type": "markdown",
   "id": "5b5f7fcf",
   "metadata": {},
   "source": [
    "##### Submodel trained on denials"
   ]
  },
  {
   "cell_type": "code",
   "execution_count": 108,
   "id": "bc7f9401",
   "metadata": {},
   "outputs": [],
   "source": [
    "selected_df = df_race.loc[(df_race[\"action_taken\"] == 3) | (df_race[\"action_taken\"] == 2) | (df_race[\"action_taken\"] == 7)]\n",
    "selected_df = selected_df.copy()\n",
    "selected_df['binary_accepted'] = selected_df['action_taken'].apply(lambda x: 1 if x in [1,2] else 0)\n",
    "# Step 2: Create binary_accepted column\n",
    "# df_race[\"binary_accepted\"] = df_race[\"action_taken\"].isin([1, 2])"
   ]
  },
  {
   "cell_type": "code",
   "execution_count": 109,
   "id": "c96a36f5",
   "metadata": {},
   "outputs": [
    {
     "name": "stdout",
     "output_type": "stream",
     "text": [
      "Optimization terminated successfully.\n",
      "         Current function value: 0.497354\n",
      "         Iterations 16\n",
      "                           Logit Regression Results                           \n",
      "==============================================================================\n",
      "Dep. Variable:        binary_accepted   No. Observations:                11199\n",
      "Model:                          Logit   Df Residuals:                    11185\n",
      "Method:                           MLE   Df Model:                           13\n",
      "Date:                Wed, 09 Apr 2025   Pseudo R-squ.:                 0.04025\n",
      "Time:                        11:17:46   Log-Likelihood:                -5569.9\n",
      "converged:                       True   LL-Null:                       -5803.4\n",
      "Covariance Type:            nonrobust   LLR p-value:                 1.391e-91\n",
      "=====================================================================================================\n",
      "                                        coef    std err          z      P>|z|      [0.025      0.975]\n",
      "-----------------------------------------------------------------------------------------------------\n",
      "Intercept                             0.3207      0.323      0.994      0.320      -0.311       0.953\n",
      "tract_minority_population_percent     0.0006      0.001      0.606      0.544      -0.001       0.003\n",
      "binary_race                           0.4344      0.079      5.521      0.000       0.280       0.589\n",
      "debt_to_income_ratio                  0.0024      0.006      0.413      0.680      -0.009       0.014\n",
      "income                             1.544e-05      0.000      0.126      0.900      -0.000       0.000\n",
      "property_value                    -1.537e-09   5.47e-09     -0.281      0.779   -1.22e-08    9.17e-09\n",
      "applicant_sex                        -0.0889      0.046     -1.931      0.053      -0.179       0.001\n",
      "age_categorical                       0.0013      0.016      0.080      0.936      -0.031       0.033\n",
      "applicant_credit_score_type          -0.0347      0.009     -4.068      0.000      -0.051      -0.018\n",
      "loan_to_value_ratio                  -0.0010      0.001     -1.114      0.265      -0.003       0.001\n",
      "loan_type                            -0.2870      0.064     -4.475      0.000      -0.413      -0.161\n",
      "loan_purpose                         -0.0169      0.002     -8.496      0.000      -0.021      -0.013\n",
      "lien_status                          -0.9159      0.061    -15.011      0.000      -1.035      -0.796\n",
      "occupancy_type                       -0.0707      0.057     -1.236      0.216      -0.183       0.041\n",
      "=====================================================================================================\n"
     ]
    },
    {
     "name": "stderr",
     "output_type": "stream",
     "text": [
      "C:\\Users\\erin\\anaconda3\\Lib\\site-packages\\statsmodels\\discrete\\discrete_model.py:2385: RuntimeWarning: overflow encountered in exp\n",
      "  return 1/(1+np.exp(-X))\n",
      "C:\\Users\\erin\\anaconda3\\Lib\\site-packages\\statsmodels\\discrete\\discrete_model.py:2385: RuntimeWarning: overflow encountered in exp\n",
      "  return 1/(1+np.exp(-X))\n"
     ]
    }
   ],
   "source": [
    "log_model = smf.logit(formula = 'binary_accepted ~ tract_minority_population_percent + binary_race + debt_to_income_ratio + income + property_value + applicant_sex + age_categorical + applicant_credit_score_type + loan_to_value_ratio + loan_type + loan_purpose + lien_status + occupancy_type',\n",
    "                       data = selected_df \n",
    "            )\n",
    "\n",
    "results = log_model.fit()\n",
    "print(results.summary())"
   ]
  },
  {
   "cell_type": "markdown",
   "id": "49a27c1c",
   "metadata": {},
   "source": [
    "## Model 2: loan amount (MLR)"
   ]
  },
  {
   "cell_type": "code",
   "execution_count": 111,
   "id": "ac2a935b",
   "metadata": {},
   "outputs": [
    {
     "name": "stdout",
     "output_type": "stream",
     "text": [
      "                            OLS Regression Results                            \n",
      "==============================================================================\n",
      "Dep. Variable:            loan_amount   R-squared:                       0.795\n",
      "Model:                            OLS   Adj. R-squared:                  0.795\n",
      "Method:                 Least Squares   F-statistic:                 1.383e+04\n",
      "Date:                Wed, 09 Apr 2025   Prob (F-statistic):               0.00\n",
      "Time:                        11:17:47   Log-Likelihood:            -6.7282e+05\n",
      "No. Observations:               50031   AIC:                         1.346e+06\n",
      "Df Residuals:                   50016   BIC:                         1.346e+06\n",
      "Df Model:                          14                                         \n",
      "Covariance Type:            nonrobust                                         \n",
      "=====================================================================================================\n",
      "                                        coef    std err          t      P>|t|      [0.025      0.975]\n",
      "-----------------------------------------------------------------------------------------------------\n",
      "const                             -1.438e+04   1.12e+04     -1.285      0.199   -3.63e+04    7547.207\n",
      "tract_minority_population_percent   505.5686     35.870     14.094      0.000     435.263     575.874\n",
      "binary_race                        1.537e+04   2864.553      5.366      0.000    9756.188     2.1e+04\n",
      "debt_to_income_ratio                909.1057    192.490      4.723      0.000     531.823    1286.388\n",
      "income                               44.7759      1.854     24.150      0.000      41.142      48.410\n",
      "property_value                        0.4529      0.001    373.267      0.000       0.451       0.455\n",
      "applicant_sex                     -1.133e+04   1478.467     -7.663      0.000   -1.42e+04   -8431.592\n",
      "age_categorical                    4104.3417    548.930      7.477      0.000    3028.432    5180.251\n",
      "applicant_credit_score_type        1373.2043    295.047      4.654      0.000     794.909    1951.500\n",
      "loan_to_value_ratio                4314.6384     43.529     99.121      0.000    4229.321    4399.956\n",
      "loan_type                         -2.565e+04   1912.399    -13.410      0.000   -2.94e+04   -2.19e+04\n",
      "loan_purpose                       -553.0605     67.528     -8.190      0.000    -685.417    -420.704\n",
      "lien_status                        -2.44e+05   2357.573   -103.478      0.000   -2.49e+05   -2.39e+05\n",
      "occupancy_type                     9119.0688   2954.168      3.087      0.002    3328.866    1.49e+04\n",
      "aus-1                              1298.4607    471.834      2.752      0.006     373.661    2223.260\n",
      "==============================================================================\n",
      "Omnibus:                    36703.093   Durbin-Watson:                   1.795\n",
      "Prob(Omnibus):                  0.000   Jarque-Bera (JB):        172210587.430\n",
      "Skew:                           1.852   Prob(JB):                         0.00\n",
      "Kurtosis:                     290.395   Cond. No.                     1.31e+07\n",
      "==============================================================================\n",
      "\n",
      "Notes:\n",
      "[1] Standard Errors assume that the covariance matrix of the errors is correctly specified.\n",
      "[2] The condition number is large, 1.31e+07. This might indicate that there are\n",
      "strong multicollinearity or other numerical problems.\n"
     ]
    }
   ],
   "source": [
    "import statsmodels.api as sm\n",
    "df_race = df_race.dropna()\n",
    "\n",
    "X = df_race[['tract_minority_population_percent', \"binary_race\", \"debt_to_income_ratio\", 'income', \"property_value\", 'applicant_sex',\n",
    "             'age_categorical', 'applicant_credit_score_type', 'loan_to_value_ratio', 'loan_type', 'loan_purpose', 'lien_status', \n",
    "             'occupancy_type', 'aus-1']]\n",
    "\n",
    "y = df_race['loan_amount']\n",
    "\n",
    "X = sm.add_constant(X)\n",
    "\n",
    "model = sm.OLS(y, X).fit()\n",
    "\n",
    "print(model.summary())"
   ]
  },
  {
   "cell_type": "markdown",
   "id": "0f4be0b4",
   "metadata": {},
   "source": [
    "## Model 3: interest rate (MLR), rate_spread"
   ]
  },
  {
   "cell_type": "code",
   "execution_count": 113,
   "id": "5a6de5e9",
   "metadata": {},
   "outputs": [
    {
     "data": {
      "text/plain": [
       "Index(['action_taken', 'derived_race', 'derived_ethnicity', 'applicant_sex',\n",
       "       'applicant_age', 'income', 'debt_to_income_ratio',\n",
       "       'applicant_credit_score_type', 'loan_amount', 'loan_to_value_ratio',\n",
       "       'interest_rate', 'rate_spread', 'loan_type', 'loan_purpose',\n",
       "       'lien_status', 'property_value', 'occupancy_type',\n",
       "       'tract_minority_population_percent', 'aus-1', 'denial_reason-1',\n",
       "       'binary_race', 'binary_ethnicity', 'binary_denied', 'age_categorical'],\n",
       "      dtype='object')"
      ]
     },
     "execution_count": 113,
     "metadata": {},
     "output_type": "execute_result"
    }
   ],
   "source": [
    "df_race.columns\n"
   ]
  },
  {
   "cell_type": "code",
   "execution_count": 114,
   "id": "797cb590",
   "metadata": {},
   "outputs": [
    {
     "name": "stdout",
     "output_type": "stream",
     "text": [
      "                            OLS Regression Results                            \n",
      "==============================================================================\n",
      "Dep. Variable:          interest_rate   R-squared:                       0.108\n",
      "Model:                            OLS   Adj. R-squared:                  0.108\n",
      "Method:                 Least Squares   F-statistic:                     432.8\n",
      "Date:                Wed, 09 Apr 2025   Prob (F-statistic):               0.00\n",
      "Time:                        11:17:47   Log-Likelihood:                -88591.\n",
      "No. Observations:               50031   AIC:                         1.772e+05\n",
      "Df Residuals:                   50016   BIC:                         1.773e+05\n",
      "Df Model:                          14                                         \n",
      "Covariance Type:            nonrobust                                         \n",
      "=====================================================================================================\n",
      "                                        coef    std err          t      P>|t|      [0.025      0.975]\n",
      "-----------------------------------------------------------------------------------------------------\n",
      "const                                 4.1153      0.095     43.364      0.000       3.929       4.301\n",
      "tract_minority_population_percent     0.0025      0.000      8.121      0.000       0.002       0.003\n",
      "binary_race                           0.0662      0.024      2.726      0.006       0.019       0.114\n",
      "debt_to_income_ratio                  0.0212      0.002     12.962      0.000       0.018       0.024\n",
      "income                            -5.382e-05   1.57e-05     -3.422      0.001   -8.46e-05    -2.3e-05\n",
      "property_value                    -5.772e-08   1.03e-08     -5.608      0.000   -7.79e-08   -3.75e-08\n",
      "applicant_sex                        -0.0181      0.013     -1.440      0.150      -0.043       0.007\n",
      "age_categorical                       0.0003      0.005      0.060      0.952      -0.009       0.009\n",
      "applicant_credit_score_type           0.0420      0.003     16.774      0.000       0.037       0.047\n",
      "loan_to_value_ratio                   0.0028      0.000      7.558      0.000       0.002       0.004\n",
      "loan_type                            -0.1166      0.016     -7.185      0.000      -0.148      -0.085\n",
      "loan_purpose                          0.0056      0.001      9.703      0.000       0.004       0.007\n",
      "lien_status                           1.0509      0.020     52.546      0.000       1.012       1.090\n",
      "occupancy_type                        0.2415      0.025      9.637      0.000       0.192       0.291\n",
      "aus-1                                -0.0169      0.004     -4.220      0.000      -0.025      -0.009\n",
      "==============================================================================\n",
      "Omnibus:                    10752.500   Durbin-Watson:                   0.972\n",
      "Prob(Omnibus):                  0.000   Jarque-Bera (JB):            83287.660\n",
      "Skew:                          -0.826   Prob(JB):                         0.00\n",
      "Kurtosis:                       9.101   Cond. No.                     1.31e+07\n",
      "==============================================================================\n",
      "\n",
      "Notes:\n",
      "[1] Standard Errors assume that the covariance matrix of the errors is correctly specified.\n",
      "[2] The condition number is large, 1.31e+07. This might indicate that there are\n",
      "strong multicollinearity or other numerical problems.\n"
     ]
    }
   ],
   "source": [
    "\n",
    "df_race = df_race.dropna()\n",
    "X = df_race[['tract_minority_population_percent', \"binary_race\", \"debt_to_income_ratio\", 'income', \"property_value\", 'applicant_sex',\n",
    "             'age_categorical', 'applicant_credit_score_type', 'loan_to_value_ratio', 'loan_type', 'loan_purpose', 'lien_status', \n",
    "             'occupancy_type', 'aus-1']]\n",
    "\n",
    "y = df_race['interest_rate']\n",
    "\n",
    "X = sm.add_constant(X)\n",
    "\n",
    "model = sm.OLS(y, X).fit()\n",
    "\n",
    "print(model.summary())"
   ]
  },
  {
   "cell_type": "code",
   "execution_count": 115,
   "id": "e94819ea",
   "metadata": {},
   "outputs": [
    {
     "name": "stdout",
     "output_type": "stream",
     "text": [
      "<class 'pandas.core.frame.DataFrame'>\n",
      "Index: 50031 entries, 0 to 233140\n",
      "Data columns (total 24 columns):\n",
      " #   Column                             Non-Null Count  Dtype  \n",
      "---  ------                             --------------  -----  \n",
      " 0   action_taken                       50031 non-null  int64  \n",
      " 1   derived_race                       50031 non-null  object \n",
      " 2   derived_ethnicity                  50031 non-null  object \n",
      " 3   applicant_sex                      50031 non-null  int64  \n",
      " 4   applicant_age                      50031 non-null  object \n",
      " 5   income                             50031 non-null  float64\n",
      " 6   debt_to_income_ratio               50031 non-null  float64\n",
      " 7   applicant_credit_score_type        50031 non-null  int64  \n",
      " 8   loan_amount                        50031 non-null  float64\n",
      " 9   loan_to_value_ratio                50031 non-null  float64\n",
      " 10  interest_rate                      50031 non-null  float64\n",
      " 11  rate_spread                        50031 non-null  object \n",
      " 12  loan_type                          50031 non-null  int64  \n",
      " 13  loan_purpose                       50031 non-null  int64  \n",
      " 14  lien_status                        50031 non-null  int64  \n",
      " 15  property_value                     50031 non-null  float64\n",
      " 16  occupancy_type                     50031 non-null  int64  \n",
      " 17  tract_minority_population_percent  50031 non-null  float64\n",
      " 18  aus-1                              50031 non-null  int64  \n",
      " 19  denial_reason-1                    50031 non-null  int64  \n",
      " 20  binary_race                        50031 non-null  int64  \n",
      " 21  binary_ethnicity                   50031 non-null  int64  \n",
      " 22  binary_denied                      50031 non-null  int64  \n",
      " 23  age_categorical                    50031 non-null  float64\n",
      "dtypes: float64(8), int64(12), object(4)\n",
      "memory usage: 9.5+ MB\n"
     ]
    }
   ],
   "source": [
    "df_race.info()"
   ]
  },
  {
   "cell_type": "code",
   "execution_count": null,
   "id": "90b659fb",
   "metadata": {},
   "outputs": [],
   "source": []
  },
  {
   "cell_type": "code",
   "execution_count": 116,
   "id": "e937d79b",
   "metadata": {},
   "outputs": [],
   "source": [
    "df_race = df_race[df_race['rate_spread'] != 'Exempt']\n",
    "df_race['rate_spread'] = pd.to_numeric(df_race['rate_spread'])"
   ]
  },
  {
   "cell_type": "code",
   "execution_count": 117,
   "id": "cde3f3f0",
   "metadata": {},
   "outputs": [
    {
     "name": "stdout",
     "output_type": "stream",
     "text": [
      "                            OLS Regression Results                            \n",
      "==============================================================================\n",
      "Dep. Variable:            rate_spread   R-squared:                       0.043\n",
      "Model:                            OLS   Adj. R-squared:                  0.043\n",
      "Method:                 Least Squares   F-statistic:                     161.2\n",
      "Date:                Wed, 09 Apr 2025   Prob (F-statistic):               0.00\n",
      "Time:                        11:17:47   Log-Likelihood:                -89164.\n",
      "No. Observations:               50030   AIC:                         1.784e+05\n",
      "Df Residuals:                   50015   BIC:                         1.785e+05\n",
      "Df Model:                          14                                         \n",
      "Covariance Type:            nonrobust                                         \n",
      "=====================================================================================================\n",
      "                                        coef    std err          t      P>|t|      [0.025      0.975]\n",
      "-----------------------------------------------------------------------------------------------------\n",
      "const                                -2.0479      0.096    -21.333      0.000      -2.236      -1.860\n",
      "tract_minority_population_percent     0.0024      0.000      7.766      0.000       0.002       0.003\n",
      "binary_race                          -0.0157      0.025     -0.640      0.522      -0.064       0.032\n",
      "debt_to_income_ratio                  0.0151      0.002      9.137      0.000       0.012       0.018\n",
      "income                             -6.34e-05   1.59e-05     -3.984      0.000   -9.46e-05   -3.22e-05\n",
      "property_value                    -5.033e-08   1.04e-08     -4.834      0.000   -7.07e-08   -2.99e-08\n",
      "applicant_sex                         0.0407      0.013      3.211      0.001       0.016       0.066\n",
      "age_categorical                      -0.0112      0.005     -2.373      0.018      -0.020      -0.002\n",
      "applicant_credit_score_type           0.0157      0.003      6.208      0.000       0.011       0.021\n",
      "loan_to_value_ratio                   0.0063      0.000     16.747      0.000       0.006       0.007\n",
      "loan_type                             0.1014      0.016      6.176      0.000       0.069       0.134\n",
      "loan_purpose                          0.0082      0.001     14.222      0.000       0.007       0.009\n",
      "lien_status                           0.6782      0.020     33.523      0.000       0.639       0.718\n",
      "occupancy_type                        0.3084      0.025     12.163      0.000       0.259       0.358\n",
      "aus-1                                -0.0445      0.004    -10.997      0.000      -0.052      -0.037\n",
      "==============================================================================\n",
      "Omnibus:                    19624.896   Durbin-Watson:                   1.190\n",
      "Prob(Omnibus):                  0.000   Jarque-Bera (JB):           202274.344\n",
      "Skew:                          -1.598   Prob(JB):                         0.00\n",
      "Kurtosis:                      12.318   Cond. No.                     1.31e+07\n",
      "==============================================================================\n",
      "\n",
      "Notes:\n",
      "[1] Standard Errors assume that the covariance matrix of the errors is correctly specified.\n",
      "[2] The condition number is large, 1.31e+07. This might indicate that there are\n",
      "strong multicollinearity or other numerical problems.\n"
     ]
    }
   ],
   "source": [
    "\n",
    "df_race = df_race.dropna()\n",
    "X = df_race[['tract_minority_population_percent', \"binary_race\", \"debt_to_income_ratio\", 'income', \"property_value\", 'applicant_sex',\n",
    "             'age_categorical', 'applicant_credit_score_type', 'loan_to_value_ratio', 'loan_type', 'loan_purpose', 'lien_status', \n",
    "             'occupancy_type', 'aus-1']]\n",
    "\n",
    "y = df_race['rate_spread']\n",
    "\n",
    "X = sm.add_constant(X)\n",
    "\n",
    "model = sm.OLS(y, X).fit()\n",
    "\n",
    "print(model.summary())"
   ]
  },
  {
   "cell_type": "markdown",
   "id": "ce132fb5",
   "metadata": {},
   "source": [
    "# Recreation of model \n",
    "Train a model based on outcome (denial vs acceptance) using similar predictors\n",
    "Look for bias in the outcomes of the model -> conclusion about biased data creating biased models in future "
   ]
  },
  {
   "cell_type": "code",
   "execution_count": 119,
   "id": "510d1bca-244a-4def-9ac7-b4e8397af275",
   "metadata": {},
   "outputs": [],
   "source": [
    "from sklearn.model_selection import train_test_split\n",
    "\n",
    "# select columns that were explicitly approved or denied\n",
    "filtered_df = df.loc[(df[\"action_taken\"] == 1) | (df[\"action_taken\"] == 2) | (df[\"action_taken\"] == 7) | (df[\"action_taken\"] == 3)]\n",
    "\n",
    "# remove na values\n",
    "filtered_df = filtered_df.dropna(subset=[\"debt_to_income_ratio\",\"income\",\"loan_to_value_ratio\",\"loan_amount\",\"property_value\"])\n",
    "\n",
    "# create binary accepted column\n",
    "filtered_df[\"binary_accepted\"] = True\n",
    "filtered_df.loc[filtered_df[\"action_taken\"] == 7, 'binary_accepted'] = False\n",
    "filtered_df.loc[filtered_df[\"action_taken\"] == 3, 'binary_accepted'] = False\n",
    "counts = filtered_df['binary_accepted'].value_counts()\n",
    "\n",
    "# create binary race column - 1 for White\n",
    "df_slice = filtered_df.loc[(filtered_df['derived_race'] == \"Black or African American\") | (filtered_df['derived_race'] == \"White\")]\n",
    "filtered_df = df_slice.copy()\n",
    "filtered_df['binary_race'] = 0\n",
    "filtered_df.loc[filtered_df['derived_race'] == \"White\", 'binary_race'] = 1\n",
    "\n",
    "# split data\n",
    "\n",
    "X = filtered_df[[\"debt_to_income_ratio\",\"income\",\"loan_to_value_ratio\",\"loan_amount\",\"property_value\"]]\n",
    "y = filtered_df[\"binary_accepted\"]\n",
    "\n",
    "train, test = train_test_split(filtered_df, test_size=0.2)\n",
    "X_train, X_test = train[[\"debt_to_income_ratio\",\"income\",\"loan_to_value_ratio\",\"loan_amount\",\"property_value\"]], \\\n",
    "test[[\"debt_to_income_ratio\",\"income\",\"loan_to_value_ratio\",\"loan_amount\",\"property_value\"]] \n",
    "y_train, y_test = train[\"binary_accepted\"], test[\"binary_accepted\"] "
   ]
  },
  {
   "cell_type": "code",
   "execution_count": 120,
   "id": "af61c459",
   "metadata": {},
   "outputs": [
    {
     "data": {
      "text/plain": [
       "(binary_accepted\n",
       " True     73052\n",
       " False    11674\n",
       " Name: count, dtype: int64,\n",
       " action_taken\n",
       " 1    69923\n",
       " 3    11612\n",
       " 2     3129\n",
       " 7       62\n",
       " Name: count, dtype: int64)"
      ]
     },
     "execution_count": 120,
     "metadata": {},
     "output_type": "execute_result"
    }
   ],
   "source": [
    "filtered_df['binary_accepted'].value_counts(), filtered_df['action_taken'].value_counts()"
   ]
  },
  {
   "cell_type": "code",
   "execution_count": 121,
   "id": "51bdc7f1",
   "metadata": {},
   "outputs": [
    {
     "data": {
      "text/html": [
       "<div>\n",
       "<style scoped>\n",
       "    .dataframe tbody tr th:only-of-type {\n",
       "        vertical-align: middle;\n",
       "    }\n",
       "\n",
       "    .dataframe tbody tr th {\n",
       "        vertical-align: top;\n",
       "    }\n",
       "\n",
       "    .dataframe thead th {\n",
       "        text-align: right;\n",
       "    }\n",
       "</style>\n",
       "<table border=\"1\" class=\"dataframe\">\n",
       "  <thead>\n",
       "    <tr style=\"text-align: right;\">\n",
       "      <th></th>\n",
       "      <th>action_taken</th>\n",
       "      <th>derived_race</th>\n",
       "      <th>derived_ethnicity</th>\n",
       "      <th>applicant_sex</th>\n",
       "      <th>applicant_age</th>\n",
       "      <th>income</th>\n",
       "      <th>debt_to_income_ratio</th>\n",
       "      <th>applicant_credit_score_type</th>\n",
       "      <th>loan_amount</th>\n",
       "      <th>loan_to_value_ratio</th>\n",
       "      <th>...</th>\n",
       "      <th>loan_type</th>\n",
       "      <th>loan_purpose</th>\n",
       "      <th>lien_status</th>\n",
       "      <th>property_value</th>\n",
       "      <th>occupancy_type</th>\n",
       "      <th>tract_minority_population_percent</th>\n",
       "      <th>aus-1</th>\n",
       "      <th>denial_reason-1</th>\n",
       "      <th>binary_accepted</th>\n",
       "      <th>binary_race</th>\n",
       "    </tr>\n",
       "  </thead>\n",
       "  <tbody>\n",
       "    <tr>\n",
       "      <th>186</th>\n",
       "      <td>3</td>\n",
       "      <td>White</td>\n",
       "      <td>Not Hispanic or Latino</td>\n",
       "      <td>2</td>\n",
       "      <td>&gt;74</td>\n",
       "      <td>35.0</td>\n",
       "      <td>49.0</td>\n",
       "      <td>11</td>\n",
       "      <td>155000.0</td>\n",
       "      <td>18.750</td>\n",
       "      <td>...</td>\n",
       "      <td>1</td>\n",
       "      <td>32</td>\n",
       "      <td>1</td>\n",
       "      <td>805000.0</td>\n",
       "      <td>1</td>\n",
       "      <td>41.18</td>\n",
       "      <td>6</td>\n",
       "      <td>4</td>\n",
       "      <td>False</td>\n",
       "      <td>1</td>\n",
       "    </tr>\n",
       "    <tr>\n",
       "      <th>228</th>\n",
       "      <td>3</td>\n",
       "      <td>White</td>\n",
       "      <td>Not Hispanic or Latino</td>\n",
       "      <td>1</td>\n",
       "      <td>35-44</td>\n",
       "      <td>181.0</td>\n",
       "      <td>44.0</td>\n",
       "      <td>9</td>\n",
       "      <td>205000.0</td>\n",
       "      <td>89.052</td>\n",
       "      <td>...</td>\n",
       "      <td>1</td>\n",
       "      <td>4</td>\n",
       "      <td>2</td>\n",
       "      <td>715000.0</td>\n",
       "      <td>1</td>\n",
       "      <td>17.34</td>\n",
       "      <td>6</td>\n",
       "      <td>3</td>\n",
       "      <td>False</td>\n",
       "      <td>1</td>\n",
       "    </tr>\n",
       "    <tr>\n",
       "      <th>277</th>\n",
       "      <td>3</td>\n",
       "      <td>White</td>\n",
       "      <td>Not Hispanic or Latino</td>\n",
       "      <td>1</td>\n",
       "      <td>55-64</td>\n",
       "      <td>102.0</td>\n",
       "      <td>42.0</td>\n",
       "      <td>2</td>\n",
       "      <td>15000.0</td>\n",
       "      <td>69.499</td>\n",
       "      <td>...</td>\n",
       "      <td>1</td>\n",
       "      <td>32</td>\n",
       "      <td>2</td>\n",
       "      <td>195000.0</td>\n",
       "      <td>1</td>\n",
       "      <td>6.16</td>\n",
       "      <td>6</td>\n",
       "      <td>9</td>\n",
       "      <td>False</td>\n",
       "      <td>1</td>\n",
       "    </tr>\n",
       "    <tr>\n",
       "      <th>285</th>\n",
       "      <td>3</td>\n",
       "      <td>White</td>\n",
       "      <td>Not Hispanic or Latino</td>\n",
       "      <td>1</td>\n",
       "      <td>45-54</td>\n",
       "      <td>131.0</td>\n",
       "      <td>48.0</td>\n",
       "      <td>2</td>\n",
       "      <td>25000.0</td>\n",
       "      <td>70.664</td>\n",
       "      <td>...</td>\n",
       "      <td>1</td>\n",
       "      <td>2</td>\n",
       "      <td>2</td>\n",
       "      <td>145000.0</td>\n",
       "      <td>1</td>\n",
       "      <td>6.67</td>\n",
       "      <td>6</td>\n",
       "      <td>9</td>\n",
       "      <td>False</td>\n",
       "      <td>1</td>\n",
       "    </tr>\n",
       "    <tr>\n",
       "      <th>323</th>\n",
       "      <td>3</td>\n",
       "      <td>White</td>\n",
       "      <td>Not Hispanic or Latino</td>\n",
       "      <td>2</td>\n",
       "      <td>55-64</td>\n",
       "      <td>292.0</td>\n",
       "      <td>41.0</td>\n",
       "      <td>3</td>\n",
       "      <td>435000.0</td>\n",
       "      <td>95.000</td>\n",
       "      <td>...</td>\n",
       "      <td>1</td>\n",
       "      <td>1</td>\n",
       "      <td>1</td>\n",
       "      <td>455000.0</td>\n",
       "      <td>1</td>\n",
       "      <td>11.40</td>\n",
       "      <td>1</td>\n",
       "      <td>9</td>\n",
       "      <td>False</td>\n",
       "      <td>1</td>\n",
       "    </tr>\n",
       "    <tr>\n",
       "      <th>...</th>\n",
       "      <td>...</td>\n",
       "      <td>...</td>\n",
       "      <td>...</td>\n",
       "      <td>...</td>\n",
       "      <td>...</td>\n",
       "      <td>...</td>\n",
       "      <td>...</td>\n",
       "      <td>...</td>\n",
       "      <td>...</td>\n",
       "      <td>...</td>\n",
       "      <td>...</td>\n",
       "      <td>...</td>\n",
       "      <td>...</td>\n",
       "      <td>...</td>\n",
       "      <td>...</td>\n",
       "      <td>...</td>\n",
       "      <td>...</td>\n",
       "      <td>...</td>\n",
       "      <td>...</td>\n",
       "      <td>...</td>\n",
       "      <td>...</td>\n",
       "    </tr>\n",
       "    <tr>\n",
       "      <th>233096</th>\n",
       "      <td>3</td>\n",
       "      <td>White</td>\n",
       "      <td>Not Hispanic or Latino</td>\n",
       "      <td>2</td>\n",
       "      <td>65-74</td>\n",
       "      <td>91.0</td>\n",
       "      <td>44.0</td>\n",
       "      <td>9</td>\n",
       "      <td>85000.0</td>\n",
       "      <td>62.600</td>\n",
       "      <td>...</td>\n",
       "      <td>1</td>\n",
       "      <td>31</td>\n",
       "      <td>2</td>\n",
       "      <td>335000.0</td>\n",
       "      <td>1</td>\n",
       "      <td>8.02</td>\n",
       "      <td>6</td>\n",
       "      <td>3</td>\n",
       "      <td>False</td>\n",
       "      <td>1</td>\n",
       "    </tr>\n",
       "    <tr>\n",
       "      <th>233100</th>\n",
       "      <td>3</td>\n",
       "      <td>White</td>\n",
       "      <td>Not Hispanic or Latino</td>\n",
       "      <td>2</td>\n",
       "      <td>35-44</td>\n",
       "      <td>118.0</td>\n",
       "      <td>39.0</td>\n",
       "      <td>3</td>\n",
       "      <td>65000.0</td>\n",
       "      <td>81.471</td>\n",
       "      <td>...</td>\n",
       "      <td>1</td>\n",
       "      <td>4</td>\n",
       "      <td>2</td>\n",
       "      <td>225000.0</td>\n",
       "      <td>1</td>\n",
       "      <td>12.19</td>\n",
       "      <td>6</td>\n",
       "      <td>3</td>\n",
       "      <td>False</td>\n",
       "      <td>1</td>\n",
       "    </tr>\n",
       "    <tr>\n",
       "      <th>233106</th>\n",
       "      <td>3</td>\n",
       "      <td>White</td>\n",
       "      <td>Not Hispanic or Latino</td>\n",
       "      <td>2</td>\n",
       "      <td>35-44</td>\n",
       "      <td>132.0</td>\n",
       "      <td>39.0</td>\n",
       "      <td>9</td>\n",
       "      <td>25000.0</td>\n",
       "      <td>88.336</td>\n",
       "      <td>...</td>\n",
       "      <td>1</td>\n",
       "      <td>4</td>\n",
       "      <td>2</td>\n",
       "      <td>145000.0</td>\n",
       "      <td>1</td>\n",
       "      <td>7.11</td>\n",
       "      <td>6</td>\n",
       "      <td>3</td>\n",
       "      <td>False</td>\n",
       "      <td>1</td>\n",
       "    </tr>\n",
       "    <tr>\n",
       "      <th>233117</th>\n",
       "      <td>3</td>\n",
       "      <td>White</td>\n",
       "      <td>Hispanic or Latino</td>\n",
       "      <td>1</td>\n",
       "      <td>55-64</td>\n",
       "      <td>271.0</td>\n",
       "      <td>39.0</td>\n",
       "      <td>2</td>\n",
       "      <td>175000.0</td>\n",
       "      <td>89.611</td>\n",
       "      <td>...</td>\n",
       "      <td>1</td>\n",
       "      <td>2</td>\n",
       "      <td>2</td>\n",
       "      <td>955000.0</td>\n",
       "      <td>1</td>\n",
       "      <td>37.53</td>\n",
       "      <td>6</td>\n",
       "      <td>3</td>\n",
       "      <td>False</td>\n",
       "      <td>1</td>\n",
       "    </tr>\n",
       "    <tr>\n",
       "      <th>233130</th>\n",
       "      <td>3</td>\n",
       "      <td>White</td>\n",
       "      <td>Not Hispanic or Latino</td>\n",
       "      <td>1</td>\n",
       "      <td>35-44</td>\n",
       "      <td>149.0</td>\n",
       "      <td>45.0</td>\n",
       "      <td>2</td>\n",
       "      <td>225000.0</td>\n",
       "      <td>76.123</td>\n",
       "      <td>...</td>\n",
       "      <td>1</td>\n",
       "      <td>2</td>\n",
       "      <td>2</td>\n",
       "      <td>875000.0</td>\n",
       "      <td>1</td>\n",
       "      <td>25.48</td>\n",
       "      <td>6</td>\n",
       "      <td>4</td>\n",
       "      <td>False</td>\n",
       "      <td>1</td>\n",
       "    </tr>\n",
       "  </tbody>\n",
       "</table>\n",
       "<p>11674 rows × 22 columns</p>\n",
       "</div>"
      ],
      "text/plain": [
       "        action_taken derived_race       derived_ethnicity  applicant_sex  \\\n",
       "186                3        White  Not Hispanic or Latino              2   \n",
       "228                3        White  Not Hispanic or Latino              1   \n",
       "277                3        White  Not Hispanic or Latino              1   \n",
       "285                3        White  Not Hispanic or Latino              1   \n",
       "323                3        White  Not Hispanic or Latino              2   \n",
       "...              ...          ...                     ...            ...   \n",
       "233096             3        White  Not Hispanic or Latino              2   \n",
       "233100             3        White  Not Hispanic or Latino              2   \n",
       "233106             3        White  Not Hispanic or Latino              2   \n",
       "233117             3        White      Hispanic or Latino              1   \n",
       "233130             3        White  Not Hispanic or Latino              1   \n",
       "\n",
       "       applicant_age  income  debt_to_income_ratio  \\\n",
       "186              >74    35.0                  49.0   \n",
       "228            35-44   181.0                  44.0   \n",
       "277            55-64   102.0                  42.0   \n",
       "285            45-54   131.0                  48.0   \n",
       "323            55-64   292.0                  41.0   \n",
       "...              ...     ...                   ...   \n",
       "233096         65-74    91.0                  44.0   \n",
       "233100         35-44   118.0                  39.0   \n",
       "233106         35-44   132.0                  39.0   \n",
       "233117         55-64   271.0                  39.0   \n",
       "233130         35-44   149.0                  45.0   \n",
       "\n",
       "        applicant_credit_score_type  loan_amount  loan_to_value_ratio  ...  \\\n",
       "186                              11     155000.0               18.750  ...   \n",
       "228                               9     205000.0               89.052  ...   \n",
       "277                               2      15000.0               69.499  ...   \n",
       "285                               2      25000.0               70.664  ...   \n",
       "323                               3     435000.0               95.000  ...   \n",
       "...                             ...          ...                  ...  ...   \n",
       "233096                            9      85000.0               62.600  ...   \n",
       "233100                            3      65000.0               81.471  ...   \n",
       "233106                            9      25000.0               88.336  ...   \n",
       "233117                            2     175000.0               89.611  ...   \n",
       "233130                            2     225000.0               76.123  ...   \n",
       "\n",
       "        loan_type loan_purpose  lien_status  property_value  occupancy_type  \\\n",
       "186             1           32            1        805000.0               1   \n",
       "228             1            4            2        715000.0               1   \n",
       "277             1           32            2        195000.0               1   \n",
       "285             1            2            2        145000.0               1   \n",
       "323             1            1            1        455000.0               1   \n",
       "...           ...          ...          ...             ...             ...   \n",
       "233096          1           31            2        335000.0               1   \n",
       "233100          1            4            2        225000.0               1   \n",
       "233106          1            4            2        145000.0               1   \n",
       "233117          1            2            2        955000.0               1   \n",
       "233130          1            2            2        875000.0               1   \n",
       "\n",
       "        tract_minority_population_percent  aus-1  denial_reason-1  \\\n",
       "186                                 41.18      6                4   \n",
       "228                                 17.34      6                3   \n",
       "277                                  6.16      6                9   \n",
       "285                                  6.67      6                9   \n",
       "323                                 11.40      1                9   \n",
       "...                                   ...    ...              ...   \n",
       "233096                               8.02      6                3   \n",
       "233100                              12.19      6                3   \n",
       "233106                               7.11      6                3   \n",
       "233117                              37.53      6                3   \n",
       "233130                              25.48      6                4   \n",
       "\n",
       "        binary_accepted  binary_race  \n",
       "186               False            1  \n",
       "228               False            1  \n",
       "277               False            1  \n",
       "285               False            1  \n",
       "323               False            1  \n",
       "...                 ...          ...  \n",
       "233096            False            1  \n",
       "233100            False            1  \n",
       "233106            False            1  \n",
       "233117            False            1  \n",
       "233130            False            1  \n",
       "\n",
       "[11674 rows x 22 columns]"
      ]
     },
     "execution_count": 121,
     "metadata": {},
     "output_type": "execute_result"
    }
   ],
   "source": [
    "filtered_df[filtered_df['binary_accepted'] == False]"
   ]
  },
  {
   "cell_type": "markdown",
   "id": "9c1d5d47",
   "metadata": {},
   "source": [
    "Model 1: Logistic Regression"
   ]
  },
  {
   "cell_type": "code",
   "execution_count": 123,
   "id": "b7f9c3bc-f195-4037-ad91-83b5c76d5201",
   "metadata": {},
   "outputs": [
    {
     "name": "stdout",
     "output_type": "stream",
     "text": [
      "0.8649238758409064\n"
     ]
    }
   ],
   "source": [
    "# logistic regression\n",
    "from sklearn import metrics # check model accuracy\n",
    "\n",
    "lr = sk.linear_model.LogisticRegression()\n",
    "lr = LogisticRegression(max_iter=3000)\n",
    "\n",
    "lr.fit(X_train,y_train)\n",
    "y_pred = lr.predict(X_test)\n",
    "acc_lr = sk.metrics.accuracy_score(y_pred,y_test)\n",
    "print(acc_lr)"
   ]
  },
  {
   "cell_type": "markdown",
   "id": "3a5eba55",
   "metadata": {},
   "source": [
    "Model 2: Decision Tree"
   ]
  },
  {
   "cell_type": "code",
   "execution_count": 125,
   "id": "c022c527",
   "metadata": {},
   "outputs": [
    {
     "name": "stdout",
     "output_type": "stream",
     "text": [
      "0.7850820252566978\n"
     ]
    }
   ],
   "source": [
    "# decision tree model\n",
    "from sklearn.tree import DecisionTreeClassifier\n",
    "from sklearn import metrics # check model accuracy\n",
    "\n",
    "dt = DecisionTreeClassifier()\n",
    "dt.fit(X_train,y_train)\n",
    "y_pred = dt.predict(X_test)\n",
    "acc_dt = metrics.accuracy_score(y_pred,y_test)\n",
    "print(acc_dt)"
   ]
  },
  {
   "cell_type": "markdown",
   "id": "55035760-910e-4a08-9eb4-dffae411a428",
   "metadata": {},
   "source": [
    "Model 3: K-Nearest Neighbors"
   ]
  },
  {
   "cell_type": "code",
   "execution_count": 127,
   "id": "1bbbabc7-3bcc-4285-957a-aefcf4e1de65",
   "metadata": {},
   "outputs": [
    {
     "name": "stdout",
     "output_type": "stream",
     "text": [
      "0.8358904756284669\n"
     ]
    }
   ],
   "source": [
    "# knn\n",
    "from sklearn.neighbors import KNeighborsClassifier # KNN\n",
    "\n",
    "knc = KNeighborsClassifier(n_neighbors=3) # for k=3\n",
    "knc.fit(X_train,y_train)\n",
    "y_pred = knc.predict(X_test)\n",
    "acc_knn = sk.metrics.accuracy_score(y_pred,y_test)\n",
    "print(acc_knn)"
   ]
  },
  {
   "cell_type": "code",
   "execution_count": 128,
   "id": "3f5fbc30-5c5d-4ccc-9d9d-c60d0e3f1458",
   "metadata": {},
   "outputs": [
    {
     "data": {
      "text/html": [
       "<div>\n",
       "<style scoped>\n",
       "    .dataframe tbody tr th:only-of-type {\n",
       "        vertical-align: middle;\n",
       "    }\n",
       "\n",
       "    .dataframe tbody tr th {\n",
       "        vertical-align: top;\n",
       "    }\n",
       "\n",
       "    .dataframe thead th {\n",
       "        text-align: right;\n",
       "    }\n",
       "</style>\n",
       "<table border=\"1\" class=\"dataframe\">\n",
       "  <thead>\n",
       "    <tr style=\"text-align: right;\">\n",
       "      <th></th>\n",
       "      <th>Model</th>\n",
       "      <th>Score</th>\n",
       "    </tr>\n",
       "  </thead>\n",
       "  <tbody>\n",
       "    <tr>\n",
       "      <th>0</th>\n",
       "      <td>Logistic Regression</td>\n",
       "      <td>0.864924</td>\n",
       "    </tr>\n",
       "    <tr>\n",
       "      <th>2</th>\n",
       "      <td>K-Nearest Neighbours</td>\n",
       "      <td>0.835890</td>\n",
       "    </tr>\n",
       "    <tr>\n",
       "      <th>1</th>\n",
       "      <td>Decision Tree</td>\n",
       "      <td>0.785082</td>\n",
       "    </tr>\n",
       "  </tbody>\n",
       "</table>\n",
       "</div>"
      ],
      "text/plain": [
       "                  Model     Score\n",
       "0   Logistic Regression  0.864924\n",
       "2  K-Nearest Neighbours  0.835890\n",
       "1         Decision Tree  0.785082"
      ]
     },
     "execution_count": 128,
     "metadata": {},
     "output_type": "execute_result"
    }
   ],
   "source": [
    "# plot overall accuracy comparison between models\n",
    "models = pd.DataFrame({\n",
    "    'Model': ['Logistic Regression', 'Decision Tree','K-Nearest Neighbours'],\n",
    "    'Score': [acc_lr, acc_dt, acc_knn]})\n",
    "models.sort_values(by='Score', ascending=False)"
   ]
  },
  {
   "cell_type": "markdown",
   "id": "6e902ac9-151b-4d9e-a109-cd5d62f568c7",
   "metadata": {},
   "source": [
    "Look for algorithmic bias by comparing accuracy rates across races."
   ]
  },
  {
   "cell_type": "code",
   "execution_count": 130,
   "id": "19725356-8aa6-43c7-bd49-efe24de65d9b",
   "metadata": {},
   "outputs": [],
   "source": [
    "# split data and get predictions between men and women\n",
    "x_var = [\"debt_to_income_ratio\",\"income\",\"loan_to_value_ratio\",\"loan_amount\",\"property_value\"]\n",
    "\n",
    "test_b = test.loc[test['derived_race'] == \"Black or African American\"]\n",
    "test_w = test.loc[test['derived_race'] == \"White\"]\n",
    "\n",
    "X_test_b, X_test_w = test_b[x_var], test_w[x_var]\n",
    "y_test_b, y_test_w = test_b['binary_accepted'], test_w['binary_accepted']\n",
    "\n",
    "y_pred_b = knc.predict(X_test_b)\n",
    "y_pred_w = knc.predict(X_test_w)"
   ]
  },
  {
   "cell_type": "code",
   "execution_count": 131,
   "id": "3737626d-e5c3-46a5-a5f3-4d829dea0372",
   "metadata": {},
   "outputs": [
    {
     "name": "stdout",
     "output_type": "stream",
     "text": [
      "Black or African American:  0.7606659729448492\n",
      "White:  0.845513844515442\n"
     ]
    }
   ],
   "source": [
    "# report accuracy\n",
    "acc_log_b = sk.metrics.accuracy_score(y_pred_b, y_test_b)\n",
    "acc_log_w = sk.metrics.accuracy_score(y_pred_w, y_test_w)\n",
    "print('Black or African American: ', acc_log_b)\n",
    "print('White: ', acc_log_w)"
   ]
  },
  {
   "cell_type": "markdown",
   "id": "6994c91b-8e09-40bc-b28d-b971ce89345f",
   "metadata": {},
   "source": [
    "Examine selection, false positive, and false negative rates when model takes race into account"
   ]
  },
  {
   "cell_type": "code",
   "execution_count": 133,
   "id": "1d682a31-403e-4885-bc85-a835e30f3de6",
   "metadata": {},
   "outputs": [],
   "source": [
    "import fairlearn\n",
    "from fairlearn.metrics import demographic_parity_ratio, MetricFrame, selection_rate, false_positive_rate, false_negative_rate\n",
    "from sklearn import metrics\n",
    "from sklearn.metrics import accuracy_score\n",
    "\n",
    "X_train, X_test = train[[\"debt_to_income_ratio\",\"income\",\"loan_to_value_ratio\",\"loan_amount\",\"property_value\", \"binary_race\"]], \\\n",
    "test[[\"debt_to_income_ratio\",\"income\",\"loan_to_value_ratio\",\"loan_amount\",\"property_value\", \"binary_race\"]] \n",
    "\n",
    "dt = DecisionTreeClassifier()\n",
    "dt.fit(X_train,y_train)\n",
    "y_pred = dt.predict(X_test)\n",
    "acc_dt = metrics.accuracy_score(y_pred,y_test)"
   ]
  },
  {
   "cell_type": "code",
   "execution_count": 134,
   "id": "ef414424-c681-4f5e-aa2d-654009c21fc4",
   "metadata": {},
   "outputs": [
    {
     "data": {
      "text/html": [
       "<div>\n",
       "<style scoped>\n",
       "    .dataframe tbody tr th:only-of-type {\n",
       "        vertical-align: middle;\n",
       "    }\n",
       "\n",
       "    .dataframe tbody tr th {\n",
       "        vertical-align: top;\n",
       "    }\n",
       "\n",
       "    .dataframe thead th {\n",
       "        text-align: right;\n",
       "    }\n",
       "</style>\n",
       "<table border=\"1\" class=\"dataframe\">\n",
       "  <thead>\n",
       "    <tr style=\"text-align: right;\">\n",
       "      <th></th>\n",
       "      <th>accuracy</th>\n",
       "      <th>selection rate</th>\n",
       "      <th>FPR</th>\n",
       "      <th>FNR</th>\n",
       "    </tr>\n",
       "    <tr>\n",
       "      <th>binary_race</th>\n",
       "      <th></th>\n",
       "      <th></th>\n",
       "      <th></th>\n",
       "      <th></th>\n",
       "    </tr>\n",
       "  </thead>\n",
       "  <tbody>\n",
       "    <tr>\n",
       "      <th>0</th>\n",
       "      <td>0.693548</td>\n",
       "      <td>0.772633</td>\n",
       "      <td>0.684466</td>\n",
       "      <td>0.203311</td>\n",
       "    </tr>\n",
       "    <tr>\n",
       "      <th>1</th>\n",
       "      <td>0.797191</td>\n",
       "      <td>0.855365</td>\n",
       "      <td>0.733191</td>\n",
       "      <td>0.127224</td>\n",
       "    </tr>\n",
       "  </tbody>\n",
       "</table>\n",
       "</div>"
      ],
      "text/plain": [
       "             accuracy  selection rate       FPR       FNR\n",
       "binary_race                                              \n",
       "0            0.693548        0.772633  0.684466  0.203311\n",
       "1            0.797191        0.855365  0.733191  0.127224"
      ]
     },
     "execution_count": 134,
     "metadata": {},
     "output_type": "execute_result"
    }
   ],
   "source": [
    "metrics = {\n",
    "    'accuracy' : accuracy_score,\n",
    "    'selection rate' : selection_rate,\n",
    "    'FPR' : false_positive_rate,\n",
    "    'FNR' : false_negative_rate\n",
    "}\n",
    "\n",
    "# sensitive_features is an array (or series)\n",
    "mf = MetricFrame(metrics = metrics, y_true=y_test, y_pred=y_pred, sensitive_features=X_test['binary_race'])\n",
    "mf.by_group"
   ]
  }
 ],
 "metadata": {
  "kernelspec": {
   "display_name": "Python 3 (ipykernel)",
   "language": "python",
   "name": "python3"
  },
  "language_info": {
   "codemirror_mode": {
    "name": "ipython",
    "version": 3
   },
   "file_extension": ".py",
   "mimetype": "text/x-python",
   "name": "python",
   "nbconvert_exporter": "python",
   "pygments_lexer": "ipython3",
   "version": "3.12.7"
  }
 },
 "nbformat": 4,
 "nbformat_minor": 5
}
