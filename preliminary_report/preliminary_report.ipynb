{
 "cells": [
  {
   "cell_type": "markdown",
   "id": "c090f5b2",
   "metadata": {},
   "source": [
    "# Notebook Setup"
   ]
  },
  {
   "cell_type": "code",
   "execution_count": 3,
   "id": "dfdf8bf5-d543-4dc8-82ea-5516767d4b13",
   "metadata": {},
   "outputs": [],
   "source": [
    "import pandas as pd\n",
    "import numpy as np\n",
    "import matplotlib.pyplot as plt\n",
    "import seaborn as sns\n",
    "import statsmodels as sm\n",
    "import statsmodels.formula.api as smf\n",
    "import sklearn as sk"
   ]
  },
  {
   "cell_type": "code",
   "execution_count": 4,
   "id": "d2a1606c-f2a6-46e2-99ed-8296ac9c5c17",
   "metadata": {},
   "outputs": [
    {
     "name": "stdout",
     "output_type": "stream",
     "text": [
      "<class 'pandas.core.frame.DataFrame'>\n",
      "RangeIndex: 233144 entries, 0 to 233143\n",
      "Data columns (total 20 columns):\n",
      " #   Column                             Non-Null Count   Dtype  \n",
      "---  ------                             --------------   -----  \n",
      " 0   action_taken                       233144 non-null  int64  \n",
      " 1   derived_race                       233144 non-null  object \n",
      " 2   derived_ethnicity                  233144 non-null  object \n",
      " 3   applicant_sex                      233144 non-null  int64  \n",
      " 4   applicant_age                      233144 non-null  object \n",
      " 5   income                             226538 non-null  float64\n",
      " 6   debt_to_income_ratio               100684 non-null  float64\n",
      " 7   applicant_credit_score_type        233144 non-null  int64  \n",
      " 8   loan_amount                        233144 non-null  float64\n",
      " 9   loan_to_value_ratio                224447 non-null  float64\n",
      " 10  interest_rate                      176143 non-null  float64\n",
      " 11  rate_spread                        151964 non-null  object \n",
      " 12  loan_type                          233144 non-null  int64  \n",
      " 13  loan_purpose                       233144 non-null  int64  \n",
      " 14  lien_status                        233144 non-null  int64  \n",
      " 15  property_value                     233144 non-null  float64\n",
      " 16  occupancy_type                     233144 non-null  int64  \n",
      " 17  tract_minority_population_percent  233144 non-null  float64\n",
      " 18  aus-1                              233144 non-null  int64  \n",
      " 19  denial_reason-1                    233144 non-null  int64  \n",
      "dtypes: float64(7), int64(9), object(4)\n",
      "memory usage: 35.6+ MB\n"
     ]
    },
    {
     "name": "stderr",
     "output_type": "stream",
     "text": [
      "/var/folders/bk/9ksdjj7n47qdwk9fmh_w5rbc0000gn/T/ipykernel_30308/554199657.py:1: DtypeWarning: Columns (11) have mixed types. Specify dtype option on import or set low_memory=False.\n",
      "  df = pd.read_csv('../data/clean-data/cleaned_nys_data.csv')\n"
     ]
    }
   ],
   "source": [
    "df = pd.read_csv('../data/clean-data/cleaned_nys_data.csv')\n",
    "df.info()"
   ]
  },
  {
   "cell_type": "markdown",
   "id": "5693386d",
   "metadata": {},
   "source": [
    "# Impact Analysis Using HMDA Loan Approval Data, proxy outcome\n",
    "regression models (MLR, logistic regression, ML algorithms?) – Victor, Zheka\n",
    "Keeping predictors similar but testing across different outcome variables (loan amount, interest rate, application outcome)\n",
    "Switching zip-code with race and testing other outcomes (?)"
   ]
  },
  {
   "cell_type": "markdown",
   "id": "fcbbf3eb",
   "metadata": {},
   "source": [
    "Model 1: logistic regression that predicts loan outcome\n",
    "Model 2: loan amount (MLR)\n",
    "Model 3: interest rate (MLR), rate_spread"
   ]
  },
  {
   "cell_type": "code",
   "execution_count": 5,
   "id": "d31e1581",
   "metadata": {},
   "outputs": [
    {
     "data": {
      "text/html": [
       "<div>\n",
       "<style scoped>\n",
       "    .dataframe tbody tr th:only-of-type {\n",
       "        vertical-align: middle;\n",
       "    }\n",
       "\n",
       "    .dataframe tbody tr th {\n",
       "        vertical-align: top;\n",
       "    }\n",
       "\n",
       "    .dataframe thead th {\n",
       "        text-align: right;\n",
       "    }\n",
       "</style>\n",
       "<table border=\"1\" class=\"dataframe\">\n",
       "  <thead>\n",
       "    <tr style=\"text-align: right;\">\n",
       "      <th></th>\n",
       "      <th>applicant_sex</th>\n",
       "      <th>binary_race</th>\n",
       "      <th>binary_ethnicity</th>\n",
       "      <th>binary_denied</th>\n",
       "    </tr>\n",
       "  </thead>\n",
       "  <tbody>\n",
       "    <tr>\n",
       "      <th>applicant_sex</th>\n",
       "      <td>1.000000</td>\n",
       "      <td>-0.089703</td>\n",
       "      <td>-0.000775</td>\n",
       "      <td>0.021091</td>\n",
       "    </tr>\n",
       "    <tr>\n",
       "      <th>binary_race</th>\n",
       "      <td>-0.089703</td>\n",
       "      <td>1.000000</td>\n",
       "      <td>-0.000189</td>\n",
       "      <td>-0.124504</td>\n",
       "    </tr>\n",
       "    <tr>\n",
       "      <th>binary_ethnicity</th>\n",
       "      <td>-0.000775</td>\n",
       "      <td>-0.000189</td>\n",
       "      <td>1.000000</td>\n",
       "      <td>-0.063217</td>\n",
       "    </tr>\n",
       "    <tr>\n",
       "      <th>binary_denied</th>\n",
       "      <td>0.021091</td>\n",
       "      <td>-0.124504</td>\n",
       "      <td>-0.063217</td>\n",
       "      <td>1.000000</td>\n",
       "    </tr>\n",
       "  </tbody>\n",
       "</table>\n",
       "</div>"
      ],
      "text/plain": [
       "                  applicant_sex  binary_race  binary_ethnicity  binary_denied\n",
       "applicant_sex          1.000000    -0.089703         -0.000775       0.021091\n",
       "binary_race           -0.089703     1.000000         -0.000189      -0.124504\n",
       "binary_ethnicity      -0.000775    -0.000189          1.000000      -0.063217\n",
       "binary_denied          0.021091    -0.124504         -0.063217       1.000000"
      ]
     },
     "execution_count": 5,
     "metadata": {},
     "output_type": "execute_result"
    }
   ],
   "source": [
    "df_slice = df.loc[(df['derived_race'] == \"Black or African American\") | (df['derived_race'] == \"White\")]\n",
    "df_race = df_slice.copy()\n",
    "df_race['binary_race'] = 0\n",
    "df_race.loc[df_race['derived_race'] == \"White\", 'binary_race'] = 1\n",
    "\n",
    "# # transform derived ethnicity to binary column for Hispanic or not\n",
    "df_race['binary_ethnicity'] = 0\n",
    "df_race.loc[df_race['derived_ethnicity'] == \"Not Hispanic or Latino\", 'binary_ethnicity'] = 1\n",
    "\n",
    "# # create column with 0 for denied applications/preapproval requests and 1 for accepted applications\n",
    "df_race['binary_denied'] = 0\n",
    "df_race.loc[(df_race['action_taken'] == 3) | (df_race['action_taken'] == 7), 'binary_denied'] = 1\n",
    "\n",
    "# # create correlation matrix\n",
    "df_corr = df_race[['applicant_sex','binary_race','binary_ethnicity','binary_denied']]\n",
    "df_corr.corr()"
   ]
  },
  {
   "cell_type": "code",
   "execution_count": 7,
   "id": "a1170c5d",
   "metadata": {},
   "outputs": [
    {
     "data": {
      "text/plain": [
       "Index(['action_taken', 'derived_race', 'derived_ethnicity', 'applicant_sex',\n",
       "       'applicant_age', 'income', 'debt_to_income_ratio',\n",
       "       'applicant_credit_score_type', 'loan_amount', 'loan_to_value_ratio',\n",
       "       'interest_rate', 'rate_spread', 'loan_type', 'loan_purpose',\n",
       "       'lien_status', 'property_value', 'occupancy_type',\n",
       "       'tract_minority_population_percent', 'aus-1', 'denial_reason-1'],\n",
       "      dtype='object')"
      ]
     },
     "execution_count": 7,
     "metadata": {},
     "output_type": "execute_result"
    }
   ],
   "source": [
    "df.columns"
   ]
  },
  {
   "cell_type": "code",
   "execution_count": 10,
   "id": "311b7b2b",
   "metadata": {},
   "outputs": [
    {
     "name": "stdout",
     "output_type": "stream",
     "text": [
      "<class 'pandas.core.frame.DataFrame'>\n",
      "RangeIndex: 233144 entries, 0 to 233143\n",
      "Data columns (total 20 columns):\n",
      " #   Column                             Non-Null Count   Dtype  \n",
      "---  ------                             --------------   -----  \n",
      " 0   action_taken                       233144 non-null  int64  \n",
      " 1   derived_race                       233144 non-null  object \n",
      " 2   derived_ethnicity                  233144 non-null  object \n",
      " 3   applicant_sex                      233144 non-null  int64  \n",
      " 4   applicant_age                      233144 non-null  object \n",
      " 5   income                             226538 non-null  float64\n",
      " 6   debt_to_income_ratio               100684 non-null  float64\n",
      " 7   applicant_credit_score_type        233144 non-null  int64  \n",
      " 8   loan_amount                        233144 non-null  float64\n",
      " 9   loan_to_value_ratio                224447 non-null  float64\n",
      " 10  interest_rate                      176143 non-null  float64\n",
      " 11  rate_spread                        151964 non-null  object \n",
      " 12  loan_type                          233144 non-null  int64  \n",
      " 13  loan_purpose                       233144 non-null  int64  \n",
      " 14  lien_status                        233144 non-null  int64  \n",
      " 15  property_value                     233144 non-null  float64\n",
      " 16  occupancy_type                     233144 non-null  int64  \n",
      " 17  tract_minority_population_percent  233144 non-null  float64\n",
      " 18  aus-1                              233144 non-null  int64  \n",
      " 19  denial_reason-1                    233144 non-null  int64  \n",
      "dtypes: float64(7), int64(9), object(4)\n",
      "memory usage: 35.6+ MB\n"
     ]
    }
   ],
   "source": [
    "df.info()"
   ]
  },
  {
   "cell_type": "code",
   "execution_count": 12,
   "id": "3adff7fd",
   "metadata": {},
   "outputs": [
    {
     "name": "stdout",
     "output_type": "stream",
     "text": [
      "<class 'pandas.core.frame.DataFrame'>\n",
      "Index: 66615 entries, 0 to 233143\n",
      "Data columns (total 23 columns):\n",
      " #   Column                             Non-Null Count  Dtype  \n",
      "---  ------                             --------------  -----  \n",
      " 0   action_taken                       66615 non-null  int64  \n",
      " 1   derived_race                       66615 non-null  object \n",
      " 2   derived_ethnicity                  66615 non-null  object \n",
      " 3   applicant_sex                      66615 non-null  int64  \n",
      " 4   applicant_age                      66615 non-null  object \n",
      " 5   income                             66615 non-null  float64\n",
      " 6   debt_to_income_ratio               66615 non-null  float64\n",
      " 7   applicant_credit_score_type        66615 non-null  int64  \n",
      " 8   loan_amount                        66615 non-null  float64\n",
      " 9   loan_to_value_ratio                66615 non-null  float64\n",
      " 10  interest_rate                      66615 non-null  float64\n",
      " 11  rate_spread                        66615 non-null  object \n",
      " 12  loan_type                          66615 non-null  int64  \n",
      " 13  loan_purpose                       66615 non-null  int64  \n",
      " 14  lien_status                        66615 non-null  int64  \n",
      " 15  property_value                     66615 non-null  float64\n",
      " 16  occupancy_type                     66615 non-null  int64  \n",
      " 17  tract_minority_population_percent  66615 non-null  float64\n",
      " 18  aus-1                              66615 non-null  int64  \n",
      " 19  denial_reason-1                    66615 non-null  int64  \n",
      " 20  binary_race                        66615 non-null  int64  \n",
      " 21  binary_ethnicity                   66615 non-null  int64  \n",
      " 22  binary_denied                      66615 non-null  int64  \n",
      "dtypes: float64(7), int64(12), object(4)\n",
      "memory usage: 12.2+ MB\n"
     ]
    }
   ],
   "source": [
    "df_race.info()"
   ]
  },
  {
   "cell_type": "code",
   "execution_count": null,
   "id": "cb7e9f46",
   "metadata": {},
   "outputs": [],
   "source": [
    "age_map = {'<25': 1, '25-34': 2, '35-54' : 3, '45-54' : 4, '55-64' : 5, '65-74' : 6, '>74' : 7,'8888' : 8}\n",
    "df_race['age_categorical'] = df_race['applicant_age'].map(age_map)\n",
    "# "
   ]
  },
  {
   "cell_type": "code",
   "execution_count": 39,
   "id": "ac2a935b",
   "metadata": {},
   "outputs": [
    {
     "name": "stdout",
     "output_type": "stream",
     "text": [
      "                            OLS Regression Results                            \n",
      "==============================================================================\n",
      "Dep. Variable:            loan_amount   R-squared:                       0.794\n",
      "Model:                            OLS   Adj. R-squared:                  0.794\n",
      "Method:                 Least Squares   F-statistic:                 1.381e+04\n",
      "Date:                Sat, 05 Apr 2025   Prob (F-statistic):               0.00\n",
      "Time:                        13:56:21   Log-Likelihood:            -6.7285e+05\n",
      "No. Observations:               50031   AIC:                         1.346e+06\n",
      "Df Residuals:                   50016   BIC:                         1.346e+06\n",
      "Df Model:                          14                                         \n",
      "Covariance Type:            nonrobust                                         \n",
      "=====================================================================================================\n",
      "                                        coef    std err          t      P>|t|      [0.025      0.975]\n",
      "-----------------------------------------------------------------------------------------------------\n",
      "const                              6900.6706    1.1e+04      0.625      0.532   -1.47e+04    2.85e+04\n",
      "tract_minority_population_percent   503.7359     35.904     14.030      0.000     433.364     574.108\n",
      "binary_race                        1.326e+04   2855.680      4.643      0.000    7660.487    1.89e+04\n",
      "debt_to_income_ratio                967.9627    192.531      5.028      0.000     590.600    1345.325\n",
      "income                               44.9039      1.855     24.207      0.000      41.268      48.540\n",
      "property_value                        0.4525      0.001    372.036      0.000       0.450       0.455\n",
      "applicant_sex                     -1.115e+04   1479.130     -7.541      0.000   -1.41e+04   -8254.750\n",
      "age_categorical                    -300.2887    352.065     -0.853      0.394    -990.339     389.762\n",
      "applicant_credit_score_type        1439.2581    295.117      4.877      0.000     860.826    2017.690\n",
      "loan_to_value_ratio                4175.0457     41.782     99.923      0.000    4093.152    4256.940\n",
      "loan_type                         -2.508e+04   1912.832    -13.112      0.000   -2.88e+04   -2.13e+04\n",
      "loan_purpose                       -454.9917     66.632     -6.828      0.000    -585.591    -324.392\n",
      "lien_status                       -2.429e+05   2356.201   -103.099      0.000   -2.48e+05   -2.38e+05\n",
      "occupancy_type                     1.021e+04   2953.007      3.456      0.001    4418.615     1.6e+04\n",
      "aus-1                              1532.9308    471.755      3.249      0.001     608.285    2457.577\n",
      "==============================================================================\n",
      "Omnibus:                    36974.175   Durbin-Watson:                   1.796\n",
      "Prob(Omnibus):                  0.000   Jarque-Bera (JB):        173132959.440\n",
      "Skew:                           1.883   Prob(JB):                         0.00\n",
      "Kurtosis:                     291.163   Cond. No.                     1.29e+07\n",
      "==============================================================================\n",
      "\n",
      "Notes:\n",
      "[1] Standard Errors assume that the covariance matrix of the errors is correctly specified.\n",
      "[2] The condition number is large, 1.29e+07. This might indicate that there are\n",
      "strong multicollinearity or other numerical problems.\n"
     ]
    }
   ],
   "source": [
    "import statsmodels.api as sm\n",
    "df_race = df_race.dropna()\n",
    "# df_race = df_race.dropna(subset=['interest_rate', 'tract_minority_population_percent', 'applicant_age',\n",
    "#                                  'debt_to_income_ratio', 'income', \"property_value\", \"loan_to_value_ratio\", \"loan_amount\")\n",
    "\n",
    "# X = df_race[[ 'binary_race','applicant_sex',\n",
    "#        'applicant_age', 'income', 'debt_to_income_ratio',\n",
    "#        'applicant_credit_score_type', 'loan_to_value_ratio', 'loan_type', 'loan_purpose',\n",
    "#        'lien_status', 'property_value', 'occupancy_type',\n",
    "#        'tract_minority_population_percent', 'aus-1']]\n",
    "\n",
    "X = df_race[['tract_minority_population_percent', \"binary_race\", \"debt_to_income_ratio\", 'income', \"property_value\", 'applicant_sex',\n",
    "             'age_categorical', 'applicant_credit_score_type', 'loan_to_value_ratio', 'loan_type', 'loan_purpose', 'lien_status', \n",
    "             'occupancy_type', 'aus-1']]\n",
    "y = df_race['loan_amount']\n",
    "\n",
    "X = sm.add_constant(X)\n",
    "\n",
    "model = sm.OLS(y, X).fit()\n",
    "\n",
    "print(model.summary())"
   ]
  },
  {
   "cell_type": "markdown",
   "id": "ce132fb5",
   "metadata": {},
   "source": [
    "# Recreation of model \n",
    "Train a model based on outcome (denial vs acceptance) using similar predictors\n",
    "Look for bias in the outcomes of the model -> conclusion about biased data creating biased models in future "
   ]
  },
  {
   "cell_type": "code",
   "execution_count": 129,
   "id": "510d1bca-244a-4def-9ac7-b4e8397af275",
   "metadata": {},
   "outputs": [],
   "source": [
    "from sklearn.model_selection import train_test_split\n",
    "\n",
    "# select columns that were explicitly approved or denied\n",
    "filtered_df = df.loc[(df[\"action_taken\"] == 1) | (df[\"action_taken\"] == 2) | (df[\"action_taken\"] == 7)]\n",
    "\n",
    "# remove na values\n",
    "filtered_df = filtered_df.dropna(subset=[\"debt_to_income_ratio\",\"income\",\"loan_to_value_ratio\",\"loan_amount\",\"property_value\"])\n",
    "\n",
    "# create binary accepted column\n",
    "filtered_df[\"binary_accepted\"] = True\n",
    "filtered_df.loc[filtered_df[\"action_taken\"] == 7, 'binary_accepted'] = False\n",
    "counts = filtered_df['binary_accepted'].value_counts()\n",
    "\n",
    "# split data\n",
    "\n",
    "X = filtered_df[[\"debt_to_income_ratio\",\"income\",\"loan_to_value_ratio\",\"loan_amount\",\"property_value\"]]\n",
    "y = filtered_df[\"binary_accepted\"]\n",
    "\n",
    "X_train, X_test, y_train, y_test = train_test_split(X, y, test_size=0.2)"
   ]
  },
  {
   "cell_type": "code",
   "execution_count": 131,
   "id": "b7f9c3bc-f195-4037-ad91-83b5c76d5201",
   "metadata": {},
   "outputs": [],
   "source": [
    "from sklearn.linear_model import LinearRegression\n",
    "model = sk.linear_model.LinearRegression().fit(X,y)"
   ]
  },
  {
   "cell_type": "code",
   "execution_count": 137,
   "id": "b9f1acc0-28bd-4232-b9c9-840d0215e9e7",
   "metadata": {},
   "outputs": [
    {
     "name": "stdout",
     "output_type": "stream",
     "text": [
      "0.0002840976401518036\n"
     ]
    }
   ],
   "source": [
    "# report accuracy on test set\n",
    "print(model.score(X_test, y_test)) # Output: 1.0"
   ]
  }
 ],
 "metadata": {
  "kernelspec": {
   "display_name": "cmpu-250",
   "language": "python",
   "name": "python3"
  },
  "language_info": {
   "codemirror_mode": {
    "name": "ipython",
    "version": 3
   },
   "file_extension": ".py",
   "mimetype": "text/x-python",
   "name": "python",
   "nbconvert_exporter": "python",
   "pygments_lexer": "ipython3",
   "version": "3.12.9"
  }
 },
 "nbformat": 4,
 "nbformat_minor": 5
}
