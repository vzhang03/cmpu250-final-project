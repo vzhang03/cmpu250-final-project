{
 "cells": [
  {
   "cell_type": "markdown",
   "id": "c090f5b2",
   "metadata": {},
   "source": [
    "# Notebook Setup"
   ]
  },
  {
   "cell_type": "code",
   "execution_count": 36,
   "id": "dfdf8bf5-d543-4dc8-82ea-5516767d4b13",
   "metadata": {},
   "outputs": [],
   "source": [
    "import pandas as pd\n",
    "import numpy as np\n",
    "import matplotlib.pyplot as plt\n",
    "import seaborn as sns\n",
    "import statsmodels as sm\n",
    "import statsmodels.formula.api as smf\n",
    "import sklearn as sk"
   ]
  },
  {
   "cell_type": "code",
   "execution_count": 37,
   "id": "d2a1606c-f2a6-46e2-99ed-8296ac9c5c17",
   "metadata": {},
   "outputs": [
    {
     "name": "stdout",
     "output_type": "stream",
     "text": [
      "<class 'pandas.core.frame.DataFrame'>\n",
      "RangeIndex: 233144 entries, 0 to 233143\n",
      "Data columns (total 20 columns):\n",
      " #   Column                             Non-Null Count   Dtype  \n",
      "---  ------                             --------------   -----  \n",
      " 0   action_taken                       233144 non-null  int64  \n",
      " 1   derived_race                       233144 non-null  object \n",
      " 2   derived_ethnicity                  233144 non-null  object \n",
      " 3   applicant_sex                      233144 non-null  int64  \n",
      " 4   applicant_age                      233144 non-null  object \n",
      " 5   income                             226538 non-null  float64\n",
      " 6   debt_to_income_ratio               100684 non-null  float64\n",
      " 7   applicant_credit_score_type        233144 non-null  int64  \n",
      " 8   loan_amount                        233144 non-null  float64\n",
      " 9   loan_to_value_ratio                224447 non-null  float64\n",
      " 10  interest_rate                      176143 non-null  float64\n",
      " 11  rate_spread                        151964 non-null  object \n",
      " 12  loan_type                          233144 non-null  int64  \n",
      " 13  loan_purpose                       233144 non-null  int64  \n",
      " 14  lien_status                        233144 non-null  int64  \n",
      " 15  property_value                     233144 non-null  float64\n",
      " 16  occupancy_type                     233144 non-null  int64  \n",
      " 17  tract_minority_population_percent  233144 non-null  float64\n",
      " 18  aus-1                              233144 non-null  int64  \n",
      " 19  denial_reason-1                    233144 non-null  int64  \n",
      "dtypes: float64(7), int64(9), object(4)\n",
      "memory usage: 35.6+ MB\n"
     ]
    },
    {
     "name": "stderr",
     "output_type": "stream",
     "text": [
      "/var/folders/ks/s_c55z9517dglyh1tf2y9rhh0000gn/T/ipykernel_60702/1206858015.py:1: DtypeWarning: Columns (11) have mixed types. Specify dtype option on import or set low_memory=False.\n",
      "  df = pd.read_csv('../data/clean-data/cleaned_nys_data.csv')\n"
     ]
    }
   ],
   "source": [
    "df = pd.read_csv('../data/clean-data/cleaned_nys_data.csv')\n",
    "df_original = df.copy()\n",
    "df.info()"
   ]
  },
  {
   "cell_type": "markdown",
   "id": "5693386d",
   "metadata": {},
   "source": [
    "# Impact Analysis Using HMDA Loan Approval Data"
   ]
  },
  {
   "cell_type": "code",
   "execution_count": 72,
   "id": "d31e1581",
   "metadata": {},
   "outputs": [],
   "source": [
    "# Selecting Black and White applications and creating variable denoting whether white\n",
    "df_slice = df.loc[(df['derived_race'] == \"Black or African American\") | (df['derived_race'] == \"White\")]\n",
    "df_race = df_slice.copy()\n",
    "df_race['binary_race'] = 0\n",
    "df_race.loc[df_race['derived_race'] == \"White\", 'binary_race'] = 1\n",
    "\n",
    "# Transform derived ethnicity to binary column for Hispanic or not\n",
    "df_race['binary_ethnicity'] = 0\n",
    "df_race.loc[df_race['derived_ethnicity'] == \"Not Hispanic or Latino\", 'binary_ethnicity'] = 1"
   ]
  },
  {
   "cell_type": "code",
   "execution_count": 81,
   "id": "cb7e9f46",
   "metadata": {},
   "outputs": [],
   "source": [
    "age_map = {'<25': 1, '25-34': 2, '35-44' : 3, '45-54' : 4, '55-64' : 5, '65-74' : 6, '>74' : 7,'8888' : 8}\n",
    "df_race['age_categorical'] = df_race['applicant_age'].map(age_map)\n",
    "# "
   ]
  },
  {
   "cell_type": "code",
   "execution_count": 82,
   "id": "8e197a4c",
   "metadata": {},
   "outputs": [
    {
     "data": {
      "text/plain": [
       "Index(['action_taken', 'derived_race', 'derived_ethnicity', 'applicant_sex',\n",
       "       'applicant_age', 'income', 'debt_to_income_ratio',\n",
       "       'applicant_credit_score_type', 'loan_amount', 'loan_to_value_ratio',\n",
       "       'interest_rate', 'rate_spread', 'loan_type', 'loan_purpose',\n",
       "       'lien_status', 'property_value', 'occupancy_type',\n",
       "       'tract_minority_population_percent', 'aus-1', 'denial_reason-1',\n",
       "       'binary_race', 'binary_ethnicity', 'age_categorical'],\n",
       "      dtype='object')"
      ]
     },
     "execution_count": 82,
     "metadata": {},
     "output_type": "execute_result"
    }
   ],
   "source": [
    "df_race.columns"
   ]
  },
  {
   "cell_type": "code",
   "execution_count": 88,
   "id": "6ec44df4",
   "metadata": {},
   "outputs": [
    {
     "data": {
      "text/plain": [
       "applicant_age\n",
       "35-44    16584\n",
       "25-34    15798\n",
       "45-54    13146\n",
       "55-64    10761\n",
       "65-74     6047\n",
       "<25       2150\n",
       ">74       2126\n",
       "8888         2\n",
       "Name: count, dtype: int64"
      ]
     },
     "execution_count": 88,
     "metadata": {},
     "output_type": "execute_result"
    }
   ],
   "source": [
    "df_race['applicant_age'].value_counts()"
   ]
  },
  {
   "cell_type": "code",
   "execution_count": 86,
   "id": "11b77dd3",
   "metadata": {},
   "outputs": [
    {
     "data": {
      "text/plain": [
       "age_categorical\n",
       "3    16584\n",
       "2    15798\n",
       "4    13146\n",
       "5    10761\n",
       "6     6047\n",
       "1     2150\n",
       "7     2126\n",
       "8        2\n",
       "Name: count, dtype: int64"
      ]
     },
     "execution_count": 86,
     "metadata": {},
     "output_type": "execute_result"
    }
   ],
   "source": [
    "df_race['age_categorical'].value_counts()"
   ]
  },
  {
   "cell_type": "code",
   "execution_count": 83,
   "id": "e3c41360",
   "metadata": {},
   "outputs": [
    {
     "data": {
      "text/html": [
       "<div>\n",
       "<style scoped>\n",
       "    .dataframe tbody tr th:only-of-type {\n",
       "        vertical-align: middle;\n",
       "    }\n",
       "\n",
       "    .dataframe tbody tr th {\n",
       "        vertical-align: top;\n",
       "    }\n",
       "\n",
       "    .dataframe thead th {\n",
       "        text-align: right;\n",
       "    }\n",
       "</style>\n",
       "<table border=\"1\" class=\"dataframe\">\n",
       "  <thead>\n",
       "    <tr style=\"text-align: right;\">\n",
       "      <th></th>\n",
       "      <th>age_categorical</th>\n",
       "      <th>applicant_age</th>\n",
       "    </tr>\n",
       "  </thead>\n",
       "  <tbody>\n",
       "    <tr>\n",
       "      <th>0</th>\n",
       "      <td>4</td>\n",
       "      <td>45-54</td>\n",
       "    </tr>\n",
       "    <tr>\n",
       "      <th>2</th>\n",
       "      <td>2</td>\n",
       "      <td>25-34</td>\n",
       "    </tr>\n",
       "    <tr>\n",
       "      <th>3</th>\n",
       "      <td>2</td>\n",
       "      <td>25-34</td>\n",
       "    </tr>\n",
       "    <tr>\n",
       "      <th>6</th>\n",
       "      <td>3</td>\n",
       "      <td>35-44</td>\n",
       "    </tr>\n",
       "    <tr>\n",
       "      <th>7</th>\n",
       "      <td>2</td>\n",
       "      <td>25-34</td>\n",
       "    </tr>\n",
       "    <tr>\n",
       "      <th>...</th>\n",
       "      <td>...</td>\n",
       "      <td>...</td>\n",
       "    </tr>\n",
       "    <tr>\n",
       "      <th>233129</th>\n",
       "      <td>4</td>\n",
       "      <td>45-54</td>\n",
       "    </tr>\n",
       "    <tr>\n",
       "      <th>233135</th>\n",
       "      <td>4</td>\n",
       "      <td>45-54</td>\n",
       "    </tr>\n",
       "    <tr>\n",
       "      <th>233138</th>\n",
       "      <td>3</td>\n",
       "      <td>35-44</td>\n",
       "    </tr>\n",
       "    <tr>\n",
       "      <th>233140</th>\n",
       "      <td>5</td>\n",
       "      <td>55-64</td>\n",
       "    </tr>\n",
       "    <tr>\n",
       "      <th>233143</th>\n",
       "      <td>3</td>\n",
       "      <td>35-44</td>\n",
       "    </tr>\n",
       "  </tbody>\n",
       "</table>\n",
       "<p>66614 rows × 2 columns</p>\n",
       "</div>"
      ],
      "text/plain": [
       "        age_categorical applicant_age\n",
       "0                     4         45-54\n",
       "2                     2         25-34\n",
       "3                     2         25-34\n",
       "6                     3         35-44\n",
       "7                     2         25-34\n",
       "...                 ...           ...\n",
       "233129                4         45-54\n",
       "233135                4         45-54\n",
       "233138                3         35-44\n",
       "233140                5         55-64\n",
       "233143                3         35-44\n",
       "\n",
       "[66614 rows x 2 columns]"
      ]
     },
     "execution_count": 83,
     "metadata": {},
     "output_type": "execute_result"
    }
   ],
   "source": [
    "df_race[['age_categorical', 'applicant_age']]"
   ]
  },
  {
   "cell_type": "code",
   "execution_count": null,
   "id": "ea7c8d55",
   "metadata": {},
   "outputs": [],
   "source": [
    "# Cleaning rate_spread\n",
    "df_race = df_race[df_race['rate_spread'] != 'Exempt']\n",
    "df_race['rate_spread'] = pd.to_numeric(df_race['rate_spread'])"
   ]
  },
  {
   "cell_type": "code",
   "execution_count": 73,
   "id": "0bcb5ac5",
   "metadata": {},
   "outputs": [],
   "source": [
    "df_race = df_race.dropna()"
   ]
  },
  {
   "cell_type": "markdown",
   "id": "fcbbf3eb",
   "metadata": {},
   "source": [
    "Model 1: logistic regression that predicts loan outcome\n",
    "Model 2: loan amount (MLR)\n",
    "Model 3: interest rate (MLR), rate_spread"
   ]
  },
  {
   "cell_type": "markdown",
   "id": "49a27c1c",
   "metadata": {},
   "source": [
    "## Model 2: loan amount (MLR)"
   ]
  },
  {
   "cell_type": "code",
   "execution_count": 90,
   "id": "8dc133bc",
   "metadata": {},
   "outputs": [
    {
     "data": {
      "text/html": [
       "<div>\n",
       "<style scoped>\n",
       "    .dataframe tbody tr th:only-of-type {\n",
       "        vertical-align: middle;\n",
       "    }\n",
       "\n",
       "    .dataframe tbody tr th {\n",
       "        vertical-align: top;\n",
       "    }\n",
       "\n",
       "    .dataframe thead th {\n",
       "        text-align: right;\n",
       "    }\n",
       "</style>\n",
       "<table border=\"1\" class=\"dataframe\">\n",
       "  <thead>\n",
       "    <tr style=\"text-align: right;\">\n",
       "      <th></th>\n",
       "      <th>const</th>\n",
       "      <th>tract_minority_population_percent</th>\n",
       "      <th>binary_race</th>\n",
       "      <th>debt_to_income_ratio</th>\n",
       "      <th>income</th>\n",
       "      <th>property_value</th>\n",
       "      <th>applicant_sex</th>\n",
       "      <th>age_categorical</th>\n",
       "      <th>applicant_credit_score_type</th>\n",
       "      <th>loan_to_value_ratio</th>\n",
       "      <th>loan_type</th>\n",
       "      <th>loan_purpose</th>\n",
       "      <th>lien_status</th>\n",
       "      <th>occupancy_type</th>\n",
       "      <th>aus-1</th>\n",
       "    </tr>\n",
       "  </thead>\n",
       "  <tbody>\n",
       "    <tr>\n",
       "      <th>0</th>\n",
       "      <td>1.0</td>\n",
       "      <td>21.09</td>\n",
       "      <td>0</td>\n",
       "      <td>37.0</td>\n",
       "      <td>104.0</td>\n",
       "      <td>405000.0</td>\n",
       "      <td>2</td>\n",
       "      <td>4</td>\n",
       "      <td>1</td>\n",
       "      <td>96.500</td>\n",
       "      <td>2</td>\n",
       "      <td>1</td>\n",
       "      <td>1</td>\n",
       "      <td>1</td>\n",
       "      <td>3</td>\n",
       "    </tr>\n",
       "    <tr>\n",
       "      <th>2</th>\n",
       "      <td>1.0</td>\n",
       "      <td>25.74</td>\n",
       "      <td>1</td>\n",
       "      <td>37.0</td>\n",
       "      <td>174.0</td>\n",
       "      <td>755000.0</td>\n",
       "      <td>1</td>\n",
       "      <td>2</td>\n",
       "      <td>2</td>\n",
       "      <td>80.000</td>\n",
       "      <td>1</td>\n",
       "      <td>1</td>\n",
       "      <td>1</td>\n",
       "      <td>1</td>\n",
       "      <td>1</td>\n",
       "    </tr>\n",
       "    <tr>\n",
       "      <th>3</th>\n",
       "      <td>1.0</td>\n",
       "      <td>13.10</td>\n",
       "      <td>1</td>\n",
       "      <td>37.0</td>\n",
       "      <td>178.0</td>\n",
       "      <td>615000.0</td>\n",
       "      <td>2</td>\n",
       "      <td>2</td>\n",
       "      <td>2</td>\n",
       "      <td>80.000</td>\n",
       "      <td>1</td>\n",
       "      <td>1</td>\n",
       "      <td>1</td>\n",
       "      <td>1</td>\n",
       "      <td>1</td>\n",
       "    </tr>\n",
       "    <tr>\n",
       "      <th>6</th>\n",
       "      <td>1.0</td>\n",
       "      <td>29.25</td>\n",
       "      <td>1</td>\n",
       "      <td>40.0</td>\n",
       "      <td>308.0</td>\n",
       "      <td>575000.0</td>\n",
       "      <td>1</td>\n",
       "      <td>3</td>\n",
       "      <td>1</td>\n",
       "      <td>80.000</td>\n",
       "      <td>1</td>\n",
       "      <td>1</td>\n",
       "      <td>1</td>\n",
       "      <td>1</td>\n",
       "      <td>1</td>\n",
       "    </tr>\n",
       "    <tr>\n",
       "      <th>7</th>\n",
       "      <td>1.0</td>\n",
       "      <td>28.19</td>\n",
       "      <td>1</td>\n",
       "      <td>45.0</td>\n",
       "      <td>129.0</td>\n",
       "      <td>465000.0</td>\n",
       "      <td>1</td>\n",
       "      <td>2</td>\n",
       "      <td>3</td>\n",
       "      <td>90.000</td>\n",
       "      <td>1</td>\n",
       "      <td>1</td>\n",
       "      <td>1</td>\n",
       "      <td>1</td>\n",
       "      <td>1</td>\n",
       "    </tr>\n",
       "    <tr>\n",
       "      <th>...</th>\n",
       "      <td>...</td>\n",
       "      <td>...</td>\n",
       "      <td>...</td>\n",
       "      <td>...</td>\n",
       "      <td>...</td>\n",
       "      <td>...</td>\n",
       "      <td>...</td>\n",
       "      <td>...</td>\n",
       "      <td>...</td>\n",
       "      <td>...</td>\n",
       "      <td>...</td>\n",
       "      <td>...</td>\n",
       "      <td>...</td>\n",
       "      <td>...</td>\n",
       "      <td>...</td>\n",
       "    </tr>\n",
       "    <tr>\n",
       "      <th>233129</th>\n",
       "      <td>1.0</td>\n",
       "      <td>20.07</td>\n",
       "      <td>1</td>\n",
       "      <td>40.0</td>\n",
       "      <td>248.0</td>\n",
       "      <td>725000.0</td>\n",
       "      <td>1</td>\n",
       "      <td>4</td>\n",
       "      <td>9</td>\n",
       "      <td>69.723</td>\n",
       "      <td>1</td>\n",
       "      <td>2</td>\n",
       "      <td>2</td>\n",
       "      <td>1</td>\n",
       "      <td>6</td>\n",
       "    </tr>\n",
       "    <tr>\n",
       "      <th>233135</th>\n",
       "      <td>1.0</td>\n",
       "      <td>8.88</td>\n",
       "      <td>0</td>\n",
       "      <td>38.0</td>\n",
       "      <td>116.0</td>\n",
       "      <td>345000.0</td>\n",
       "      <td>2</td>\n",
       "      <td>4</td>\n",
       "      <td>2</td>\n",
       "      <td>79.412</td>\n",
       "      <td>1</td>\n",
       "      <td>2</td>\n",
       "      <td>2</td>\n",
       "      <td>1</td>\n",
       "      <td>6</td>\n",
       "    </tr>\n",
       "    <tr>\n",
       "      <th>233138</th>\n",
       "      <td>1.0</td>\n",
       "      <td>31.05</td>\n",
       "      <td>1</td>\n",
       "      <td>45.0</td>\n",
       "      <td>183.0</td>\n",
       "      <td>1625000.0</td>\n",
       "      <td>2</td>\n",
       "      <td>3</td>\n",
       "      <td>2</td>\n",
       "      <td>30.769</td>\n",
       "      <td>1</td>\n",
       "      <td>2</td>\n",
       "      <td>1</td>\n",
       "      <td>1</td>\n",
       "      <td>6</td>\n",
       "    </tr>\n",
       "    <tr>\n",
       "      <th>233140</th>\n",
       "      <td>1.0</td>\n",
       "      <td>29.37</td>\n",
       "      <td>1</td>\n",
       "      <td>41.0</td>\n",
       "      <td>86.0</td>\n",
       "      <td>475000.0</td>\n",
       "      <td>2</td>\n",
       "      <td>5</td>\n",
       "      <td>3</td>\n",
       "      <td>42.110</td>\n",
       "      <td>1</td>\n",
       "      <td>1</td>\n",
       "      <td>1</td>\n",
       "      <td>1</td>\n",
       "      <td>2</td>\n",
       "    </tr>\n",
       "    <tr>\n",
       "      <th>233143</th>\n",
       "      <td>1.0</td>\n",
       "      <td>72.08</td>\n",
       "      <td>1</td>\n",
       "      <td>38.0</td>\n",
       "      <td>98.0</td>\n",
       "      <td>355000.0</td>\n",
       "      <td>1</td>\n",
       "      <td>3</td>\n",
       "      <td>3</td>\n",
       "      <td>80.000</td>\n",
       "      <td>1</td>\n",
       "      <td>1</td>\n",
       "      <td>1</td>\n",
       "      <td>1</td>\n",
       "      <td>2</td>\n",
       "    </tr>\n",
       "  </tbody>\n",
       "</table>\n",
       "<p>66614 rows × 15 columns</p>\n",
       "</div>"
      ],
      "text/plain": [
       "        const  tract_minority_population_percent  binary_race  \\\n",
       "0         1.0                              21.09            0   \n",
       "2         1.0                              25.74            1   \n",
       "3         1.0                              13.10            1   \n",
       "6         1.0                              29.25            1   \n",
       "7         1.0                              28.19            1   \n",
       "...       ...                                ...          ...   \n",
       "233129    1.0                              20.07            1   \n",
       "233135    1.0                               8.88            0   \n",
       "233138    1.0                              31.05            1   \n",
       "233140    1.0                              29.37            1   \n",
       "233143    1.0                              72.08            1   \n",
       "\n",
       "        debt_to_income_ratio  income  property_value  applicant_sex  \\\n",
       "0                       37.0   104.0        405000.0              2   \n",
       "2                       37.0   174.0        755000.0              1   \n",
       "3                       37.0   178.0        615000.0              2   \n",
       "6                       40.0   308.0        575000.0              1   \n",
       "7                       45.0   129.0        465000.0              1   \n",
       "...                      ...     ...             ...            ...   \n",
       "233129                  40.0   248.0        725000.0              1   \n",
       "233135                  38.0   116.0        345000.0              2   \n",
       "233138                  45.0   183.0       1625000.0              2   \n",
       "233140                  41.0    86.0        475000.0              2   \n",
       "233143                  38.0    98.0        355000.0              1   \n",
       "\n",
       "        age_categorical  applicant_credit_score_type  loan_to_value_ratio  \\\n",
       "0                     4                            1               96.500   \n",
       "2                     2                            2               80.000   \n",
       "3                     2                            2               80.000   \n",
       "6                     3                            1               80.000   \n",
       "7                     2                            3               90.000   \n",
       "...                 ...                          ...                  ...   \n",
       "233129                4                            9               69.723   \n",
       "233135                4                            2               79.412   \n",
       "233138                3                            2               30.769   \n",
       "233140                5                            3               42.110   \n",
       "233143                3                            3               80.000   \n",
       "\n",
       "        loan_type  loan_purpose  lien_status  occupancy_type  aus-1  \n",
       "0               2             1            1               1      3  \n",
       "2               1             1            1               1      1  \n",
       "3               1             1            1               1      1  \n",
       "6               1             1            1               1      1  \n",
       "7               1             1            1               1      1  \n",
       "...           ...           ...          ...             ...    ...  \n",
       "233129          1             2            2               1      6  \n",
       "233135          1             2            2               1      6  \n",
       "233138          1             2            1               1      6  \n",
       "233140          1             1            1               1      2  \n",
       "233143          1             1            1               1      2  \n",
       "\n",
       "[66614 rows x 15 columns]"
      ]
     },
     "execution_count": 90,
     "metadata": {},
     "output_type": "execute_result"
    }
   ],
   "source": [
    "X"
   ]
  },
  {
   "cell_type": "code",
   "execution_count": 95,
   "id": "6bb495f6",
   "metadata": {},
   "outputs": [],
   "source": [
    "pd.set_option('display.max_rows', 300)  # show all rows"
   ]
  },
  {
   "cell_type": "code",
   "execution_count": null,
   "id": "ac2a935b",
   "metadata": {},
   "outputs": [
    {
     "name": "stdout",
     "output_type": "stream",
     "text": [
      "                            OLS Regression Results                            \n",
      "==============================================================================\n",
      "Dep. Variable:            loan_amount   R-squared:                       0.790\n",
      "Model:                            OLS   Adj. R-squared:                  0.790\n",
      "Method:                 Least Squares   F-statistic:                     5959.\n",
      "Date:                Thu, 10 Apr 2025   Prob (F-statistic):               0.00\n",
      "Time:                        16:26:19   Log-Likelihood:            -8.9893e+05\n",
      "No. Observations:               66614   AIC:                         1.798e+06\n",
      "Df Residuals:                   66571   BIC:                         1.798e+06\n",
      "Df Model:                          42                                         \n",
      "Covariance Type:            nonrobust                                         \n",
      "=====================================================================================================\n",
      "                                        coef    std err          t      P>|t|      [0.025      0.975]\n",
      "-----------------------------------------------------------------------------------------------------\n",
      "const                             -2.143e+05   9240.209    -23.188      0.000   -2.32e+05   -1.96e+05\n",
      "tract_minority_population_percent   497.8228     32.558     15.290      0.000     434.008     561.637\n",
      "debt_to_income_ratio                859.3158    175.625      4.893      0.000     515.091    1203.541\n",
      "income                               45.8630      1.924     23.832      0.000      42.091      49.635\n",
      "property_value                        0.4421      0.001    395.325      0.000       0.440       0.444\n",
      "loan_to_value_ratio                3908.5292     44.261     88.306      0.000    3821.777    3995.281\n",
      "binary_race_1                      1.676e+04   2567.425      6.529      0.000    1.17e+04    2.18e+04\n",
      "applicant_sex_2                   -1.557e+04   1418.140    -10.982      0.000   -1.84e+04   -1.28e+04\n",
      "applicant_sex_3                   -4877.7971   1.11e+04     -0.440      0.660   -2.66e+04    1.69e+04\n",
      "applicant_sex_6                    1.542e+04   2.75e+04      0.561      0.574   -3.84e+04    6.92e+04\n",
      "applicant_age_35-44                 2.21e+04   1993.384     11.089      0.000    1.82e+04     2.6e+04\n",
      "applicant_age_45-54                1.551e+04   2197.186      7.057      0.000    1.12e+04    1.98e+04\n",
      "applicant_age_55-64                1.876e+04   2396.573      7.827      0.000    1.41e+04    2.35e+04\n",
      "applicant_age_65-74                7025.7800   2910.262      2.414      0.016    1321.667    1.27e+04\n",
      "applicant_age_8888                 5.516e+04   1.24e+05      0.444      0.657   -1.88e+05    2.99e+05\n",
      "applicant_age_<25                  -5.37e+04   4048.815    -13.263      0.000   -6.16e+04   -4.58e+04\n",
      "applicant_age_>74                  3444.5079   4302.398      0.801      0.423   -4988.191    1.19e+04\n",
      "aus-1_2                           -2.239e+04   1952.115    -11.470      0.000   -2.62e+04   -1.86e+04\n",
      "aus-1_3                            -6.26e+04   4595.412    -13.622      0.000   -7.16e+04   -5.36e+04\n",
      "aus-1_4                           -1.297e+04    3.5e+04     -0.371      0.711   -8.16e+04    5.56e+04\n",
      "aus-1_5                           -2.366e+04   4778.758     -4.950      0.000    -3.3e+04   -1.43e+04\n",
      "aus-1_6                            2.133e+04   2455.959      8.685      0.000    1.65e+04    2.61e+04\n",
      "aus-1_7                            1.197e+05   5607.714     21.348      0.000    1.09e+05    1.31e+05\n",
      "occupancy_type_2                   9490.2157   4545.984      2.088      0.037     580.088    1.84e+04\n",
      "occupancy_type_3                   7480.7330   6523.136      1.147      0.251   -5304.611    2.03e+04\n",
      "applicant_credit_score_type_2     -1.125e+04   1988.006     -5.661      0.000   -1.52e+04   -7357.745\n",
      "applicant_credit_score_type_3     -3721.5486   1986.625     -1.873      0.061   -7615.333     172.236\n",
      "applicant_credit_score_type_4     -4.648e+04   3.95e+04     -1.178      0.239   -1.24e+05    3.09e+04\n",
      "applicant_credit_score_type_5      7.591e+04   1.76e+05      0.432      0.666   -2.68e+05     4.2e+05\n",
      "applicant_credit_score_type_6      5.485e+04   5808.802      9.442      0.000    4.35e+04    6.62e+04\n",
      "applicant_credit_score_type_7      2.669e+04   3878.230      6.881      0.000    1.91e+04    3.43e+04\n",
      "applicant_credit_score_type_8      3910.3907   3135.774      1.247      0.212   -2235.726    1.01e+04\n",
      "applicant_credit_score_type_9      6277.2505   2693.026      2.331      0.020     998.920    1.16e+04\n",
      "applicant_credit_score_type_11    -7.379e+04   1.31e+04     -5.637      0.000   -9.94e+04   -4.81e+04\n",
      "loan_type_2                        1.272e+04   3904.216      3.259      0.001    5072.631    2.04e+04\n",
      "loan_type_3                       -5.506e+04   4849.142    -11.354      0.000   -6.46e+04   -4.56e+04\n",
      "loan_type_4                       -1.218e+05   3.48e+04     -3.497      0.000    -1.9e+05   -5.35e+04\n",
      "loan_purpose_2                    -5.874e+04   3313.883    -17.726      0.000   -6.52e+04   -5.22e+04\n",
      "loan_purpose_4                    -5.849e+04   3378.518    -17.313      0.000   -6.51e+04   -5.19e+04\n",
      "loan_purpose_5                     1.194e+05   1.01e+05      1.177      0.239   -7.95e+04    3.18e+05\n",
      "loan_purpose_31                   -4.475e+04   3157.368    -14.174      0.000   -5.09e+04   -3.86e+04\n",
      "loan_purpose_32                   -3.768e+04   2575.783    -14.627      0.000   -4.27e+04   -3.26e+04\n",
      "lien_status_2                     -2.475e+05   2777.150    -89.128      0.000   -2.53e+05   -2.42e+05\n",
      "==============================================================================\n",
      "Omnibus:                    60314.172   Durbin-Watson:                   1.815\n",
      "Prob(Omnibus):                  0.000   Jarque-Bera (JB):        560299351.555\n",
      "Skew:                          -2.766   Prob(JB):                         0.00\n",
      "Kurtosis:                     452.262   Cond. No.                     2.31e+08\n",
      "==============================================================================\n",
      "\n",
      "Notes:\n",
      "[1] Standard Errors assume that the covariance matrix of the errors is correctly specified.\n",
      "[2] The condition number is large, 2.31e+08. This might indicate that there are\n",
      "strong multicollinearity or other numerical problems.\n"
     ]
    }
   ],
   "source": [
    "df_race = df_race.dropna()\n",
    "\n",
    "X = df_race[['tract_minority_population_percent', \"binary_race\", \"debt_to_income_ratio\", 'income', \"property_value\", 'applicant_sex',\n",
    "             'applicant_age', 'applicant_credit_score_type', 'loan_to_value_ratio', 'loan_type', 'loan_purpose', 'lien_status', \n",
    "             'occupancy_type', 'aus-1']]\n",
    "\n",
    "X = pd.get_dummies(X, columns=['binary_race', 'applicant_sex', 'applicant_age', 'aus-1', 'occupancy_type', 'applicant_credit_score_type', 'loan_type', 'loan_purpose', 'lien_status'], drop_first=True)\n",
    "X = X.astype(float)\n",
    "\n",
    "y = df_race['loan_amount']\n",
    "\n",
    "X = sm.add_constant(X)\n",
    "\n",
    "model = sm.OLS(y, X).fit()\n",
    "\n",
    "print(model.summary())"
   ]
  },
  {
   "cell_type": "markdown",
   "id": "0f4be0b4",
   "metadata": {},
   "source": [
    "## Model 3: interest rate (MLR), rate_spread"
   ]
  },
  {
   "cell_type": "code",
   "execution_count": 53,
   "id": "5a6de5e9",
   "metadata": {},
   "outputs": [
    {
     "data": {
      "text/plain": [
       "Index(['action_taken', 'derived_race', 'derived_ethnicity', 'applicant_sex',\n",
       "       'applicant_age', 'income', 'debt_to_income_ratio',\n",
       "       'applicant_credit_score_type', 'loan_amount', 'loan_to_value_ratio',\n",
       "       'interest_rate', 'rate_spread', 'loan_type', 'loan_purpose',\n",
       "       'lien_status', 'property_value', 'occupancy_type',\n",
       "       'tract_minority_population_percent', 'aus-1', 'denial_reason-1',\n",
       "       'binary_race', 'binary_ethnicity', 'binary_denied', 'age_categorical'],\n",
       "      dtype='object')"
      ]
     },
     "execution_count": 53,
     "metadata": {},
     "output_type": "execute_result"
    }
   ],
   "source": [
    "df_race.columns\n"
   ]
  },
  {
   "cell_type": "code",
   "execution_count": null,
   "id": "797cb590",
   "metadata": {},
   "outputs": [
    {
     "name": "stdout",
     "output_type": "stream",
     "text": [
      "                            OLS Regression Results                            \n",
      "==============================================================================\n",
      "Dep. Variable:          interest_rate   R-squared:                       0.171\n",
      "Model:                            OLS   Adj. R-squared:                  0.170\n",
      "Method:                 Least Squares   F-statistic:                     326.7\n",
      "Date:                Thu, 10 Apr 2025   Prob (F-statistic):               0.00\n",
      "Time:                        16:27:30   Log-Likelihood:            -1.1545e+05\n",
      "No. Observations:               66614   AIC:                         2.310e+05\n",
      "Df Residuals:                   66571   BIC:                         2.314e+05\n",
      "Df Model:                          42                                         \n",
      "Covariance Type:            nonrobust                                         \n",
      "=====================================================================================================\n",
      "                                        coef    std err          t      P>|t|      [0.025      0.975]\n",
      "-----------------------------------------------------------------------------------------------------\n",
      "const                                 5.5347      0.072     76.804      0.000       5.393       5.676\n",
      "tract_minority_population_percent     0.0013      0.000      5.295      0.000       0.001       0.002\n",
      "debt_to_income_ratio                  0.0190      0.001     13.905      0.000       0.016       0.022\n",
      "income                            -4.946e-05    1.5e-05     -3.296      0.001   -7.89e-05      -2e-05\n",
      "property_value                     -6.17e-08   8.72e-09     -7.075      0.000   -7.88e-08   -4.46e-08\n",
      "loan_to_value_ratio                   0.0026      0.000      7.553      0.000       0.002       0.003\n",
      "binary_race_1                         0.0542      0.020      2.706      0.007       0.015       0.093\n",
      "applicant_sex_2                      -0.0144      0.011     -1.305      0.192      -0.036       0.007\n",
      "applicant_sex_3                      -0.1376      0.086     -1.592      0.111      -0.307       0.032\n",
      "applicant_sex_6                       0.1184      0.214      0.553      0.580      -0.301       0.538\n",
      "applicant_age_35-44                  -0.0029      0.016     -0.189      0.850      -0.033       0.028\n",
      "applicant_age_45-54                4.786e-05      0.017      0.003      0.998      -0.034       0.034\n",
      "applicant_age_55-64                  -0.0557      0.019     -2.981      0.003      -0.092      -0.019\n",
      "applicant_age_65-74                  -0.0119      0.023     -0.526      0.599      -0.056       0.033\n",
      "applicant_age_8888                    0.5222      0.969      0.539      0.590      -1.376       2.421\n",
      "applicant_age_<25                     0.0268      0.032      0.850      0.395      -0.035       0.089\n",
      "applicant_age_>74                    -0.0474      0.034     -1.413      0.158      -0.113       0.018\n",
      "aus-1_2                              -0.0704      0.015     -4.627      0.000      -0.100      -0.041\n",
      "aus-1_3                               0.1229      0.036      3.428      0.001       0.053       0.193\n",
      "aus-1_4                               0.0302      0.273      0.111      0.912      -0.505       0.565\n",
      "aus-1_5                               1.1612      0.037     31.159      0.000       1.088       1.234\n",
      "aus-1_6                               0.0045      0.019      0.235      0.814      -0.033       0.042\n",
      "aus-1_7                              -0.5415      0.044    -12.383      0.000      -0.627      -0.456\n",
      "occupancy_type_2                      0.1747      0.035      4.928      0.000       0.105       0.244\n",
      "occupancy_type_3                      0.6480      0.051     12.738      0.000       0.548       0.748\n",
      "applicant_credit_score_type_2        -0.0633      0.016     -4.083      0.000      -0.094      -0.033\n",
      "applicant_credit_score_type_3        -0.0509      0.015     -3.286      0.001      -0.081      -0.021\n",
      "applicant_credit_score_type_4         0.3323      0.308      1.080      0.280      -0.271       0.936\n",
      "applicant_credit_score_type_5         1.0645      1.370      0.777      0.437      -1.620       3.749\n",
      "applicant_credit_score_type_6        -0.1593      0.045     -3.515      0.000      -0.248      -0.070\n",
      "applicant_credit_score_type_7         0.6527      0.030     21.579      0.000       0.593       0.712\n",
      "applicant_credit_score_type_8         0.5362      0.024     21.926      0.000       0.488       0.584\n",
      "applicant_credit_score_type_9        -0.0320      0.021     -1.525      0.127      -0.073       0.009\n",
      "applicant_credit_score_type_11        1.8064      0.102     17.696      0.000       1.606       2.006\n",
      "loan_type_2                          -0.2747      0.030     -9.022      0.000      -0.334      -0.215\n",
      "loan_type_3                          -0.2348      0.038     -6.208      0.000      -0.309      -0.161\n",
      "loan_type_4                           0.1041      0.272      0.383      0.702      -0.428       0.636\n",
      "loan_purpose_2                       -0.2024      0.026     -7.832      0.000      -0.253      -0.152\n",
      "loan_purpose_4                        0.0181      0.026      0.685      0.493      -0.034       0.070\n",
      "loan_purpose_5                       -1.5658      0.791     -1.979      0.048      -3.116      -0.015\n",
      "loan_purpose_31                      -0.1874      0.025     -7.611      0.000      -0.236      -0.139\n",
      "loan_purpose_32                       0.3189      0.020     15.876      0.000       0.280       0.358\n",
      "lien_status_2                         0.8922      0.022     41.192      0.000       0.850       0.935\n",
      "==============================================================================\n",
      "Omnibus:                    14383.832   Durbin-Watson:                   1.014\n",
      "Prob(Omnibus):                  0.000   Jarque-Bera (JB):           105397.614\n",
      "Skew:                          -0.848   Prob(JB):                         0.00\n",
      "Kurtosis:                       8.924   Cond. No.                     2.31e+08\n",
      "==============================================================================\n",
      "\n",
      "Notes:\n",
      "[1] Standard Errors assume that the covariance matrix of the errors is correctly specified.\n",
      "[2] The condition number is large, 2.31e+08. This might indicate that there are\n",
      "strong multicollinearity or other numerical problems.\n"
     ]
    }
   ],
   "source": [
    "X = df_race[['tract_minority_population_percent', \"binary_race\", \"debt_to_income_ratio\", 'income', \"property_value\", 'applicant_sex',\n",
    "             'applicant_age', 'applicant_credit_score_type', 'loan_to_value_ratio', 'loan_type', 'loan_purpose', 'lien_status', \n",
    "             'occupancy_type', 'aus-1']]\n",
    "\n",
    "X = pd.get_dummies(X, columns=['binary_race', 'applicant_sex', 'applicant_age', 'aus-1', 'occupancy_type', 'applicant_credit_score_type', 'loan_type', 'loan_purpose', 'lien_status'], drop_first=True)\n",
    "X = X.astype(float)\n",
    "\n",
    "y = df_race['interest_rate']\n",
    "\n",
    "X = sm.add_constant(X)\n",
    "\n",
    "model = sm.OLS(y, X).fit()\n",
    "\n",
    "print(model.summary())"
   ]
  },
  {
   "cell_type": "code",
   "execution_count": null,
   "id": "cde3f3f0",
   "metadata": {},
   "outputs": [
    {
     "name": "stdout",
     "output_type": "stream",
     "text": [
      "                            OLS Regression Results                            \n",
      "==============================================================================\n",
      "Dep. Variable:            rate_spread   R-squared:                       0.043\n",
      "Model:                            OLS   Adj. R-squared:                  0.043\n",
      "Method:                 Least Squares   F-statistic:                     161.2\n",
      "Date:                Thu, 10 Apr 2025   Prob (F-statistic):               0.00\n",
      "Time:                        15:46:23   Log-Likelihood:                -89164.\n",
      "No. Observations:               50030   AIC:                         1.784e+05\n",
      "Df Residuals:                   50015   BIC:                         1.785e+05\n",
      "Df Model:                          14                                         \n",
      "Covariance Type:            nonrobust                                         \n",
      "=====================================================================================================\n",
      "                                        coef    std err          t      P>|t|      [0.025      0.975]\n",
      "-----------------------------------------------------------------------------------------------------\n",
      "const                                -2.0479      0.096    -21.333      0.000      -2.236      -1.860\n",
      "tract_minority_population_percent     0.0024      0.000      7.766      0.000       0.002       0.003\n",
      "binary_race                          -0.0157      0.025     -0.640      0.522      -0.064       0.032\n",
      "debt_to_income_ratio                  0.0151      0.002      9.137      0.000       0.012       0.018\n",
      "income                             -6.34e-05   1.59e-05     -3.984      0.000   -9.46e-05   -3.22e-05\n",
      "property_value                    -5.033e-08   1.04e-08     -4.834      0.000   -7.07e-08   -2.99e-08\n",
      "applicant_sex                         0.0407      0.013      3.211      0.001       0.016       0.066\n",
      "age_categorical                      -0.0112      0.005     -2.373      0.018      -0.020      -0.002\n",
      "applicant_credit_score_type           0.0157      0.003      6.208      0.000       0.011       0.021\n",
      "loan_to_value_ratio                   0.0063      0.000     16.747      0.000       0.006       0.007\n",
      "loan_type                             0.1014      0.016      6.176      0.000       0.069       0.134\n",
      "loan_purpose                          0.0082      0.001     14.222      0.000       0.007       0.009\n",
      "lien_status                           0.6782      0.020     33.523      0.000       0.639       0.718\n",
      "occupancy_type                        0.3084      0.025     12.163      0.000       0.259       0.358\n",
      "aus-1                                -0.0445      0.004    -10.997      0.000      -0.052      -0.037\n",
      "==============================================================================\n",
      "Omnibus:                    19624.896   Durbin-Watson:                   1.190\n",
      "Prob(Omnibus):                  0.000   Jarque-Bera (JB):           202274.344\n",
      "Skew:                          -1.598   Prob(JB):                         0.00\n",
      "Kurtosis:                      12.318   Cond. No.                     1.31e+07\n",
      "==============================================================================\n",
      "\n",
      "Notes:\n",
      "[1] Standard Errors assume that the covariance matrix of the errors is correctly specified.\n",
      "[2] The condition number is large, 1.31e+07. This might indicate that there are\n",
      "strong multicollinearity or other numerical problems.\n"
     ]
    }
   ],
   "source": [
    "\n",
    "X = df_race[['tract_minority_population_percent', \"binary_race\", \"debt_to_income_ratio\", 'income', \"property_value\", 'applicant_sex',\n",
    "             'age_categorical', 'applicant_credit_score_type', 'loan_to_value_ratio', 'loan_type', 'loan_purpose', 'lien_status', \n",
    "             'occupancy_type', 'aus-1']]\n",
    "\n",
    "y = df_race['rate_spread']\n",
    "\n",
    "X = sm.add_constant(X)\n",
    "\n",
    "model = sm.OLS(y, X).fit()\n",
    "\n",
    "print(model.summary())"
   ]
  },
  {
   "cell_type": "markdown",
   "id": "ce132fb5",
   "metadata": {},
   "source": [
    "# Recreation of model \n",
    "Train a model based on outcome (denial vs acceptance) using similar predictors\n",
    "Look for bias in the outcomes of the model -> conclusion about biased data creating biased models in future "
   ]
  },
  {
   "cell_type": "code",
   "execution_count": 58,
   "id": "510d1bca-244a-4def-9ac7-b4e8397af275",
   "metadata": {},
   "outputs": [],
   "source": [
    "from sklearn.model_selection import train_test_split\n",
    "\n",
    "# select columns that were explicitly approved or denied\n",
    "filtered_df = df.loc[(df[\"action_taken\"] == 1) | (df[\"action_taken\"] == 2) | (df[\"action_taken\"] == 7) | (df[\"action_taken\"] == 3)]\n",
    "\n",
    "# remove na values\n",
    "filtered_df = filtered_df.dropna(subset=[\"debt_to_income_ratio\",\"income\",\"loan_to_value_ratio\",\"loan_amount\",\"property_value\"])\n",
    "\n",
    "# create binary accepted column\n",
    "filtered_df[\"binary_accepted\"] = True\n",
    "filtered_df.loc[filtered_df[\"action_taken\"] == 7, 'binary_accepted'] = False\n",
    "filtered_df.loc[filtered_df[\"action_taken\"] == 3, 'binary_accepted'] = False\n",
    "counts = filtered_df['binary_accepted'].value_counts()\n",
    "\n",
    "# create binary race column - 1 for White\n",
    "df_slice = filtered_df.loc[(filtered_df['derived_race'] == \"Black or African American\") | (filtered_df['derived_race'] == \"White\")]\n",
    "filtered_df = df_slice.copy()\n",
    "filtered_df['binary_race'] = 0\n",
    "filtered_df.loc[filtered_df['derived_race'] == \"White\", 'binary_race'] = 1\n",
    "\n",
    "# split data\n",
    "\n",
    "X = filtered_df[[\"debt_to_income_ratio\",\"income\",\"loan_to_value_ratio\",\"loan_amount\",\"property_value\"]]\n",
    "y = filtered_df[\"binary_accepted\"]\n",
    "\n",
    "train, test = train_test_split(filtered_df, test_size=0.2)\n",
    "X_train, X_test = train[[\"debt_to_income_ratio\",\"income\",\"loan_to_value_ratio\",\"loan_amount\",\"property_value\"]], \\\n",
    "test[[\"debt_to_income_ratio\",\"income\",\"loan_to_value_ratio\",\"loan_amount\",\"property_value\"]] \n",
    "y_train, y_test = train[\"binary_accepted\"], test[\"binary_accepted\"] "
   ]
  },
  {
   "cell_type": "code",
   "execution_count": 59,
   "id": "af61c459",
   "metadata": {},
   "outputs": [
    {
     "data": {
      "text/plain": [
       "(binary_accepted\n",
       " True     73052\n",
       " False    11674\n",
       " Name: count, dtype: int64,\n",
       " action_taken\n",
       " 1    69923\n",
       " 3    11612\n",
       " 2     3129\n",
       " 7       62\n",
       " Name: count, dtype: int64)"
      ]
     },
     "execution_count": 59,
     "metadata": {},
     "output_type": "execute_result"
    }
   ],
   "source": [
    "filtered_df['binary_accepted'].value_counts(), filtered_df['action_taken'].value_counts()"
   ]
  },
  {
   "cell_type": "markdown",
   "id": "9c1d5d47",
   "metadata": {},
   "source": [
    "Model 1: Logistic Regression"
   ]
  },
  {
   "cell_type": "code",
   "execution_count": 60,
   "id": "b7f9c3bc-f195-4037-ad91-83b5c76d5201",
   "metadata": {},
   "outputs": [
    {
     "name": "stdout",
     "output_type": "stream",
     "text": [
      "0.8593768440930013\n"
     ]
    }
   ],
   "source": [
    "# logistic regression\n",
    "from sklearn.linear_model import LogisticRegression\n",
    "\n",
    "lr = sk.linear_model.LogisticRegression(max_iter = 100000)\n",
    "\n",
    "lr.fit(X_train,y_train)\n",
    "y_pred = lr.predict(X_test)\n",
    "acc_lr = sk.metrics.accuracy_score(y_pred,y_test)\n",
    "print(acc_lr)"
   ]
  },
  {
   "cell_type": "markdown",
   "id": "3a5eba55",
   "metadata": {},
   "source": [
    "Model 2: Decision Tree"
   ]
  },
  {
   "cell_type": "code",
   "execution_count": 61,
   "id": "c022c527",
   "metadata": {},
   "outputs": [
    {
     "name": "stdout",
     "output_type": "stream",
     "text": [
      "0.7810102679098312\n"
     ]
    }
   ],
   "source": [
    "# decision tree model\n",
    "from sklearn.tree import DecisionTreeClassifier\n",
    "from sklearn import metrics # check model accuracy\n",
    "\n",
    "dt = DecisionTreeClassifier()\n",
    "dt.fit(X_train,y_train)\n",
    "y_pred = dt.predict(X_test)\n",
    "acc_dt = metrics.accuracy_score(y_pred,y_test)\n",
    "print(acc_dt)"
   ]
  },
  {
   "cell_type": "markdown",
   "id": "55035760-910e-4a08-9eb4-dffae411a428",
   "metadata": {},
   "source": [
    "Model 3: K-Nearest Neighbors"
   ]
  },
  {
   "cell_type": "code",
   "execution_count": 62,
   "id": "1bbbabc7-3bcc-4285-957a-aefcf4e1de65",
   "metadata": {},
   "outputs": [
    {
     "name": "stdout",
     "output_type": "stream",
     "text": [
      "0.8301664109524372\n"
     ]
    }
   ],
   "source": [
    "# knn\n",
    "from sklearn.neighbors import KNeighborsClassifier # KNN\n",
    "\n",
    "knc = KNeighborsClassifier(n_neighbors=3) # for k=3\n",
    "knc.fit(X_train,y_train)\n",
    "y_pred = knc.predict(X_test)\n",
    "acc_knn = sk.metrics.accuracy_score(y_pred,y_test)\n",
    "print(acc_knn)"
   ]
  },
  {
   "cell_type": "code",
   "execution_count": 63,
   "id": "3f5fbc30-5c5d-4ccc-9d9d-c60d0e3f1458",
   "metadata": {},
   "outputs": [
    {
     "data": {
      "text/html": [
       "<div>\n",
       "<style scoped>\n",
       "    .dataframe tbody tr th:only-of-type {\n",
       "        vertical-align: middle;\n",
       "    }\n",
       "\n",
       "    .dataframe tbody tr th {\n",
       "        vertical-align: top;\n",
       "    }\n",
       "\n",
       "    .dataframe thead th {\n",
       "        text-align: right;\n",
       "    }\n",
       "</style>\n",
       "<table border=\"1\" class=\"dataframe\">\n",
       "  <thead>\n",
       "    <tr style=\"text-align: right;\">\n",
       "      <th></th>\n",
       "      <th>Model</th>\n",
       "      <th>Score</th>\n",
       "    </tr>\n",
       "  </thead>\n",
       "  <tbody>\n",
       "    <tr>\n",
       "      <th>0</th>\n",
       "      <td>Logistic Regression</td>\n",
       "      <td>0.859377</td>\n",
       "    </tr>\n",
       "    <tr>\n",
       "      <th>2</th>\n",
       "      <td>K-Nearest Neighbours</td>\n",
       "      <td>0.830166</td>\n",
       "    </tr>\n",
       "    <tr>\n",
       "      <th>1</th>\n",
       "      <td>Decision Tree</td>\n",
       "      <td>0.781010</td>\n",
       "    </tr>\n",
       "  </tbody>\n",
       "</table>\n",
       "</div>"
      ],
      "text/plain": [
       "                  Model     Score\n",
       "0   Logistic Regression  0.859377\n",
       "2  K-Nearest Neighbours  0.830166\n",
       "1         Decision Tree  0.781010"
      ]
     },
     "execution_count": 63,
     "metadata": {},
     "output_type": "execute_result"
    }
   ],
   "source": [
    "# plot overall accuracy comparison between models\n",
    "models = pd.DataFrame({\n",
    "    'Model': ['Logistic Regression', 'Decision Tree','K-Nearest Neighbours'],\n",
    "    'Score': [acc_lr, acc_dt, acc_knn]})\n",
    "models.sort_values(by='Score', ascending=False)"
   ]
  },
  {
   "cell_type": "markdown",
   "id": "6e902ac9-151b-4d9e-a109-cd5d62f568c7",
   "metadata": {},
   "source": [
    "In order to test our hypothesis that the HDMA model is biased against Black applicants, we compare the accuracy rates across races for each of the models we trained, which use the same metrics. "
   ]
  },
  {
   "cell_type": "code",
   "execution_count": 64,
   "id": "19725356-8aa6-43c7-bd49-efe24de65d9b",
   "metadata": {},
   "outputs": [],
   "source": [
    "# split data and get predictions between Black and white applicants\n",
    "x_var = [\"debt_to_income_ratio\",\"income\",\"loan_to_value_ratio\",\"loan_amount\",\"property_value\"]\n",
    "\n",
    "test_b = test.loc[test['derived_race'] == \"Black or African American\"]\n",
    "test_w = test.loc[test['derived_race'] == \"White\"]\n",
    "\n",
    "X_test_b, X_test_w = test_b[x_var], test_w[x_var]\n",
    "y_test_b, y_test_w = test_b['binary_accepted'], test_w['binary_accepted']\n",
    "\n",
    "# knn\n",
    "knn_b = knc.predict(X_test_b)\n",
    "knn_w = knc.predict(X_test_w)\n",
    "\n",
    "# lr\n",
    "lr_b = lr.predict(X_test_b)\n",
    "lr_w = lr.predict(X_test_w)\n",
    "\n",
    "# dt\n",
    "dt_b = dt.predict(X_test_b)\n",
    "dt_w = dt.predict(X_test_w)"
   ]
  },
  {
   "cell_type": "code",
   "execution_count": 65,
   "id": "3737626d-e5c3-46a5-a5f3-4d829dea0372",
   "metadata": {},
   "outputs": [
    {
     "data": {
      "text/html": [
       "<div>\n",
       "<style scoped>\n",
       "    .dataframe tbody tr th:only-of-type {\n",
       "        vertical-align: middle;\n",
       "    }\n",
       "\n",
       "    .dataframe tbody tr th {\n",
       "        vertical-align: top;\n",
       "    }\n",
       "\n",
       "    .dataframe thead th {\n",
       "        text-align: right;\n",
       "    }\n",
       "</style>\n",
       "<table border=\"1\" class=\"dataframe\">\n",
       "  <thead>\n",
       "    <tr style=\"text-align: right;\">\n",
       "      <th></th>\n",
       "      <th>Model</th>\n",
       "      <th>Score</th>\n",
       "    </tr>\n",
       "  </thead>\n",
       "  <tbody>\n",
       "    <tr>\n",
       "      <th>0</th>\n",
       "      <td>Logistic Regression</td>\n",
       "      <td>0.104281</td>\n",
       "    </tr>\n",
       "    <tr>\n",
       "      <th>2</th>\n",
       "      <td>K-Nearest Neighbours</td>\n",
       "      <td>0.085135</td>\n",
       "    </tr>\n",
       "    <tr>\n",
       "      <th>1</th>\n",
       "      <td>Decision Tree</td>\n",
       "      <td>0.072779</td>\n",
       "    </tr>\n",
       "  </tbody>\n",
       "</table>\n",
       "</div>"
      ],
      "text/plain": [
       "                  Model     Score\n",
       "0   Logistic Regression  0.104281\n",
       "2  K-Nearest Neighbours  0.085135\n",
       "1         Decision Tree  0.072779"
      ]
     },
     "execution_count": 65,
     "metadata": {},
     "output_type": "execute_result"
    }
   ],
   "source": [
    "# calculate accuracy\n",
    "# knn\n",
    "acc_knn_b = sk.metrics.accuracy_score(knn_b, y_test_b)\n",
    "acc_knn_w = sk.metrics.accuracy_score(knn_w, y_test_w)\n",
    "knn_diff = acc_knn_w - acc_knn_b\n",
    "# lr\n",
    "acc_lr_b = sk.metrics.accuracy_score(lr_b, y_test_b)\n",
    "acc_lr_w = sk.metrics.accuracy_score(lr_w, y_test_w)\n",
    "lr_diff = acc_lr_w - acc_lr_b\n",
    "# dt\n",
    "acc_dt_b = sk.metrics.accuracy_score(dt_b, y_test_b)\n",
    "acc_dt_w = sk.metrics.accuracy_score(dt_w, y_test_w)\n",
    "dt_diff = acc_dt_w - acc_dt_b\n",
    "# plot differences in accuracy for race between models\n",
    "models = pd.DataFrame({\n",
    "    'Model': ['Logistic Regression', 'Decision Tree','K-Nearest Neighbours'],\n",
    "    'Score': [lr_diff, dt_diff, knn_diff]})\n",
    "models.sort_values(by='Score', ascending=False)"
   ]
  },
  {
   "cell_type": "markdown",
   "id": "6994c91b-8e09-40bc-b28d-b971ce89345f",
   "metadata": {},
   "source": [
    "Here we can see the difference in accuracy score between Black and white applicants. The logistic regression model, which was the most accurate overall, also has the highest disparity in terms of race. If they're not already doing so, it would be beneficial for the HMDA algorithm to consider separate values for race as they assess which loans were paid back, etc."
   ]
  },
  {
   "cell_type": "markdown",
   "id": "36f8ec30-093c-47c1-a8e4-090cdff39439",
   "metadata": {},
   "source": []
  },
  {
   "cell_type": "markdown",
   "id": "581a9873-403d-4f65-9336-8179f2b1b16b",
   "metadata": {},
   "source": [
    "In the section below, we retrain our models to this time include binary race (1 for white, 0 for Black) explicitly as an input. Then, we report on the fairness metrics of each of those models."
   ]
  },
  {
   "cell_type": "code",
   "execution_count": 66,
   "id": "1d682a31-403e-4885-bc85-a835e30f3de6",
   "metadata": {},
   "outputs": [],
   "source": [
    "import fairlearn\n",
    "from fairlearn.metrics import demographic_parity_ratio, MetricFrame, selection_rate, false_positive_rate, false_negative_rate\n",
    "from sklearn import metrics\n",
    "from sklearn.metrics import accuracy_score\n",
    "\n",
    "X_train, X_test = train[[\"debt_to_income_ratio\",\"income\",\"loan_to_value_ratio\",\"loan_amount\",\"property_value\", \"binary_race\"]], \\\n",
    "test[[\"debt_to_income_ratio\",\"income\",\"loan_to_value_ratio\",\"loan_amount\",\"property_value\", \"binary_race\"]] \n",
    "\n",
    "dt_race = DecisionTreeClassifier()\n",
    "dt_race.fit(X_train,y_train)\n",
    "y_pred_dt = dt_race.predict(X_test)\n",
    "\n",
    "knn_race = KNeighborsClassifier(n_neighbors=3)\n",
    "knn_race.fit(X_train,y_train)\n",
    "y_pred_knn = knn_race.predict(X_test)\n",
    "\n",
    "lr_race = sk.linear_model.LogisticRegression(max_iter = 100000)\n",
    "lr_race.fit(X_train,y_train)\n",
    "y_pred_lr = lr_race.predict(X_test)"
   ]
  },
  {
   "cell_type": "code",
   "execution_count": 67,
   "id": "ef414424-c681-4f5e-aa2d-654009c21fc4",
   "metadata": {},
   "outputs": [],
   "source": [
    "# define fairness metrics\n",
    "metrics = {\n",
    "    'accuracy' : accuracy_score,\n",
    "    'selection rate' : selection_rate,\n",
    "    'FPR' : false_positive_rate,\n",
    "    'FNR' : false_negative_rate\n",
    "}"
   ]
  },
  {
   "cell_type": "code",
   "execution_count": 68,
   "id": "b0a18fa2-b7dd-4d2b-b725-4a736c5ee682",
   "metadata": {},
   "outputs": [
    {
     "data": {
      "text/html": [
       "<div>\n",
       "<style scoped>\n",
       "    .dataframe tbody tr th:only-of-type {\n",
       "        vertical-align: middle;\n",
       "    }\n",
       "\n",
       "    .dataframe tbody tr th {\n",
       "        vertical-align: top;\n",
       "    }\n",
       "\n",
       "    .dataframe thead th {\n",
       "        text-align: right;\n",
       "    }\n",
       "</style>\n",
       "<table border=\"1\" class=\"dataframe\">\n",
       "  <thead>\n",
       "    <tr style=\"text-align: right;\">\n",
       "      <th></th>\n",
       "      <th>accuracy</th>\n",
       "      <th>selection rate</th>\n",
       "      <th>FPR</th>\n",
       "      <th>FNR</th>\n",
       "    </tr>\n",
       "    <tr>\n",
       "      <th>binary_race</th>\n",
       "      <th></th>\n",
       "      <th></th>\n",
       "      <th></th>\n",
       "      <th></th>\n",
       "    </tr>\n",
       "  </thead>\n",
       "  <tbody>\n",
       "    <tr>\n",
       "      <th>0</th>\n",
       "      <td>0.766702</td>\n",
       "      <td>1.000000</td>\n",
       "      <td>1.000000</td>\n",
       "      <td>0.000000</td>\n",
       "    </tr>\n",
       "    <tr>\n",
       "      <th>1</th>\n",
       "      <td>0.870983</td>\n",
       "      <td>0.999137</td>\n",
       "      <td>0.997936</td>\n",
       "      <td>0.000686</td>\n",
       "    </tr>\n",
       "  </tbody>\n",
       "</table>\n",
       "</div>"
      ],
      "text/plain": [
       "             accuracy  selection rate       FPR       FNR\n",
       "binary_race                                              \n",
       "0            0.766702        1.000000  1.000000  0.000000\n",
       "1            0.870983        0.999137  0.997936  0.000686"
      ]
     },
     "execution_count": 68,
     "metadata": {},
     "output_type": "execute_result"
    }
   ],
   "source": [
    "# Bias report on logistic regression model    \n",
    "mf_lr = MetricFrame(metrics = metrics, y_true=y_test, y_pred=y_pred_lr, sensitive_features=X_test['binary_race'])\n",
    "mf_lr.by_group"
   ]
  },
  {
   "cell_type": "code",
   "execution_count": 69,
   "id": "b4217a61-3ff5-4ec5-adc6-9ced760f5ef6",
   "metadata": {},
   "outputs": [
    {
     "data": {
      "text/html": [
       "<div>\n",
       "<style scoped>\n",
       "    .dataframe tbody tr th:only-of-type {\n",
       "        vertical-align: middle;\n",
       "    }\n",
       "\n",
       "    .dataframe tbody tr th {\n",
       "        vertical-align: top;\n",
       "    }\n",
       "\n",
       "    .dataframe thead th {\n",
       "        text-align: right;\n",
       "    }\n",
       "</style>\n",
       "<table border=\"1\" class=\"dataframe\">\n",
       "  <thead>\n",
       "    <tr style=\"text-align: right;\">\n",
       "      <th></th>\n",
       "      <th>accuracy</th>\n",
       "      <th>selection rate</th>\n",
       "      <th>FPR</th>\n",
       "      <th>FNR</th>\n",
       "    </tr>\n",
       "    <tr>\n",
       "      <th>binary_race</th>\n",
       "      <th></th>\n",
       "      <th></th>\n",
       "      <th></th>\n",
       "      <th></th>\n",
       "    </tr>\n",
       "  </thead>\n",
       "  <tbody>\n",
       "    <tr>\n",
       "      <th>0</th>\n",
       "      <td>0.754507</td>\n",
       "      <td>0.937964</td>\n",
       "      <td>0.893182</td>\n",
       "      <td>0.048409</td>\n",
       "    </tr>\n",
       "    <tr>\n",
       "      <th>1</th>\n",
       "      <td>0.839774</td>\n",
       "      <td>0.938313</td>\n",
       "      <td>0.882869</td>\n",
       "      <td>0.053498</td>\n",
       "    </tr>\n",
       "  </tbody>\n",
       "</table>\n",
       "</div>"
      ],
      "text/plain": [
       "             accuracy  selection rate       FPR       FNR\n",
       "binary_race                                              \n",
       "0            0.754507        0.937964  0.893182  0.048409\n",
       "1            0.839774        0.938313  0.882869  0.053498"
      ]
     },
     "execution_count": 69,
     "metadata": {},
     "output_type": "execute_result"
    }
   ],
   "source": [
    "# Bias report on k-nearest neighbors model\n",
    "mf_knn = MetricFrame(metrics = metrics, y_true=y_test, y_pred=y_pred_knn, sensitive_features=X_test['binary_race'])\n",
    "mf_knn.by_group"
   ]
  },
  {
   "cell_type": "code",
   "execution_count": 70,
   "id": "e96c6ff4-a26c-4c12-aec5-824975ffb111",
   "metadata": {},
   "outputs": [
    {
     "data": {
      "text/html": [
       "<div>\n",
       "<style scoped>\n",
       "    .dataframe tbody tr th:only-of-type {\n",
       "        vertical-align: middle;\n",
       "    }\n",
       "\n",
       "    .dataframe tbody tr th {\n",
       "        vertical-align: top;\n",
       "    }\n",
       "\n",
       "    .dataframe thead th {\n",
       "        text-align: right;\n",
       "    }\n",
       "</style>\n",
       "<table border=\"1\" class=\"dataframe\">\n",
       "  <thead>\n",
       "    <tr style=\"text-align: right;\">\n",
       "      <th></th>\n",
       "      <th>accuracy</th>\n",
       "      <th>selection rate</th>\n",
       "      <th>FPR</th>\n",
       "      <th>FNR</th>\n",
       "    </tr>\n",
       "    <tr>\n",
       "      <th>binary_race</th>\n",
       "      <th></th>\n",
       "      <th></th>\n",
       "      <th></th>\n",
       "      <th></th>\n",
       "    </tr>\n",
       "  </thead>\n",
       "  <tbody>\n",
       "    <tr>\n",
       "      <th>0</th>\n",
       "      <td>0.677094</td>\n",
       "      <td>0.755567</td>\n",
       "      <td>0.668182</td>\n",
       "      <td>0.217842</td>\n",
       "    </tr>\n",
       "    <tr>\n",
       "      <th>1</th>\n",
       "      <td>0.796879</td>\n",
       "      <td>0.859031</td>\n",
       "      <td>0.741486</td>\n",
       "      <td>0.123609</td>\n",
       "    </tr>\n",
       "  </tbody>\n",
       "</table>\n",
       "</div>"
      ],
      "text/plain": [
       "             accuracy  selection rate       FPR       FNR\n",
       "binary_race                                              \n",
       "0            0.677094        0.755567  0.668182  0.217842\n",
       "1            0.796879        0.859031  0.741486  0.123609"
      ]
     },
     "execution_count": 70,
     "metadata": {},
     "output_type": "execute_result"
    }
   ],
   "source": [
    "# Bias report on decision tree model\n",
    "mf_dt = MetricFrame(metrics = metrics, y_true=y_test, y_pred=y_pred_dt, sensitive_features=X_test['binary_race'])\n",
    "mf_dt.by_group"
   ]
  },
  {
   "cell_type": "markdown",
   "id": "316b154a-d331-41d0-897f-1f7ab6473c9b",
   "metadata": {},
   "source": [
    "In order to illustrate how biased data may negatively affect any models trained on the HDMA dataset, we're creating fake data points to test our own. The following dataframe has a series of fictional applications with baseline values equal to the average for each column. From there, some numbers are adjusted to represent \"riskier\" debt history, or higher incomes, etc. Each set of values comes in pairs: one Black applicant and one white applicant with exactly the same information. We can say that for Pair 2, there were two different outcomes based solely on race."
   ]
  },
  {
   "cell_type": "code",
   "execution_count": 71,
   "id": "db6c3d13-d553-416e-9fc0-9d6ad6db690f",
   "metadata": {},
   "outputs": [
    {
     "name": "stdout",
     "output_type": "stream",
     "text": [
      "[False False False False False False False False]\n"
     ]
    }
   ],
   "source": [
    "# Pair 1: average values\n",
    "# Pair 2: safer application - less debt, higher income\n",
    "# Pair 3: safer application - less debt, higher income, lower loan amount\n",
    "# Pair 4: riskier application - high debt, high loan amount\n",
    "\n",
    "sample_data = pd.DataFrame({'debt_to_income_ratio': [42.7, 42.7, 35.0, 35.0, 33.0, 33.0, 48.0, 48.0],\n",
    "                            'income': [145.28, 145.28, 200.28, 200.28, 210.28, 210.28, 145.28, 145.28],\n",
    "                            'loan_to_value_ratio':[1094.02, 1094.02, 1094.02, 1094.02, 1094.02, 1094.02, 1094.02, 1094.02],\n",
    "                            'loan_amount': [295623.77, 295623.77, 295623.77, 295623.77, 275000.77, 275000.77, 400000, 400000],\n",
    "                            'property_value': [561332.65, 561332.65, 561332.65, 561332.65, 561332.65, 561332.65, 561332.65, 561332.65],\n",
    "                            'binary_race': [0, 1, 0, 1, 0, 1, 0, 1]})\n",
    "\n",
    "sample_pred = dt_race.predict(sample_data)\n",
    "print(sample_pred)"
   ]
  }
 ],
 "metadata": {
  "kernelspec": {
   "display_name": "base",
   "language": "python",
   "name": "python3"
  },
  "language_info": {
   "codemirror_mode": {
    "name": "ipython",
    "version": 3
   },
   "file_extension": ".py",
   "mimetype": "text/x-python",
   "name": "python",
   "nbconvert_exporter": "python",
   "pygments_lexer": "ipython3",
   "version": "3.12.7"
  }
 },
 "nbformat": 4,
 "nbformat_minor": 5
}
