{
 "cells": [
  {
   "cell_type": "markdown",
   "id": "c090f5b2",
   "metadata": {},
   "source": [
    "# Notebook Setup"
   ]
  },
  {
   "cell_type": "code",
   "execution_count": 3,
   "id": "dfdf8bf5-d543-4dc8-82ea-5516767d4b13",
   "metadata": {},
   "outputs": [],
   "source": [
    "import pandas as pd\n",
    "import numpy as np\n",
    "import matplotlib.pyplot as plt\n",
    "import seaborn as sns\n",
    "import statsmodels as sm\n",
    "import statsmodels.formula.api as smf\n",
    "import sklearn as sk"
   ]
  },
  {
   "cell_type": "code",
   "execution_count": 81,
   "id": "d2a1606c-f2a6-46e2-99ed-8296ac9c5c17",
   "metadata": {},
   "outputs": [
    {
     "name": "stdout",
     "output_type": "stream",
     "text": [
      "<class 'pandas.core.frame.DataFrame'>\n",
      "RangeIndex: 233144 entries, 0 to 233143\n",
      "Data columns (total 20 columns):\n",
      " #   Column                             Non-Null Count   Dtype  \n",
      "---  ------                             --------------   -----  \n",
      " 0   action_taken                       233144 non-null  int64  \n",
      " 1   derived_race                       233144 non-null  object \n",
      " 2   derived_ethnicity                  233144 non-null  object \n",
      " 3   applicant_sex                      233144 non-null  int64  \n",
      " 4   applicant_age                      233144 non-null  object \n",
      " 5   income                             226538 non-null  float64\n",
      " 6   debt_to_income_ratio               100684 non-null  float64\n",
      " 7   applicant_credit_score_type        233144 non-null  int64  \n",
      " 8   loan_amount                        233144 non-null  float64\n",
      " 9   loan_to_value_ratio                224447 non-null  float64\n",
      " 10  interest_rate                      176143 non-null  float64\n",
      " 11  rate_spread                        151964 non-null  object \n",
      " 12  loan_type                          233144 non-null  int64  \n",
      " 13  loan_purpose                       233144 non-null  int64  \n",
      " 14  lien_status                        233144 non-null  int64  \n",
      " 15  property_value                     233144 non-null  float64\n",
      " 16  occupancy_type                     233144 non-null  int64  \n",
      " 17  tract_minority_population_percent  233144 non-null  float64\n",
      " 18  aus-1                              233144 non-null  int64  \n",
      " 19  denial_reason-1                    233144 non-null  int64  \n",
      "dtypes: float64(7), int64(9), object(4)\n",
      "memory usage: 35.6+ MB\n"
     ]
    },
    {
     "name": "stderr",
     "output_type": "stream",
     "text": [
      "/var/folders/bk/9ksdjj7n47qdwk9fmh_w5rbc0000gn/T/ipykernel_30308/1206858015.py:1: DtypeWarning: Columns (11) have mixed types. Specify dtype option on import or set low_memory=False.\n",
      "  df = pd.read_csv('../data/clean-data/cleaned_nys_data.csv')\n"
     ]
    }
   ],
   "source": [
    "df = pd.read_csv('../data/clean-data/cleaned_nys_data.csv')\n",
    "df_original = df.copy()\n",
    "df.info()"
   ]
  },
  {
   "cell_type": "markdown",
   "id": "5693386d",
   "metadata": {},
   "source": [
    "# Impact Analysis Using HMDA Loan Approval Data, proxy outcome\n",
    "regression models (MLR, logistic regression, ML algorithms?) – Victor, Zheka\n",
    "Keeping predictors similar but testing across different outcome variables (loan amount, interest rate, application outcome)\n",
    "Switching zip-code with race and testing other outcomes (?)"
   ]
  },
  {
   "cell_type": "markdown",
   "id": "fcbbf3eb",
   "metadata": {},
   "source": [
    "Model 1: logistic regression that predicts loan outcome\n",
    "Model 2: loan amount (MLR)\n",
    "Model 3: interest rate (MLR), rate_spread"
   ]
  },
  {
   "cell_type": "code",
   "execution_count": 82,
   "id": "d31e1581",
   "metadata": {},
   "outputs": [
    {
     "data": {
      "text/html": [
       "<div>\n",
       "<style scoped>\n",
       "    .dataframe tbody tr th:only-of-type {\n",
       "        vertical-align: middle;\n",
       "    }\n",
       "\n",
       "    .dataframe tbody tr th {\n",
       "        vertical-align: top;\n",
       "    }\n",
       "\n",
       "    .dataframe thead th {\n",
       "        text-align: right;\n",
       "    }\n",
       "</style>\n",
       "<table border=\"1\" class=\"dataframe\">\n",
       "  <thead>\n",
       "    <tr style=\"text-align: right;\">\n",
       "      <th></th>\n",
       "      <th>applicant_sex</th>\n",
       "      <th>binary_race</th>\n",
       "      <th>binary_ethnicity</th>\n",
       "      <th>binary_denied</th>\n",
       "    </tr>\n",
       "  </thead>\n",
       "  <tbody>\n",
       "    <tr>\n",
       "      <th>applicant_sex</th>\n",
       "      <td>1.000000</td>\n",
       "      <td>-0.089703</td>\n",
       "      <td>-0.000775</td>\n",
       "      <td>0.021091</td>\n",
       "    </tr>\n",
       "    <tr>\n",
       "      <th>binary_race</th>\n",
       "      <td>-0.089703</td>\n",
       "      <td>1.000000</td>\n",
       "      <td>-0.000189</td>\n",
       "      <td>-0.124504</td>\n",
       "    </tr>\n",
       "    <tr>\n",
       "      <th>binary_ethnicity</th>\n",
       "      <td>-0.000775</td>\n",
       "      <td>-0.000189</td>\n",
       "      <td>1.000000</td>\n",
       "      <td>-0.063217</td>\n",
       "    </tr>\n",
       "    <tr>\n",
       "      <th>binary_denied</th>\n",
       "      <td>0.021091</td>\n",
       "      <td>-0.124504</td>\n",
       "      <td>-0.063217</td>\n",
       "      <td>1.000000</td>\n",
       "    </tr>\n",
       "  </tbody>\n",
       "</table>\n",
       "</div>"
      ],
      "text/plain": [
       "                  applicant_sex  binary_race  binary_ethnicity  binary_denied\n",
       "applicant_sex          1.000000    -0.089703         -0.000775       0.021091\n",
       "binary_race           -0.089703     1.000000         -0.000189      -0.124504\n",
       "binary_ethnicity      -0.000775    -0.000189          1.000000      -0.063217\n",
       "binary_denied          0.021091    -0.124504         -0.063217       1.000000"
      ]
     },
     "execution_count": 82,
     "metadata": {},
     "output_type": "execute_result"
    }
   ],
   "source": [
    "df_slice = df.loc[(df['derived_race'] == \"Black or African American\") | (df['derived_race'] == \"White\")]\n",
    "df_race = df_slice.copy()\n",
    "df_race['binary_race'] = 0\n",
    "df_race.loc[df_race['derived_race'] == \"White\", 'binary_race'] = 1\n",
    "\n",
    "# # transform derived ethnicity to binary column for Hispanic or not\n",
    "df_race['binary_ethnicity'] = 0\n",
    "df_race.loc[df_race['derived_ethnicity'] == \"Not Hispanic or Latino\", 'binary_ethnicity'] = 1\n",
    "\n",
    "# # create column with 0 for denied applications/preapproval requests and 1 for accepted applications\n",
    "df_race['binary_denied'] = 0\n",
    "df_race.loc[(df_race['action_taken'] == 3) | (df_race['action_taken'] == 7), 'binary_denied'] = 1\n",
    "\n",
    "# # create correlation matrix\n",
    "df_corr = df_race[['applicant_sex','binary_race','binary_ethnicity','binary_denied']]\n",
    "df_corr.corr()"
   ]
  },
  {
   "cell_type": "code",
   "execution_count": 7,
   "id": "a1170c5d",
   "metadata": {},
   "outputs": [
    {
     "data": {
      "text/plain": [
       "Index(['action_taken', 'derived_race', 'derived_ethnicity', 'applicant_sex',\n",
       "       'applicant_age', 'income', 'debt_to_income_ratio',\n",
       "       'applicant_credit_score_type', 'loan_amount', 'loan_to_value_ratio',\n",
       "       'interest_rate', 'rate_spread', 'loan_type', 'loan_purpose',\n",
       "       'lien_status', 'property_value', 'occupancy_type',\n",
       "       'tract_minority_population_percent', 'aus-1', 'denial_reason-1'],\n",
       "      dtype='object')"
      ]
     },
     "execution_count": 7,
     "metadata": {},
     "output_type": "execute_result"
    }
   ],
   "source": [
    "df.columns"
   ]
  },
  {
   "cell_type": "code",
   "execution_count": 10,
   "id": "311b7b2b",
   "metadata": {},
   "outputs": [
    {
     "name": "stdout",
     "output_type": "stream",
     "text": [
      "<class 'pandas.core.frame.DataFrame'>\n",
      "RangeIndex: 233144 entries, 0 to 233143\n",
      "Data columns (total 20 columns):\n",
      " #   Column                             Non-Null Count   Dtype  \n",
      "---  ------                             --------------   -----  \n",
      " 0   action_taken                       233144 non-null  int64  \n",
      " 1   derived_race                       233144 non-null  object \n",
      " 2   derived_ethnicity                  233144 non-null  object \n",
      " 3   applicant_sex                      233144 non-null  int64  \n",
      " 4   applicant_age                      233144 non-null  object \n",
      " 5   income                             226538 non-null  float64\n",
      " 6   debt_to_income_ratio               100684 non-null  float64\n",
      " 7   applicant_credit_score_type        233144 non-null  int64  \n",
      " 8   loan_amount                        233144 non-null  float64\n",
      " 9   loan_to_value_ratio                224447 non-null  float64\n",
      " 10  interest_rate                      176143 non-null  float64\n",
      " 11  rate_spread                        151964 non-null  object \n",
      " 12  loan_type                          233144 non-null  int64  \n",
      " 13  loan_purpose                       233144 non-null  int64  \n",
      " 14  lien_status                        233144 non-null  int64  \n",
      " 15  property_value                     233144 non-null  float64\n",
      " 16  occupancy_type                     233144 non-null  int64  \n",
      " 17  tract_minority_population_percent  233144 non-null  float64\n",
      " 18  aus-1                              233144 non-null  int64  \n",
      " 19  denial_reason-1                    233144 non-null  int64  \n",
      "dtypes: float64(7), int64(9), object(4)\n",
      "memory usage: 35.6+ MB\n"
     ]
    }
   ],
   "source": [
    "df.info()"
   ]
  },
  {
   "cell_type": "code",
   "execution_count": 12,
   "id": "3adff7fd",
   "metadata": {},
   "outputs": [
    {
     "name": "stdout",
     "output_type": "stream",
     "text": [
      "<class 'pandas.core.frame.DataFrame'>\n",
      "Index: 66615 entries, 0 to 233143\n",
      "Data columns (total 23 columns):\n",
      " #   Column                             Non-Null Count  Dtype  \n",
      "---  ------                             --------------  -----  \n",
      " 0   action_taken                       66615 non-null  int64  \n",
      " 1   derived_race                       66615 non-null  object \n",
      " 2   derived_ethnicity                  66615 non-null  object \n",
      " 3   applicant_sex                      66615 non-null  int64  \n",
      " 4   applicant_age                      66615 non-null  object \n",
      " 5   income                             66615 non-null  float64\n",
      " 6   debt_to_income_ratio               66615 non-null  float64\n",
      " 7   applicant_credit_score_type        66615 non-null  int64  \n",
      " 8   loan_amount                        66615 non-null  float64\n",
      " 9   loan_to_value_ratio                66615 non-null  float64\n",
      " 10  interest_rate                      66615 non-null  float64\n",
      " 11  rate_spread                        66615 non-null  object \n",
      " 12  loan_type                          66615 non-null  int64  \n",
      " 13  loan_purpose                       66615 non-null  int64  \n",
      " 14  lien_status                        66615 non-null  int64  \n",
      " 15  property_value                     66615 non-null  float64\n",
      " 16  occupancy_type                     66615 non-null  int64  \n",
      " 17  tract_minority_population_percent  66615 non-null  float64\n",
      " 18  aus-1                              66615 non-null  int64  \n",
      " 19  denial_reason-1                    66615 non-null  int64  \n",
      " 20  binary_race                        66615 non-null  int64  \n",
      " 21  binary_ethnicity                   66615 non-null  int64  \n",
      " 22  binary_denied                      66615 non-null  int64  \n",
      "dtypes: float64(7), int64(12), object(4)\n",
      "memory usage: 12.2+ MB\n"
     ]
    }
   ],
   "source": [
    "df_race.info()"
   ]
  },
  {
   "cell_type": "code",
   "execution_count": 83,
   "id": "cb7e9f46",
   "metadata": {},
   "outputs": [],
   "source": [
    "age_map = {'<25': 1, '25-34': 2, '35-54' : 3, '45-54' : 4, '55-64' : 5, '65-74' : 6, '>74' : 7,'8888' : 8}\n",
    "df_race['age_categorical'] = df_race['applicant_age'].map(age_map)\n",
    "# "
   ]
  },
  {
   "cell_type": "markdown",
   "id": "fc3e9b7a",
   "metadata": {},
   "source": [
    "# Model 1:  logistic regression that predicts loan outcome"
   ]
  },
  {
   "cell_type": "markdown",
   "id": "a263927e",
   "metadata": {},
   "source": [
    "Creating binary accepted colum (From ERin/Ellie)"
   ]
  },
  {
   "cell_type": "code",
   "execution_count": 84,
   "id": "53179792",
   "metadata": {},
   "outputs": [
    {
     "data": {
      "text/plain": [
       "array([1, 3, 8, 2, 6, 7])"
      ]
     },
     "execution_count": 84,
     "metadata": {},
     "output_type": "execute_result"
    }
   ],
   "source": [
    "df_race['action_taken'].unique()"
   ]
  },
  {
   "cell_type": "code",
   "execution_count": 87,
   "id": "536b5176",
   "metadata": {},
   "outputs": [],
   "source": [
    "selected_df = df_race.loc[(df_race[\"action_taken\"] == 1) | (df_race[\"action_taken\"] == 2) | (df_race[\"action_taken\"] == 3) | (df_race[\"action_taken\"] == 7)]\n",
    "selected_df = selected_df.copy()\n",
    "selected_df['binary_accepted'] = selected_df['action_taken'].apply(lambda x: 1 if x in [1,2] else 0)\n",
    "# Step 2: Create binary_accepted column\n",
    "# df_race[\"binary_accepted\"] = df_race[\"action_taken\"].isin([1, 2])"
   ]
  },
  {
   "cell_type": "code",
   "execution_count": 88,
   "id": "d5084f16",
   "metadata": {},
   "outputs": [
    {
     "data": {
      "text/plain": [
       "array([1, 0])"
      ]
     },
     "execution_count": 88,
     "metadata": {},
     "output_type": "execute_result"
    }
   ],
   "source": [
    "selected_df['binary_accepted'].unique()"
   ]
  },
  {
   "cell_type": "code",
   "execution_count": 96,
   "id": "b21cee94",
   "metadata": {},
   "outputs": [
    {
     "data": {
      "text/plain": [
       "Index(['action_taken', 'derived_race', 'derived_ethnicity', 'applicant_sex',\n",
       "       'applicant_age', 'income', 'debt_to_income_ratio',\n",
       "       'applicant_credit_score_type', 'loan_amount', 'loan_to_value_ratio',\n",
       "       'interest_rate', 'rate_spread', 'loan_type', 'loan_purpose',\n",
       "       'lien_status', 'property_value', 'occupancy_type',\n",
       "       'tract_minority_population_percent', 'aus-1', 'denial_reason-1',\n",
       "       'binary_race', 'binary_ethnicity', 'binary_denied', 'age_categorical',\n",
       "       'binary_accepted'],\n",
       "      dtype='object')"
      ]
     },
     "execution_count": 96,
     "metadata": {},
     "output_type": "execute_result"
    }
   ],
   "source": [
    "selected_df.columns"
   ]
  },
  {
   "cell_type": "code",
   "execution_count": 100,
   "id": "0468006e",
   "metadata": {},
   "outputs": [
    {
     "name": "stdout",
     "output_type": "stream",
     "text": [
      "Optimization terminated successfully.\n",
      "         Current function value: 0.384431\n",
      "         Iterations 15\n",
      "                           Logit Regression Results                           \n",
      "==============================================================================\n",
      "Dep. Variable:        binary_accepted   No. Observations:                63798\n",
      "Model:                          Logit   Df Residuals:                    63784\n",
      "Method:                           MLE   Df Model:                           13\n",
      "Date:                Sat, 05 Apr 2025   Pseudo R-squ.:                 0.04255\n",
      "Time:                        14:23:31   Log-Likelihood:                -24526.\n",
      "converged:                       True   LL-Null:                       -25616.\n",
      "Covariance Type:            nonrobust   LLR p-value:                     0.000\n",
      "=====================================================================================================\n",
      "                                        coef    std err          z      P>|z|      [0.025      0.975]\n",
      "-----------------------------------------------------------------------------------------------------\n",
      "Intercept                             3.9853      0.165     24.152      0.000       3.662       4.309\n",
      "tract_minority_population_percent    -0.0052      0.001     -9.924      0.000      -0.006      -0.004\n",
      "binary_race                           0.4761      0.039     12.330      0.000       0.400       0.552\n",
      "debt_to_income_ratio                 -0.0044      0.003     -1.467      0.142      -0.010       0.001\n",
      "income                             1.679e-05   4.29e-05      0.392      0.695   -6.73e-05       0.000\n",
      "property_value                    -4.537e-09   4.38e-09     -1.037      0.300   -1.31e-08    4.04e-09\n",
      "applicant_sex                        -0.0711      0.023     -3.134      0.002      -0.115      -0.027\n",
      "age_categorical                      -0.0596      0.009     -6.948      0.000      -0.076      -0.043\n",
      "applicant_credit_score_type          -0.0590      0.004    -14.627      0.000      -0.067      -0.051\n",
      "loan_to_value_ratio                  -0.0031      0.001     -5.558      0.000      -0.004      -0.002\n",
      "loan_type                            -0.2720      0.030     -9.102      0.000      -0.331      -0.213\n",
      "loan_purpose                         -0.0148      0.001    -15.540      0.000      -0.017      -0.013\n",
      "lien_status                          -0.6376      0.028    -22.895      0.000      -0.692      -0.583\n",
      "occupancy_type                       -0.0932      0.029     -3.162      0.002      -0.151      -0.035\n",
      "=====================================================================================================\n"
     ]
    },
    {
     "name": "stderr",
     "output_type": "stream",
     "text": [
      "/opt/anaconda3/envs/cmpu-250/lib/python3.12/site-packages/statsmodels/discrete/discrete_model.py:2385: RuntimeWarning: overflow encountered in exp\n",
      "  return 1/(1+np.exp(-X))\n",
      "/opt/anaconda3/envs/cmpu-250/lib/python3.12/site-packages/statsmodels/discrete/discrete_model.py:2385: RuntimeWarning: overflow encountered in exp\n",
      "  return 1/(1+np.exp(-X))\n"
     ]
    }
   ],
   "source": [
    "log_model = smf.logit(formula = 'binary_accepted ~ tract_minority_population_percent + binary_race + debt_to_income_ratio + income + property_value + applicant_sex + age_categorical + applicant_credit_score_type + loan_to_value_ratio + loan_type + loan_purpose + lien_status + occupancy_type',\n",
    "                       data = selected_df \n",
    "            )\n",
    "\n",
    "results = log_model.fit()\n",
    "print(results.summary())"
   ]
  },
  {
   "cell_type": "code",
   "execution_count": 101,
   "id": "add25917",
   "metadata": {},
   "outputs": [
    {
     "name": "stderr",
     "output_type": "stream",
     "text": [
      "/opt/anaconda3/envs/cmpu-250/lib/python3.12/site-packages/statsmodels/discrete/discrete_model.py:2385: RuntimeWarning: overflow encountered in exp\n",
      "  return 1/(1+np.exp(-X))\n"
     ]
    },
    {
     "name": "stdout",
     "output_type": "stream",
     "text": [
      "Optimization terminated successfully.\n",
      "         Current function value: 0.387170\n",
      "         Iterations 15\n",
      "                           Logit Regression Results                           \n",
      "==============================================================================\n",
      "Dep. Variable:        binary_accepted   No. Observations:                84726\n",
      "Model:                          Logit   Df Residuals:                    84716\n",
      "Method:                           MLE   Df Model:                            9\n",
      "Date:                Sat, 05 Apr 2025   Pseudo R-squ.:                 0.03430\n",
      "Time:                        14:30:48   Log-Likelihood:                -32803.\n",
      "converged:                       True   LL-Null:                       -33969.\n",
      "Covariance Type:            nonrobust   LLR p-value:                     0.000\n",
      "===============================================================================================\n",
      "                                  coef    std err          z      P>|z|      [0.025      0.975]\n",
      "-----------------------------------------------------------------------------------------------\n",
      "Intercept                       4.3341      0.129     33.478      0.000       4.080       4.588\n",
      "debt_to_income_ratio           -0.0119      0.003     -4.636      0.000      -0.017      -0.007\n",
      "income                          0.0001   6.86e-05      1.717      0.086   -1.67e-05       0.000\n",
      "property_value              -1.008e-08   7.12e-09     -1.415      0.157    -2.4e-08    3.88e-09\n",
      "applicant_credit_score_type    -0.0606      0.003    -17.395      0.000      -0.067      -0.054\n",
      "loan_to_value_ratio            -0.0026      0.000     -5.514      0.000      -0.004      -0.002\n",
      "loan_type                      -0.2920      0.025    -11.506      0.000      -0.342      -0.242\n",
      "loan_purpose                   -0.0170      0.001    -20.680      0.000      -0.019      -0.015\n",
      "lien_status                    -0.7047      0.024    -29.458      0.000      -0.752      -0.658\n",
      "occupancy_type                 -0.1160      0.025     -4.592      0.000      -0.166      -0.067\n",
      "===============================================================================================\n"
     ]
    },
    {
     "name": "stderr",
     "output_type": "stream",
     "text": [
      "/opt/anaconda3/envs/cmpu-250/lib/python3.12/site-packages/statsmodels/discrete/discrete_model.py:2385: RuntimeWarning: overflow encountered in exp\n",
      "  return 1/(1+np.exp(-X))\n"
     ]
    }
   ],
   "source": [
    "log_model = smf.logit(formula = 'binary_accepted ~  debt_to_income_ratio + income + property_value + applicant_credit_score_type + loan_to_value_ratio + loan_type + loan_purpose + lien_status + occupancy_type',\n",
    "                       data = selected_df \n",
    "            )\n",
    "\n",
    "results = log_model.fit()\n",
    "print(results.summary())"
   ]
  },
  {
   "cell_type": "markdown",
   "id": "5b5f7fcf",
   "metadata": {},
   "source": [
    "##### Submodel trained on denials"
   ]
  },
  {
   "cell_type": "code",
   "execution_count": 106,
   "id": "bc7f9401",
   "metadata": {},
   "outputs": [],
   "source": [
    "selected_df = df_race.loc[(df_race[\"action_taken\"] == 3) | (df_race[\"action_taken\"] == 2) | (df_race[\"action_taken\"] == 7)]\n",
    "selected_df = selected_df.copy()\n",
    "selected_df['binary_accepted'] = selected_df['action_taken'].apply(lambda x: 1 if x in [1,2] else 0)\n",
    "# Step 2: Create binary_accepted column\n",
    "# df_race[\"binary_accepted\"] = df_race[\"action_taken\"].isin([1, 2])"
   ]
  },
  {
   "cell_type": "code",
   "execution_count": 107,
   "id": "c96a36f5",
   "metadata": {},
   "outputs": [
    {
     "name": "stdout",
     "output_type": "stream",
     "text": [
      "Optimization terminated successfully.\n",
      "         Current function value: 0.497354\n",
      "         Iterations 16\n",
      "                           Logit Regression Results                           \n",
      "==============================================================================\n",
      "Dep. Variable:        binary_accepted   No. Observations:                11199\n",
      "Model:                          Logit   Df Residuals:                    11185\n",
      "Method:                           MLE   Df Model:                           13\n",
      "Date:                Sat, 05 Apr 2025   Pseudo R-squ.:                 0.04025\n",
      "Time:                        14:37:02   Log-Likelihood:                -5569.9\n",
      "converged:                       True   LL-Null:                       -5803.4\n",
      "Covariance Type:            nonrobust   LLR p-value:                 1.391e-91\n",
      "=====================================================================================================\n",
      "                                        coef    std err          z      P>|z|      [0.025      0.975]\n",
      "-----------------------------------------------------------------------------------------------------\n",
      "Intercept                             0.3207      0.323      0.994      0.320      -0.311       0.953\n",
      "tract_minority_population_percent     0.0006      0.001      0.606      0.544      -0.001       0.003\n",
      "binary_race                           0.4344      0.079      5.521      0.000       0.280       0.589\n",
      "debt_to_income_ratio                  0.0024      0.006      0.413      0.680      -0.009       0.014\n",
      "income                             1.544e-05      0.000      0.126      0.900      -0.000       0.000\n",
      "property_value                    -1.537e-09   5.47e-09     -0.281      0.779   -1.22e-08    9.17e-09\n",
      "applicant_sex                        -0.0889      0.046     -1.931      0.053      -0.179       0.001\n",
      "age_categorical                       0.0013      0.016      0.080      0.936      -0.031       0.033\n",
      "applicant_credit_score_type          -0.0347      0.009     -4.068      0.000      -0.051      -0.018\n",
      "loan_to_value_ratio                  -0.0010      0.001     -1.114      0.265      -0.003       0.001\n",
      "loan_type                            -0.2870      0.064     -4.475      0.000      -0.413      -0.161\n",
      "loan_purpose                         -0.0169      0.002     -8.496      0.000      -0.021      -0.013\n",
      "lien_status                          -0.9159      0.061    -15.011      0.000      -1.035      -0.796\n",
      "occupancy_type                       -0.0707      0.057     -1.236      0.216      -0.183       0.041\n",
      "=====================================================================================================\n"
     ]
    },
    {
     "name": "stderr",
     "output_type": "stream",
     "text": [
      "/opt/anaconda3/envs/cmpu-250/lib/python3.12/site-packages/statsmodels/discrete/discrete_model.py:2385: RuntimeWarning: overflow encountered in exp\n",
      "  return 1/(1+np.exp(-X))\n",
      "/opt/anaconda3/envs/cmpu-250/lib/python3.12/site-packages/statsmodels/discrete/discrete_model.py:2385: RuntimeWarning: overflow encountered in exp\n",
      "  return 1/(1+np.exp(-X))\n"
     ]
    }
   ],
   "source": [
    "log_model = smf.logit(formula = 'binary_accepted ~ tract_minority_population_percent + binary_race + debt_to_income_ratio + income + property_value + applicant_sex + age_categorical + applicant_credit_score_type + loan_to_value_ratio + loan_type + loan_purpose + lien_status + occupancy_type',\n",
    "                       data = selected_df \n",
    "            )\n",
    "\n",
    "results = log_model.fit()\n",
    "print(results.summary())"
   ]
  },
  {
   "cell_type": "markdown",
   "id": "49a27c1c",
   "metadata": {},
   "source": [
    "## Model 2: loan amount (MLR)"
   ]
  },
  {
   "cell_type": "code",
   "execution_count": null,
   "id": "ac2a935b",
   "metadata": {},
   "outputs": [
    {
     "name": "stdout",
     "output_type": "stream",
     "text": [
      "                            OLS Regression Results                            \n",
      "==============================================================================\n",
      "Dep. Variable:            loan_amount   R-squared:                       0.794\n",
      "Model:                            OLS   Adj. R-squared:                  0.794\n",
      "Method:                 Least Squares   F-statistic:                 1.381e+04\n",
      "Date:                Sat, 05 Apr 2025   Prob (F-statistic):               0.00\n",
      "Time:                        13:56:21   Log-Likelihood:            -6.7285e+05\n",
      "No. Observations:               50031   AIC:                         1.346e+06\n",
      "Df Residuals:                   50016   BIC:                         1.346e+06\n",
      "Df Model:                          14                                         \n",
      "Covariance Type:            nonrobust                                         \n",
      "=====================================================================================================\n",
      "                                        coef    std err          t      P>|t|      [0.025      0.975]\n",
      "-----------------------------------------------------------------------------------------------------\n",
      "const                              6900.6706    1.1e+04      0.625      0.532   -1.47e+04    2.85e+04\n",
      "tract_minority_population_percent   503.7359     35.904     14.030      0.000     433.364     574.108\n",
      "binary_race                        1.326e+04   2855.680      4.643      0.000    7660.487    1.89e+04\n",
      "debt_to_income_ratio                967.9627    192.531      5.028      0.000     590.600    1345.325\n",
      "income                               44.9039      1.855     24.207      0.000      41.268      48.540\n",
      "property_value                        0.4525      0.001    372.036      0.000       0.450       0.455\n",
      "applicant_sex                     -1.115e+04   1479.130     -7.541      0.000   -1.41e+04   -8254.750\n",
      "age_categorical                    -300.2887    352.065     -0.853      0.394    -990.339     389.762\n",
      "applicant_credit_score_type        1439.2581    295.117      4.877      0.000     860.826    2017.690\n",
      "loan_to_value_ratio                4175.0457     41.782     99.923      0.000    4093.152    4256.940\n",
      "loan_type                         -2.508e+04   1912.832    -13.112      0.000   -2.88e+04   -2.13e+04\n",
      "loan_purpose                       -454.9917     66.632     -6.828      0.000    -585.591    -324.392\n",
      "lien_status                       -2.429e+05   2356.201   -103.099      0.000   -2.48e+05   -2.38e+05\n",
      "occupancy_type                     1.021e+04   2953.007      3.456      0.001    4418.615     1.6e+04\n",
      "aus-1                              1532.9308    471.755      3.249      0.001     608.285    2457.577\n",
      "==============================================================================\n",
      "Omnibus:                    36974.175   Durbin-Watson:                   1.796\n",
      "Prob(Omnibus):                  0.000   Jarque-Bera (JB):        173132959.440\n",
      "Skew:                           1.883   Prob(JB):                         0.00\n",
      "Kurtosis:                     291.163   Cond. No.                     1.29e+07\n",
      "==============================================================================\n",
      "\n",
      "Notes:\n",
      "[1] Standard Errors assume that the covariance matrix of the errors is correctly specified.\n",
      "[2] The condition number is large, 1.29e+07. This might indicate that there are\n",
      "strong multicollinearity or other numerical problems.\n"
     ]
    }
   ],
   "source": [
    "import statsmodels.api as sm\n",
    "df_race = df_race.dropna()\n",
    "\n",
    "X = df_race[['tract_minority_population_percent', \"binary_race\", \"debt_to_income_ratio\", 'income', \"property_value\", 'applicant_sex',\n",
    "             'age_categorical', 'applicant_credit_score_type', 'loan_to_value_ratio', 'loan_type', 'loan_purpose', 'lien_status', \n",
    "             'occupancy_type', 'aus-1']]\n",
    "\n",
    "y = df_race['loan_amount']\n",
    "\n",
    "X = sm.add_constant(X)\n",
    "\n",
    "model = sm.OLS(y, X).fit()\n",
    "\n",
    "print(model.summary())"
   ]
  },
  {
   "cell_type": "markdown",
   "id": "0f4be0b4",
   "metadata": {},
   "source": [
    "## Model 3: interest rate (MLR), rate_spread"
   ]
  },
  {
   "cell_type": "code",
   "execution_count": 115,
   "id": "5a6de5e9",
   "metadata": {},
   "outputs": [
    {
     "data": {
      "text/plain": [
       "Index(['action_taken', 'derived_race', 'derived_ethnicity', 'applicant_sex',\n",
       "       'applicant_age', 'income', 'debt_to_income_ratio',\n",
       "       'applicant_credit_score_type', 'loan_amount', 'loan_to_value_ratio',\n",
       "       'interest_rate', 'rate_spread', 'loan_type', 'loan_purpose',\n",
       "       'lien_status', 'property_value', 'occupancy_type',\n",
       "       'tract_minority_population_percent', 'aus-1', 'denial_reason-1',\n",
       "       'binary_race', 'binary_ethnicity', 'binary_denied', 'age_categorical'],\n",
       "      dtype='object')"
      ]
     },
     "execution_count": 115,
     "metadata": {},
     "output_type": "execute_result"
    }
   ],
   "source": [
    "df_race.columns\n"
   ]
  },
  {
   "cell_type": "code",
   "execution_count": 117,
   "id": "797cb590",
   "metadata": {},
   "outputs": [
    {
     "name": "stdout",
     "output_type": "stream",
     "text": [
      "                            OLS Regression Results                            \n",
      "==============================================================================\n",
      "Dep. Variable:          interest_rate   R-squared:                       0.108\n",
      "Model:                            OLS   Adj. R-squared:                  0.108\n",
      "Method:                 Least Squares   F-statistic:                     432.8\n",
      "Date:                Sat, 05 Apr 2025   Prob (F-statistic):               0.00\n",
      "Time:                        14:42:10   Log-Likelihood:                -88591.\n",
      "No. Observations:               50031   AIC:                         1.772e+05\n",
      "Df Residuals:                   50016   BIC:                         1.773e+05\n",
      "Df Model:                          14                                         \n",
      "Covariance Type:            nonrobust                                         \n",
      "=====================================================================================================\n",
      "                                        coef    std err          t      P>|t|      [0.025      0.975]\n",
      "-----------------------------------------------------------------------------------------------------\n",
      "const                                 4.1153      0.095     43.364      0.000       3.929       4.301\n",
      "tract_minority_population_percent     0.0025      0.000      8.121      0.000       0.002       0.003\n",
      "binary_race                           0.0662      0.024      2.726      0.006       0.019       0.114\n",
      "debt_to_income_ratio                  0.0212      0.002     12.962      0.000       0.018       0.024\n",
      "income                            -5.382e-05   1.57e-05     -3.422      0.001   -8.46e-05    -2.3e-05\n",
      "property_value                    -5.772e-08   1.03e-08     -5.608      0.000   -7.79e-08   -3.75e-08\n",
      "applicant_sex                        -0.0181      0.013     -1.440      0.150      -0.043       0.007\n",
      "age_categorical                       0.0003      0.005      0.060      0.952      -0.009       0.009\n",
      "applicant_credit_score_type           0.0420      0.003     16.774      0.000       0.037       0.047\n",
      "loan_to_value_ratio                   0.0028      0.000      7.558      0.000       0.002       0.004\n",
      "loan_type                            -0.1166      0.016     -7.185      0.000      -0.148      -0.085\n",
      "loan_purpose                          0.0056      0.001      9.703      0.000       0.004       0.007\n",
      "lien_status                           1.0509      0.020     52.546      0.000       1.012       1.090\n",
      "occupancy_type                        0.2415      0.025      9.637      0.000       0.192       0.291\n",
      "aus-1                                -0.0169      0.004     -4.220      0.000      -0.025      -0.009\n",
      "==============================================================================\n",
      "Omnibus:                    10752.500   Durbin-Watson:                   0.972\n",
      "Prob(Omnibus):                  0.000   Jarque-Bera (JB):            83287.660\n",
      "Skew:                          -0.826   Prob(JB):                         0.00\n",
      "Kurtosis:                       9.101   Cond. No.                     1.31e+07\n",
      "==============================================================================\n",
      "\n",
      "Notes:\n",
      "[1] Standard Errors assume that the covariance matrix of the errors is correctly specified.\n",
      "[2] The condition number is large, 1.31e+07. This might indicate that there are\n",
      "strong multicollinearity or other numerical problems.\n"
     ]
    }
   ],
   "source": [
    "\n",
    "df_race = df_race.dropna()\n",
    "X = df_race[['tract_minority_population_percent', \"binary_race\", \"debt_to_income_ratio\", 'income', \"property_value\", 'applicant_sex',\n",
    "             'age_categorical', 'applicant_credit_score_type', 'loan_to_value_ratio', 'loan_type', 'loan_purpose', 'lien_status', \n",
    "             'occupancy_type', 'aus-1']]\n",
    "\n",
    "y = df_race['interest_rate']\n",
    "\n",
    "X = sm.add_constant(X)\n",
    "\n",
    "model = sm.OLS(y, X).fit()\n",
    "\n",
    "print(model.summary())"
   ]
  },
  {
   "cell_type": "code",
   "execution_count": 120,
   "id": "e94819ea",
   "metadata": {},
   "outputs": [
    {
     "name": "stdout",
     "output_type": "stream",
     "text": [
      "<class 'pandas.core.frame.DataFrame'>\n",
      "Index: 50031 entries, 0 to 233140\n",
      "Data columns (total 24 columns):\n",
      " #   Column                             Non-Null Count  Dtype  \n",
      "---  ------                             --------------  -----  \n",
      " 0   action_taken                       50031 non-null  int64  \n",
      " 1   derived_race                       50031 non-null  object \n",
      " 2   derived_ethnicity                  50031 non-null  object \n",
      " 3   applicant_sex                      50031 non-null  int64  \n",
      " 4   applicant_age                      50031 non-null  object \n",
      " 5   income                             50031 non-null  float64\n",
      " 6   debt_to_income_ratio               50031 non-null  float64\n",
      " 7   applicant_credit_score_type        50031 non-null  int64  \n",
      " 8   loan_amount                        50031 non-null  float64\n",
      " 9   loan_to_value_ratio                50031 non-null  float64\n",
      " 10  interest_rate                      50031 non-null  float64\n",
      " 11  rate_spread                        50031 non-null  object \n",
      " 12  loan_type                          50031 non-null  int64  \n",
      " 13  loan_purpose                       50031 non-null  int64  \n",
      " 14  lien_status                        50031 non-null  int64  \n",
      " 15  property_value                     50031 non-null  float64\n",
      " 16  occupancy_type                     50031 non-null  int64  \n",
      " 17  tract_minority_population_percent  50031 non-null  float64\n",
      " 18  aus-1                              50031 non-null  int64  \n",
      " 19  denial_reason-1                    50031 non-null  int64  \n",
      " 20  binary_race                        50031 non-null  int64  \n",
      " 21  binary_ethnicity                   50031 non-null  int64  \n",
      " 22  binary_denied                      50031 non-null  int64  \n",
      " 23  age_categorical                    50031 non-null  float64\n",
      "dtypes: float64(8), int64(12), object(4)\n",
      "memory usage: 9.5+ MB\n"
     ]
    }
   ],
   "source": [
    "df_race.info()"
   ]
  },
  {
   "cell_type": "code",
   "execution_count": null,
   "id": "90b659fb",
   "metadata": {},
   "outputs": [
    {
     "data": {
      "text/plain": [
       "array([1.054, -0.232, -0.038, ..., -1.96, -1.68, -2.24], dtype=object)"
      ]
     },
     "execution_count": 124,
     "metadata": {},
     "output_type": "execute_result"
    }
   ],
   "source": []
  },
  {
   "cell_type": "code",
   "execution_count": 126,
   "id": "e937d79b",
   "metadata": {},
   "outputs": [],
   "source": [
    "df_race = df_race[df_race['rate_spread'] != 'Exempt']\n",
    "df_race['rate_spread'] = pd.to_numeric(df_race['rate_spread'])"
   ]
  },
  {
   "cell_type": "code",
   "execution_count": 127,
   "id": "cde3f3f0",
   "metadata": {},
   "outputs": [
    {
     "name": "stdout",
     "output_type": "stream",
     "text": [
      "                            OLS Regression Results                            \n",
      "==============================================================================\n",
      "Dep. Variable:            rate_spread   R-squared:                       0.043\n",
      "Model:                            OLS   Adj. R-squared:                  0.043\n",
      "Method:                 Least Squares   F-statistic:                     161.2\n",
      "Date:                Sat, 05 Apr 2025   Prob (F-statistic):               0.00\n",
      "Time:                        14:51:55   Log-Likelihood:                -89164.\n",
      "No. Observations:               50030   AIC:                         1.784e+05\n",
      "Df Residuals:                   50015   BIC:                         1.785e+05\n",
      "Df Model:                          14                                         \n",
      "Covariance Type:            nonrobust                                         \n",
      "=====================================================================================================\n",
      "                                        coef    std err          t      P>|t|      [0.025      0.975]\n",
      "-----------------------------------------------------------------------------------------------------\n",
      "const                                -2.0479      0.096    -21.333      0.000      -2.236      -1.860\n",
      "tract_minority_population_percent     0.0024      0.000      7.766      0.000       0.002       0.003\n",
      "binary_race                          -0.0157      0.025     -0.640      0.522      -0.064       0.032\n",
      "debt_to_income_ratio                  0.0151      0.002      9.137      0.000       0.012       0.018\n",
      "income                             -6.34e-05   1.59e-05     -3.984      0.000   -9.46e-05   -3.22e-05\n",
      "property_value                    -5.033e-08   1.04e-08     -4.834      0.000   -7.07e-08   -2.99e-08\n",
      "applicant_sex                         0.0407      0.013      3.211      0.001       0.016       0.066\n",
      "age_categorical                      -0.0112      0.005     -2.373      0.018      -0.020      -0.002\n",
      "applicant_credit_score_type           0.0157      0.003      6.208      0.000       0.011       0.021\n",
      "loan_to_value_ratio                   0.0063      0.000     16.747      0.000       0.006       0.007\n",
      "loan_type                             0.1014      0.016      6.176      0.000       0.069       0.134\n",
      "loan_purpose                          0.0082      0.001     14.222      0.000       0.007       0.009\n",
      "lien_status                           0.6782      0.020     33.523      0.000       0.639       0.718\n",
      "occupancy_type                        0.3084      0.025     12.163      0.000       0.259       0.358\n",
      "aus-1                                -0.0445      0.004    -10.997      0.000      -0.052      -0.037\n",
      "==============================================================================\n",
      "Omnibus:                    19624.896   Durbin-Watson:                   1.190\n",
      "Prob(Omnibus):                  0.000   Jarque-Bera (JB):           202274.344\n",
      "Skew:                          -1.598   Prob(JB):                         0.00\n",
      "Kurtosis:                      12.318   Cond. No.                     1.31e+07\n",
      "==============================================================================\n",
      "\n",
      "Notes:\n",
      "[1] Standard Errors assume that the covariance matrix of the errors is correctly specified.\n",
      "[2] The condition number is large, 1.31e+07. This might indicate that there are\n",
      "strong multicollinearity or other numerical problems.\n"
     ]
    }
   ],
   "source": [
    "\n",
    "df_race = df_race.dropna()\n",
    "X = df_race[['tract_minority_population_percent', \"binary_race\", \"debt_to_income_ratio\", 'income', \"property_value\", 'applicant_sex',\n",
    "             'age_categorical', 'applicant_credit_score_type', 'loan_to_value_ratio', 'loan_type', 'loan_purpose', 'lien_status', \n",
    "             'occupancy_type', 'aus-1']]\n",
    "\n",
    "y = df_race['rate_spread']\n",
    "\n",
    "X = sm.add_constant(X)\n",
    "\n",
    "model = sm.OLS(y, X).fit()\n",
    "\n",
    "print(model.summary())"
   ]
  },
  {
   "cell_type": "markdown",
   "id": "ce132fb5",
   "metadata": {},
   "source": [
    "# Recreation of model \n",
    "Train a model based on outcome (denial vs acceptance) using similar predictors\n",
    "Look for bias in the outcomes of the model -> conclusion about biased data creating biased models in future "
   ]
  },
  {
   "cell_type": "code",
   "execution_count": 40,
   "id": "510d1bca-244a-4def-9ac7-b4e8397af275",
   "metadata": {},
   "outputs": [],
   "source": [
    "from sklearn.model_selection import train_test_split\n",
    "\n",
    "# select columns that were explicitly approved or denied\n",
    "filtered_df = df.loc[(df[\"action_taken\"] == 1) | (df[\"action_taken\"] == 2) | (df[\"action_taken\"] == 7)]\n",
    "\n",
    "# remove na values\n",
    "filtered_df = filtered_df.dropna(subset=[\"debt_to_income_ratio\",\"income\",\"loan_to_value_ratio\",\"loan_amount\",\"property_value\"])\n",
    "\n",
    "# create binary accepted column\n",
    "filtered_df[\"binary_accepted\"] = True\n",
    "filtered_df.loc[filtered_df[\"action_taken\"] == 7, 'binary_accepted'] = False\n",
    "counts = filtered_df['binary_accepted'].value_counts()\n",
    "\n",
    "# split data\n",
    "\n",
    "X = filtered_df[[\"debt_to_income_ratio\",\"income\",\"loan_to_value_ratio\",\"loan_amount\",\"property_value\"]]\n",
    "y = filtered_df[\"binary_accepted\"]\n",
    "\n",
    "X_train, X_test, y_train, y_test = train_test_split(X, y, test_size=0.2)"
   ]
  },
  {
   "cell_type": "code",
   "execution_count": 41,
   "id": "b7f9c3bc-f195-4037-ad91-83b5c76d5201",
   "metadata": {},
   "outputs": [],
   "source": [
    "from sklearn.linear_model import LinearRegression\n",
    "model = sk.linear_model.LinearRegression().fit(X,y)"
   ]
  },
  {
   "cell_type": "code",
   "execution_count": 42,
   "id": "b9f1acc0-28bd-4232-b9c9-840d0215e9e7",
   "metadata": {},
   "outputs": [
    {
     "name": "stdout",
     "output_type": "stream",
     "text": [
      "0.0006463313204776444\n"
     ]
    }
   ],
   "source": [
    "# report accuracy on test set\n",
    "print(model.score(X_test, y_test)) # Output: 1.0"
   ]
  }
 ],
 "metadata": {
  "kernelspec": {
   "display_name": "cmpu-250",
   "language": "python",
   "name": "python3"
  },
  "language_info": {
   "codemirror_mode": {
    "name": "ipython",
    "version": 3
   },
   "file_extension": ".py",
   "mimetype": "text/x-python",
   "name": "python",
   "nbconvert_exporter": "python",
   "pygments_lexer": "ipython3",
   "version": "3.12.9"
  }
 },
 "nbformat": 4,
 "nbformat_minor": 5
}
